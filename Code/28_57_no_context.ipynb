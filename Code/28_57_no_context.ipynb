{
 "cells": [
  {
   "cell_type": "markdown",
   "metadata": {
    "id": "vKDiY2Gqh_Ka"
   },
   "source": [
    "\n",
    "# FIne-tune on 3 epoch's"
   ]
  },
  {
   "cell_type": "code",
   "execution_count": null,
   "metadata": {
    "colab": {
     "base_uri": "https://localhost:8080/"
    },
    "id": "jswz2aXrHHA5",
    "outputId": "f5112f08-fa71-4c74-82b4-5a10d2e3573c"
   },
   "outputs": [
    {
     "name": "stdout",
     "output_type": "stream",
     "text": [
      "/content/mbart\n"
     ]
    }
   ],
   "source": [
    "!mkdir -p \"mbart\"\n",
    "%cd mbart"
   ]
  },
  {
   "cell_type": "code",
   "execution_count": 1,
   "metadata": {
    "colab": {
     "base_uri": "https://localhost:8080/"
    },
    "id": "dv-0ev0q7M0Q",
    "outputId": "2b4ef085-bc60-413a-a4e1-db8dfca98f4a"
   },
   "outputs": [
    {
     "name": "stdout",
     "output_type": "stream",
     "text": [
      "Requirement already satisfied: transformers in c:\\users\\mahendranath\\anaconda3\\lib\\site-packages (4.26.1)\n",
      "Requirement already satisfied: filelock in c:\\users\\mahendranath\\anaconda3\\lib\\site-packages (from transformers) (3.9.0)\n",
      "Requirement already satisfied: huggingface-hub<1.0,>=0.11.0 in c:\\users\\mahendranath\\anaconda3\\lib\\site-packages (from transformers) (0.18.0)\n",
      "Requirement already satisfied: numpy>=1.17 in c:\\users\\mahendranath\\anaconda3\\lib\\site-packages (from transformers) (1.20.1)\n",
      "Requirement already satisfied: packaging>=20.0 in c:\\users\\mahendranath\\anaconda3\\lib\\site-packages (from transformers) (22.0)\n",
      "Requirement already satisfied: pyyaml>=5.1 in c:\\users\\mahendranath\\anaconda3\\lib\\site-packages (from transformers) (6.0)\n",
      "Requirement already satisfied: regex!=2019.12.17 in c:\\users\\mahendranath\\anaconda3\\lib\\site-packages (from transformers) (2022.7.9)\n",
      "Requirement already satisfied: requests in c:\\users\\mahendranath\\anaconda3\\lib\\site-packages (from transformers) (2.28.1)\n",
      "Requirement already satisfied: tokenizers!=0.11.3,<0.14,>=0.11.1 in c:\\users\\mahendranath\\anaconda3\\lib\\site-packages (from transformers) (0.13.2)\n",
      "Requirement already satisfied: tqdm>=4.27 in c:\\users\\mahendranath\\anaconda3\\lib\\site-packages (from transformers) (4.64.1)\n",
      "Requirement already satisfied: fsspec>=2023.5.0 in c:\\users\\mahendranath\\anaconda3\\lib\\site-packages (from huggingface-hub<1.0,>=0.11.0->transformers) (2023.6.0)\n",
      "Requirement already satisfied: typing-extensions>=3.7.4.3 in c:\\users\\mahendranath\\anaconda3\\lib\\site-packages (from huggingface-hub<1.0,>=0.11.0->transformers) (4.4.0)\n",
      "Requirement already satisfied: colorama in c:\\users\\mahendranath\\anaconda3\\lib\\site-packages (from tqdm>=4.27->transformers) (0.4.6)\n",
      "Requirement already satisfied: charset-normalizer<3,>=2 in c:\\users\\mahendranath\\anaconda3\\lib\\site-packages (from requests->transformers) (2.0.4)\n",
      "Requirement already satisfied: idna<4,>=2.5 in c:\\users\\mahendranath\\anaconda3\\lib\\site-packages (from requests->transformers) (3.4)\n",
      "Requirement already satisfied: urllib3<1.27,>=1.21.1 in c:\\users\\mahendranath\\anaconda3\\lib\\site-packages (from requests->transformers) (1.26.14)\n",
      "Requirement already satisfied: certifi>=2017.4.17 in c:\\users\\mahendranath\\anaconda3\\lib\\site-packages (from requests->transformers) (2022.12.7)\n",
      "Requirement already satisfied: datasets in c:\\users\\mahendranath\\anaconda3\\lib\\site-packages (2.14.5)\n",
      "Requirement already satisfied: numpy>=1.17 in c:\\users\\mahendranath\\anaconda3\\lib\\site-packages (from datasets) (1.20.1)\n",
      "Requirement already satisfied: pyarrow>=8.0.0 in c:\\users\\mahendranath\\anaconda3\\lib\\site-packages (from datasets) (10.0.1)\n",
      "Requirement already satisfied: dill<0.3.8,>=0.3.0 in c:\\users\\mahendranath\\anaconda3\\lib\\site-packages (from datasets) (0.3.7)\n",
      "Requirement already satisfied: pandas in c:\\users\\mahendranath\\anaconda3\\lib\\site-packages (from datasets) (1.4.4)\n",
      "Requirement already satisfied: requests>=2.19.0 in c:\\users\\mahendranath\\anaconda3\\lib\\site-packages (from datasets) (2.28.1)\n",
      "Requirement already satisfied: tqdm>=4.62.1 in c:\\users\\mahendranath\\anaconda3\\lib\\site-packages (from datasets) (4.64.1)\n",
      "Requirement already satisfied: xxhash in c:\\users\\mahendranath\\anaconda3\\lib\\site-packages (from datasets) (3.4.1)\n",
      "Requirement already satisfied: multiprocess in c:\\users\\mahendranath\\anaconda3\\lib\\site-packages (from datasets) (0.70.15)\n",
      "Requirement already satisfied: fsspec<2023.9.0,>=2023.1.0 in c:\\users\\mahendranath\\anaconda3\\lib\\site-packages (from fsspec[http]<2023.9.0,>=2023.1.0->datasets) (2023.6.0)\n",
      "Requirement already satisfied: aiohttp in c:\\users\\mahendranath\\anaconda3\\lib\\site-packages (from datasets) (3.8.3)\n",
      "Requirement already satisfied: huggingface-hub<1.0.0,>=0.14.0 in c:\\users\\mahendranath\\anaconda3\\lib\\site-packages (from datasets) (0.18.0)\n",
      "Requirement already satisfied: packaging in c:\\users\\mahendranath\\anaconda3\\lib\\site-packages (from datasets) (22.0)\n",
      "Requirement already satisfied: pyyaml>=5.1 in c:\\users\\mahendranath\\anaconda3\\lib\\site-packages (from datasets) (6.0)\n",
      "Requirement already satisfied: attrs>=17.3.0 in c:\\users\\mahendranath\\anaconda3\\lib\\site-packages (from aiohttp->datasets) (22.1.0)\n",
      "Requirement already satisfied: charset-normalizer<3.0,>=2.0 in c:\\users\\mahendranath\\anaconda3\\lib\\site-packages (from aiohttp->datasets) (2.0.4)\n",
      "Requirement already satisfied: multidict<7.0,>=4.5 in c:\\users\\mahendranath\\anaconda3\\lib\\site-packages (from aiohttp->datasets) (6.0.2)\n",
      "Requirement already satisfied: async-timeout<5.0,>=4.0.0a3 in c:\\users\\mahendranath\\anaconda3\\lib\\site-packages (from aiohttp->datasets) (4.0.2)\n",
      "Requirement already satisfied: yarl<2.0,>=1.0 in c:\\users\\mahendranath\\anaconda3\\lib\\site-packages (from aiohttp->datasets) (1.8.1)\n",
      "Requirement already satisfied: frozenlist>=1.1.1 in c:\\users\\mahendranath\\anaconda3\\lib\\site-packages (from aiohttp->datasets) (1.3.3)\n",
      "Requirement already satisfied: aiosignal>=1.1.2 in c:\\users\\mahendranath\\anaconda3\\lib\\site-packages (from aiohttp->datasets) (1.2.0)\n",
      "Requirement already satisfied: filelock in c:\\users\\mahendranath\\anaconda3\\lib\\site-packages (from huggingface-hub<1.0.0,>=0.14.0->datasets) (3.9.0)\n",
      "Requirement already satisfied: typing-extensions>=3.7.4.3 in c:\\users\\mahendranath\\anaconda3\\lib\\site-packages (from huggingface-hub<1.0.0,>=0.14.0->datasets) (4.4.0)\n",
      "Requirement already satisfied: idna<4,>=2.5 in c:\\users\\mahendranath\\anaconda3\\lib\\site-packages (from requests>=2.19.0->datasets) (3.4)\n",
      "Requirement already satisfied: urllib3<1.27,>=1.21.1 in c:\\users\\mahendranath\\anaconda3\\lib\\site-packages (from requests>=2.19.0->datasets) (1.26.14)\n",
      "Requirement already satisfied: certifi>=2017.4.17 in c:\\users\\mahendranath\\anaconda3\\lib\\site-packages (from requests>=2.19.0->datasets) (2022.12.7)\n",
      "Requirement already satisfied: colorama in c:\\users\\mahendranath\\anaconda3\\lib\\site-packages (from tqdm>=4.62.1->datasets) (0.4.6)\n",
      "Requirement already satisfied: python-dateutil>=2.8.1 in c:\\users\\mahendranath\\anaconda3\\lib\\site-packages (from pandas->datasets) (2.8.2)\n",
      "Requirement already satisfied: pytz>=2020.1 in c:\\users\\mahendranath\\anaconda3\\lib\\site-packages (from pandas->datasets) (2022.7)\n",
      "Requirement already satisfied: six>=1.5 in c:\\users\\mahendranath\\anaconda3\\lib\\site-packages (from python-dateutil>=2.8.1->pandas->datasets) (1.16.0)\n",
      "Requirement already satisfied: sacrebleu in c:\\users\\mahendranath\\anaconda3\\lib\\site-packages (2.3.1)\n",
      "Requirement already satisfied: portalocker in c:\\users\\mahendranath\\anaconda3\\lib\\site-packages (from sacrebleu) (2.7.0)\n",
      "Requirement already satisfied: regex in c:\\users\\mahendranath\\anaconda3\\lib\\site-packages (from sacrebleu) (2022.7.9)\n",
      "Requirement already satisfied: tabulate>=0.8.9 in c:\\users\\mahendranath\\anaconda3\\lib\\site-packages (from sacrebleu) (0.9.0)\n",
      "Requirement already satisfied: numpy>=1.17 in c:\\users\\mahendranath\\anaconda3\\lib\\site-packages (from sacrebleu) (1.20.1)\n",
      "Requirement already satisfied: colorama in c:\\users\\mahendranath\\anaconda3\\lib\\site-packages (from sacrebleu) (0.4.6)\n",
      "Requirement already satisfied: lxml in c:\\users\\mahendranath\\anaconda3\\lib\\site-packages (from sacrebleu) (4.9.1)\n",
      "Requirement already satisfied: pywin32>=226 in c:\\users\\mahendranath\\anaconda3\\lib\\site-packages (from portalocker->sacrebleu) (305.1)\n",
      "Requirement already satisfied: sentencepiece in c:\\users\\mahendranath\\anaconda3\\lib\\site-packages (0.1.95)\n",
      "Requirement already satisfied: evaluate in c:\\users\\mahendranath\\anaconda3\\lib\\site-packages (0.4.1)\n",
      "Requirement already satisfied: datasets>=2.0.0 in c:\\users\\mahendranath\\anaconda3\\lib\\site-packages (from evaluate) (2.14.5)\n",
      "Requirement already satisfied: numpy>=1.17 in c:\\users\\mahendranath\\anaconda3\\lib\\site-packages (from evaluate) (1.20.1)\n",
      "Requirement already satisfied: dill in c:\\users\\mahendranath\\anaconda3\\lib\\site-packages (from evaluate) (0.3.7)\n",
      "Requirement already satisfied: pandas in c:\\users\\mahendranath\\anaconda3\\lib\\site-packages (from evaluate) (1.4.4)\n",
      "Requirement already satisfied: requests>=2.19.0 in c:\\users\\mahendranath\\anaconda3\\lib\\site-packages (from evaluate) (2.28.1)\n",
      "Requirement already satisfied: tqdm>=4.62.1 in c:\\users\\mahendranath\\anaconda3\\lib\\site-packages (from evaluate) (4.64.1)\n",
      "Requirement already satisfied: xxhash in c:\\users\\mahendranath\\anaconda3\\lib\\site-packages (from evaluate) (3.4.1)\n",
      "Requirement already satisfied: multiprocess in c:\\users\\mahendranath\\anaconda3\\lib\\site-packages (from evaluate) (0.70.15)\n",
      "Requirement already satisfied: fsspec>=2021.05.0 in c:\\users\\mahendranath\\anaconda3\\lib\\site-packages (from fsspec[http]>=2021.05.0->evaluate) (2023.6.0)\n",
      "Requirement already satisfied: huggingface-hub>=0.7.0 in c:\\users\\mahendranath\\anaconda3\\lib\\site-packages (from evaluate) (0.18.0)\n",
      "Requirement already satisfied: packaging in c:\\users\\mahendranath\\anaconda3\\lib\\site-packages (from evaluate) (22.0)\n",
      "Requirement already satisfied: responses<0.19 in c:\\users\\mahendranath\\anaconda3\\lib\\site-packages (from evaluate) (0.18.0)\n",
      "Requirement already satisfied: pyarrow>=8.0.0 in c:\\users\\mahendranath\\anaconda3\\lib\\site-packages (from datasets>=2.0.0->evaluate) (10.0.1)\n",
      "Requirement already satisfied: aiohttp in c:\\users\\mahendranath\\anaconda3\\lib\\site-packages (from datasets>=2.0.0->evaluate) (3.8.3)\n",
      "Requirement already satisfied: pyyaml>=5.1 in c:\\users\\mahendranath\\anaconda3\\lib\\site-packages (from datasets>=2.0.0->evaluate) (6.0)\n",
      "Requirement already satisfied: filelock in c:\\users\\mahendranath\\anaconda3\\lib\\site-packages (from huggingface-hub>=0.7.0->evaluate) (3.9.0)\n",
      "Requirement already satisfied: typing-extensions>=3.7.4.3 in c:\\users\\mahendranath\\anaconda3\\lib\\site-packages (from huggingface-hub>=0.7.0->evaluate) (4.4.0)\n",
      "Requirement already satisfied: charset-normalizer<3,>=2 in c:\\users\\mahendranath\\anaconda3\\lib\\site-packages (from requests>=2.19.0->evaluate) (2.0.4)\n",
      "Requirement already satisfied: idna<4,>=2.5 in c:\\users\\mahendranath\\anaconda3\\lib\\site-packages (from requests>=2.19.0->evaluate) (3.4)\n",
      "Requirement already satisfied: urllib3<1.27,>=1.21.1 in c:\\users\\mahendranath\\anaconda3\\lib\\site-packages (from requests>=2.19.0->evaluate) (1.26.14)\n",
      "Requirement already satisfied: certifi>=2017.4.17 in c:\\users\\mahendranath\\anaconda3\\lib\\site-packages (from requests>=2.19.0->evaluate) (2022.12.7)\n",
      "Requirement already satisfied: colorama in c:\\users\\mahendranath\\anaconda3\\lib\\site-packages (from tqdm>=4.62.1->evaluate) (0.4.6)\n",
      "Requirement already satisfied: python-dateutil>=2.8.1 in c:\\users\\mahendranath\\anaconda3\\lib\\site-packages (from pandas->evaluate) (2.8.2)\n",
      "Requirement already satisfied: pytz>=2020.1 in c:\\users\\mahendranath\\anaconda3\\lib\\site-packages (from pandas->evaluate) (2022.7)\n",
      "Requirement already satisfied: attrs>=17.3.0 in c:\\users\\mahendranath\\anaconda3\\lib\\site-packages (from aiohttp->datasets>=2.0.0->evaluate) (22.1.0)\n",
      "Requirement already satisfied: multidict<7.0,>=4.5 in c:\\users\\mahendranath\\anaconda3\\lib\\site-packages (from aiohttp->datasets>=2.0.0->evaluate) (6.0.2)\n",
      "Requirement already satisfied: async-timeout<5.0,>=4.0.0a3 in c:\\users\\mahendranath\\anaconda3\\lib\\site-packages (from aiohttp->datasets>=2.0.0->evaluate) (4.0.2)\n",
      "Requirement already satisfied: yarl<2.0,>=1.0 in c:\\users\\mahendranath\\anaconda3\\lib\\site-packages (from aiohttp->datasets>=2.0.0->evaluate) (1.8.1)\n",
      "Requirement already satisfied: frozenlist>=1.1.1 in c:\\users\\mahendranath\\anaconda3\\lib\\site-packages (from aiohttp->datasets>=2.0.0->evaluate) (1.3.3)\n",
      "Requirement already satisfied: aiosignal>=1.1.2 in c:\\users\\mahendranath\\anaconda3\\lib\\site-packages (from aiohttp->datasets>=2.0.0->evaluate) (1.2.0)\n",
      "Requirement already satisfied: six>=1.5 in c:\\users\\mahendranath\\anaconda3\\lib\\site-packages (from python-dateutil>=2.8.1->pandas->evaluate) (1.16.0)\n"
     ]
    },
    {
     "name": "stdout",
     "output_type": "stream",
     "text": [
      "Requirement already satisfied: jiwer in c:\\users\\mahendranath\\anaconda3\\lib\\site-packages (3.0.3)\n",
      "Requirement already satisfied: click<9.0.0,>=8.1.3 in c:\\users\\mahendranath\\anaconda3\\lib\\site-packages (from jiwer) (8.1.7)\n",
      "Requirement already satisfied: rapidfuzz<4,>=3 in c:\\users\\mahendranath\\anaconda3\\lib\\site-packages (from jiwer) (3.4.0)\n",
      "Requirement already satisfied: colorama in c:\\users\\mahendranath\\anaconda3\\lib\\site-packages (from click<9.0.0,>=8.1.3->jiwer) (0.4.6)\n"
     ]
    }
   ],
   "source": [
    "!pip install transformers\n",
    "!pip install datasets\n",
    "!pip install sacrebleu\n",
    "!pip install sentencepiece\n",
    "!pip install evaluate\n",
    "!pip install jiwer"
   ]
  },
  {
   "cell_type": "code",
   "execution_count": 2,
   "metadata": {
    "id": "QQyf5uDiG2WZ"
   },
   "outputs": [],
   "source": [
    "from transformers import MBartForConditionalGeneration, MBart50TokenizerFast, Seq2SeqTrainingArguments, Seq2SeqTrainer\n",
    "from transformers import get_linear_schedule_with_warmup\n",
    "from datasets import load_dataset, load_metric\n",
    "import torch\n",
    "from sacrebleu import corpus_bleu\n",
    "from sacrebleu import corpus_ter\n",
    "import pandas as pd\n",
    "from datasets import Dataset\n",
    "import evaluate\n",
    "import nltk\n",
    "import unicodedata\n",
    "import jiwer"
   ]
  },
  {
   "cell_type": "code",
   "execution_count": 3,
   "metadata": {
    "id": "3rJ6gdtgzE-m"
   },
   "outputs": [],
   "source": [
    "def preprocess_text(text):\n",
    "    # Lowercase the text\n",
    "    text = text.lower()\n",
    "    # Normalize unicode characters\n",
    "    text = unicodedata.normalize(\"NFKD\", text)\n",
    "    return text"
   ]
  },
  {
   "cell_type": "code",
   "execution_count": null,
   "metadata": {
    "id": "P6KetY9SG2YX"
   },
   "outputs": [],
   "source": [
    "# Tokenizer\n",
    "tokenizer = MBart50TokenizerFast.from_pretrained(\"facebook/mbart-large-50-many-to-many-mmt\")\n",
    "\n",
    "# Load data from files\n",
    "with open(\"train.en\", encoding=\"utf-8\") as train_en, \\\n",
    "     open(\"train.hi\", encoding=\"utf-8\") as train_hi:\n",
    "\n",
    "    # Read the lines from each file\n",
    "    lines_en = train_en.readlines()\n",
    "    lines_hi = train_hi.readlines()\n",
    "\n",
    "    # Combine the lines into pairs and preprocess them\n",
    "    data = [(preprocess_text(hi.strip()), preprocess_text(en.strip())) for hi, en in zip(lines_hi, lines_en)]\n",
    "\n",
    "# Create a pandas DataFrame\n",
    "train_df = pd.DataFrame(data, columns=[\"input_text\",\"target_text\"])\n",
    "\n",
    "# Load data from files\n",
    "with open(\"test.en\", encoding=\"utf-8\") as test_en, \\\n",
    "     open(\"test.hi\", encoding=\"utf-8\") as test_hi:\n",
    "\n",
    "    # Read the lines from each file\n",
    "    lines_en = test_en.readlines()\n",
    "    lines_hi = test_hi.readlines()\n",
    "\n",
    "    # Combine the lines into pairs and preprocess them\n",
    "    data = [(preprocess_text(hi.strip()), preprocess_text(en.strip())) for hi, en in zip(lines_hi, lines_en)]\n",
    "\n",
    "# Create a pandas DataFrame\n",
    "test_df = pd.DataFrame(data, columns=[\"input_text\",\"target_text\"])\n",
    "\n",
    "# Load data from files\n",
    "with open(\"valid.en\", encoding=\"utf-8\") as valid_en, \\\n",
    "     open(\"valid.hi\", encoding=\"utf-8\") as valid_hi:\n",
    "\n",
    "    # Read the lines from each file\n",
    "    lines_en = valid_en.readlines()\n",
    "    lines_hi = valid_hi.readlines()\n",
    "\n",
    "    # Combine the lines into pairs and preprocess them\n",
    "    data = [(preprocess_text(hi.strip()), preprocess_text(en.strip())) for hi, en in zip(lines_hi, lines_en)]\n",
    "\n",
    "# Create a pandas DataFrame\n",
    "valid_df = pd.DataFrame(data, columns=[\"input_text\",\"target_text\"])\n",
    "\n",
    "# print(train_df)\n",
    "# print(test_df)\n",
    "# print(valid_df)\n",
    "\n",
    "# Convert DataFrames to Datasets\n",
    "train_dataset = Dataset.from_pandas(train_df)\n",
    "test_dataset = Dataset.from_pandas(test_df)\n",
    "valid_dataset = Dataset.from_pandas(valid_df)"
   ]
  },
  {
   "cell_type": "code",
   "execution_count": 4,
   "metadata": {
    "id": "UXhQSsCDJTp-"
   },
   "outputs": [],
   "source": [
    "#Tokenize function\n",
    "def tokenize_data(example):\n",
    "    input = tokenizer(example[\"input_text\"], max_length=128, truncation=True, padding=\"max_length\")\n",
    "    target = tokenizer(example[\"target_text\"], max_length=128, truncation=True, padding=\"max_length\")\n",
    "    return {\"input_ids\": input[\"input_ids\"],\n",
    "            \"attention_mask\": input[\"attention_mask\"],\n",
    "            \"labels\": target[\"input_ids\"]}\n"
   ]
  },
  {
   "cell_type": "code",
   "execution_count": null,
   "metadata": {
    "colab": {
     "base_uri": "https://localhost:8080/",
     "height": 17,
     "referenced_widgets": [
      "52d11f3d71f34d4cb02c306e39553bd8",
      "76cb6df5cab3425f957f3f051aea6103",
      "5d5f7a9a24734d50b621991be76ed4d5",
      "b0680bd3c8e24f5e9cc43c81e20d886a",
      "4f9a533b70b54cdfa00ffd289d56b273",
      "96a49fd9de15432eaf30f8038eaf9a79",
      "7eb8b4c0c10140a1b937091d9290b0a5",
      "8fe3802333904b19b6eb581f549a7515",
      "002a6d7b942b41cc8fb38dc3d3fc8753",
      "fc7b181471604ebc94b2c561e88cf969",
      "de5bd364fdc241c3832b87bf740f8d75",
      "b70a4c1dc2014ec197f1e2c8da8e5b62",
      "fc141c350a6141b495eb074606f2af08",
      "317a7c03332241fe8aa4f83e17944b43",
      "d2b6e6ff15fb40698ee43480322d5868",
      "425cd41fb8f440849aa7dd719109c100",
      "744c1d0910b44566a58151c3cc46ee07",
      "70160516a5904c5282b9ba13bf2daae6",
      "2f132cc8241a4927b7a6651b4d8da89a",
      "cc3c349465774d8a9d0f8cdc6d73f635",
      "7236f5a1f4124ccc9244747b421accd2",
      "2a853685b53640d98f199177ff9b5728"
     ]
    },
    "id": "NVnujPzxJTtI",
    "outputId": "e9353065-517f-4a1b-a3ad-0d9315a59b4c"
   },
   "outputs": [
    {
     "data": {
      "application/vnd.jupyter.widget-view+json": {
       "model_id": "52d11f3d71f34d4cb02c306e39553bd8",
       "version_major": 2,
       "version_minor": 0
      },
      "text/plain": [
       "Map:   0%|          | 0/21293 [00:00<?, ? examples/s]"
      ]
     },
     "metadata": {},
     "output_type": "display_data"
    },
    {
     "data": {
      "application/vnd.jupyter.widget-view+json": {
       "model_id": "b70a4c1dc2014ec197f1e2c8da8e5b62",
       "version_major": 2,
       "version_minor": 0
      },
      "text/plain": [
       "Map:   0%|          | 0/942 [00:00<?, ? examples/s]"
      ]
     },
     "metadata": {},
     "output_type": "display_data"
    }
   ],
   "source": [
    "# Map the tokenization function to the datasets\n",
    "tokenized_train_dataset = train_dataset.map(tokenize_data, batched=True, remove_columns=[\"input_text\", \"target_text\"])\n",
    "tokenized_valid_dataset = valid_dataset.map(tokenize_data, batched=True, remove_columns=[\"input_text\", \"target_text\"])"
   ]
  },
  {
   "cell_type": "code",
   "execution_count": null,
   "metadata": {
    "id": "YbcEaD4GJXPX"
   },
   "outputs": [],
   "source": []
  },
  {
   "cell_type": "code",
   "execution_count": null,
   "metadata": {
    "colab": {
     "base_uri": "https://localhost:8080/",
     "height": 81,
     "referenced_widgets": [
      "b9276c1853794da6a4cf1b5bbf397bcd",
      "ee897db29a6745e6be7d0c870549aaeb",
      "064c5aae6a5b48de85a6e6cbf97542d5",
      "b19f5ab108be400c95cfc23f43441a78",
      "89b8ad1b954b4446badb4fb5960d8f53",
      "72c5bb4b76724dcf8d7b46311d367833",
      "c5692bb6be694330bc5bc349dd723e6a",
      "6e93e4d42718409db3236fc9953ab6ac",
      "3482f79229484bf78073e7a08a8034b9",
      "0d4deda2d5d845e7ba4c45bd8ed562a8",
      "34e7013276e34d87a396ffc0987d344a",
      "85edfeabf70a4cb08ee7bd7f3fa58993",
      "4c4273d90b78468086690cecd37d4e9f",
      "3df6b8d412dc4c4cbb89fa2cd6fcc4c0",
      "5884852775114314879d8b6ed12e3081",
      "c39e888e753348a19d8975c0d374eba1",
      "075407b3a53542b28933595a8d29fef9",
      "f392e37eadcf4d9cb7d8e362b8b67684",
      "a93eb023e7b34a639ea71f00b2f8680a",
      "803f58247ebc4e46acb4b36c3c09bd26",
      "ae264fb2dd4042c899ff54058289c756",
      "38d829cf6d8147b6a38b1b2ac0ab9425"
     ]
    },
    "id": "LXsY3OHy8yUf",
    "outputId": "01bc7c18-23f4-447e-ec1a-e0e0650edab5"
   },
   "outputs": [
    {
     "data": {
      "application/vnd.jupyter.widget-view+json": {
       "model_id": "b9276c1853794da6a4cf1b5bbf397bcd",
       "version_major": 2,
       "version_minor": 0
      },
      "text/plain": [
       "Downloading pytorch_model.bin:   0%|          | 0.00/2.44G [00:00<?, ?B/s]"
      ]
     },
     "metadata": {},
     "output_type": "display_data"
    },
    {
     "data": {
      "application/vnd.jupyter.widget-view+json": {
       "model_id": "85edfeabf70a4cb08ee7bd7f3fa58993",
       "version_major": 2,
       "version_minor": 0
      },
      "text/plain": [
       "Downloading (…)neration_config.json:   0%|          | 0.00/261 [00:00<?, ?B/s]"
      ]
     },
     "metadata": {},
     "output_type": "display_data"
    }
   ],
   "source": [
    "# Model\n",
    "model = MBartForConditionalGeneration.from_pretrained(\"facebook/mbart-large-50-many-to-many-mmt\")"
   ]
  },
  {
   "cell_type": "code",
   "execution_count": null,
   "metadata": {
    "id": "IhRxmI72RKH6"
   },
   "outputs": [],
   "source": [
    "training_args = Seq2SeqTrainingArguments(\n",
    "    output_dir=\"./results\",\n",
    "    per_device_train_batch_size=8,\n",
    "    per_device_eval_batch_size=8,\n",
    "    predict_with_generate=True,\n",
    "    evaluation_strategy=\"epoch\",\n",
    "    logging_dir=\"./logs\",\n",
    "    save_strategy=\"epoch\",\n",
    "    num_train_epochs=3,\n",
    "    learning_rate=1e-5, # lower learning rate\n",
    "    weight_decay=0.03,\n",
    "    warmup_steps=2000, # increase warmup steps\n",
    "    save_total_limit=3,\n",
    "    lr_scheduler_type=\"linear\", # use linear learning rate schedule\n",
    "    load_best_model_at_end=True,\n",
    "    metric_for_best_model=\"loss\", # use validation loss for early stopping\n",
    ")\n",
    "\n",
    "\n",
    "# Initialize the trainer\n",
    "trainer = Seq2SeqTrainer(\n",
    "    model=model,\n",
    "    args=training_args,\n",
    "    train_dataset=tokenized_train_dataset,\n",
    "    eval_dataset=tokenized_valid_dataset,\n",
    "    tokenizer=tokenizer,\n",
    ")\n",
    "\n",
    "# Start training\n",
    "trainer.train()"
   ]
  },
  {
   "cell_type": "markdown",
   "metadata": {
    "id": "rYlRuWpL9G54"
   },
   "source": [
    "Make sure to replace the dataset file paths with the paths to your dataset files. This code snippet will fine-tune the mBART model for 3 epochs with a learning rate of 5e-5 and a batch size of 4. You can adjust these hyperparameters based on your computational resources and the size of your dataset."
   ]
  },
  {
   "cell_type": "code",
   "execution_count": null,
   "metadata": {
    "colab": {
     "base_uri": "https://localhost:8080/"
    },
    "id": "kR8dkYE45J9P",
    "outputId": "53e324d2-5d2e-46c5-ef42-6c7bbf525be0"
   },
   "outputs": [
    {
     "name": "stdout",
     "output_type": "stream",
     "text": [
      "Drive already mounted at /content/drive; to attempt to forcibly remount, call drive.mount(\"/content/drive\", force_remount=True).\n"
     ]
    }
   ],
   "source": [
    "from google.colab import drive\n",
    "drive.mount('/content/drive')"
   ]
  },
  {
   "cell_type": "code",
   "execution_count": null,
   "metadata": {
    "colab": {
     "base_uri": "https://localhost:8080/"
    },
    "id": "ZKrNyB73HX6g",
    "outputId": "abff394e-186c-442d-bd82-9f2caf4a6fbf"
   },
   "outputs": [
    {
     "name": "stdout",
     "output_type": "stream",
     "text": [
      "/content/mbart\n"
     ]
    }
   ],
   "source": [
    "!mkdir -p mbart\n",
    "%cd \"mbart\""
   ]
  },
  {
   "cell_type": "code",
   "execution_count": null,
   "metadata": {
    "id": "yT0QfTtHHjNR"
   },
   "outputs": [],
   "source": [
    "!mkdir -p results"
   ]
  },
  {
   "cell_type": "code",
   "execution_count": null,
   "metadata": {
    "id": "3Qb3G40f493l"
   },
   "outputs": [],
   "source": [
    "# !cp -r '/content/mbart/results/checkpoint-7986' '/content/drive/MyDrive/latest_checkpoints'\n",
    "!cp -r '/content/drive/MyDrive/latest_checkpoints' '/content/mbart/results/checkpoint-7986'"
   ]
  },
  {
   "cell_type": "code",
   "execution_count": null,
   "metadata": {
    "colab": {
     "base_uri": "https://localhost:8080/"
    },
    "id": "veHYK_GqIOe2",
    "outputId": "9ae1cc5f-91d2-4744-a238-77e456e70bb3"
   },
   "outputs": [],
   "source": [
    "pwd"
   ]
  },
  {
   "cell_type": "code",
   "execution_count": 5,
   "metadata": {
    "id": "LJL89sis8yZB"
   },
   "outputs": [],
   "source": [
    "# Load the fine-tuned model and tokenizer\n",
    "model = MBartForConditionalGeneration.from_pretrained(\"./CMU_PHINC_HINGE_NEW_Cleaned_LC_28.57\")  # Replace XXXX with the desired checkpoint number\n",
    "tokenizer = MBart50TokenizerFast.from_pretrained(\"facebook/mbart-large-50-many-to-many-mmt\")"
   ]
  },
  {
   "cell_type": "code",
   "execution_count": 6,
   "metadata": {
    "colab": {
     "base_uri": "https://localhost:8080/",
     "height": 17,
     "referenced_widgets": [
      "d12b9d4889a64779a319f4627455faf1",
      "7b7cb7e48c304ae5a461946cb92b92f6",
      "6864d987db7f44b081bba77f0ed60e1a",
      "a1b330077c744577a5e3018656fe092b",
      "b4590002b0a94011a89e70559b8a0dc8",
      "34727530ec8d4e45a208f7b65c29b84a",
      "e120a25e7ef742d3a98f79915d09d27a",
      "84682392199b484daea8cf56208ebb06",
      "1491c7fdef2d48549d4c4ac11ea50f1b",
      "9bbac8a1d9a3475dafeab624ee3eccae",
      "0e8efce7c2704151babb82ff81649f63"
     ]
    },
    "id": "fGB40jT15BRm",
    "outputId": "d6b097cb-f979-4af3-ebf7-5232d246a41a"
   },
   "outputs": [
    {
     "data": {
      "application/vnd.jupyter.widget-view+json": {
       "model_id": "3a99fb24b1e74920a74df28284042810",
       "version_major": 2,
       "version_minor": 0
      },
      "text/plain": [
       "Map:   0%|          | 0/960 [00:00<?, ? examples/s]"
      ]
     },
     "metadata": {},
     "output_type": "display_data"
    }
   ],
   "source": [
    "# Load data from files\n",
    "test_data = pd.read_csv(\"28.57/test.hi\", sep=\"\\t\", header=None, names=[\"input_text\"])\n",
    "test_labels = pd.read_csv(\"28.57/test.en\", sep=\"\\t\", header=None, names=[\"target_text\"])\n",
    "\n",
    "# Combine input and target text into single DataFrames\n",
    "test_df = pd.concat([test_data, test_labels], axis=1)\n",
    "\n",
    "test_df = test_df.dropna()\n",
    "\n",
    "# Convert DataFrames to Datasets\n",
    "test_dataset = Dataset.from_pandas(test_df)\n",
    "\n",
    "# Map the tokenization function to the test dataset\n",
    "tokenized_test_dataset = test_dataset.map(tokenize_data, batched=True, remove_columns=[\"input_text\", \"target_text\"])\n",
    "\n",
    "# Extract Hinglish and English sentences\n",
    "test_hinglish = test_data[\"input_text\"].apply(preprocess_text).tolist()\n",
    "test_english = test_labels[\"target_text\"].apply(preprocess_text).tolist()\n",
    "\n",
    "\n",
    "# Reduce the size of the test data (e.g., use only the first 100 sentences)\n",
    "test_hinglish_subset = test_hinglish[:15]\n",
    "test_english_subset = test_english[:15]"
   ]
  },
  {
   "cell_type": "code",
   "execution_count": 7,
   "metadata": {
    "colab": {
     "base_uri": "https://localhost:8080/"
    },
    "id": "6QvvIi3tRO4Q",
    "outputId": "b1d69519-531c-4a0e-827d-cc93c35391a2"
   },
   "outputs": [
    {
     "name": "stderr",
     "output_type": "stream",
     "text": [
      "C:\\Users\\Mahendranath\\anaconda3\\lib\\site-packages\\transformers\\generation\\utils.py:1273: UserWarning: Neither `max_length` nor `max_new_tokens` has been set, `max_length` will default to 200 (`generation_config.max_length`). Controlling `max_length` via the config is deprecated and `max_length` will be removed from the config in v5 of Transformers -- we recommend using `max_new_tokens` to control the maximum length of the generation.\n",
      "  warnings.warn(\n"
     ]
    },
    {
     "name": "stdout",
     "output_type": "stream",
     "text": [
      "Test :  hi\n",
      "Translation :  hi\n",
      "Test :  marvel's the avengers is a 2012 american superhero film based on the marvel comics superhero team of the same name, produced by marvel studios and distributed by walt disneystudios motion pictures\n",
      "Translation :  marvel's the avengers is the 2012 american superhero philm, which is based on the same name marvel comics superhero series, which is directed by marvel standyoj and is directed by wilfred dizanestodious.\n",
      "Test :  hello. how are you? i am not entirely sure about what question to ask, so i'll just ask: do you think the critics were fair in their critique of the movie?\n",
      "Translation :  hello. what's up? i don't really believe what i'm going to ask, but i'm sure sirph itana will ask: do you think the aalochak movies were spectacular?\n",
      "Test :  i agree with them that ruffalo was great in the movie. \n",
      "Translation :  i agree with him that rafaalo was great in the movie.\n",
      "Test :  i agree them great in the avengers   movie. \n",
      "Translation :  i agree, the avengers were great in the movie.\n",
      "Test :  i think the cast was top-notch. \n",
      "Translation :  i think the cast was top-notch\n",
      "Test :  no\n",
      "Translation :  no\n",
      "Test :  you don't think so?\n",
      "Translation :  do you think so?\n",
      "Test :  y\n",
      "Translation :  y\n",
      "Test :  downey jr, chris evans, ruffalo, hemsworth, johnasson are amazing actors\n",
      "Translation :  downey jr, chris evans, ruffalo, hemsworth, johnasson are all amazing actors.\n",
      "Test :  yes,the avengers teams are very good\n",
      "Translation :  yes, the avengers team is very good\n",
      "Test :  do you agree with the ratings of the movie?\n",
      "Translation :  do you agree with the movie's ratings?\n",
      "Test :  i think all 3 were fair!\n",
      "Translation :  i think all 3 were fair\n",
      "Test :  what do you think about the key scene?\n",
      "Translation :  what do you think about the key scene?\n",
      "Test :  so  good \n",
      "Translation :  very good\n",
      "sacreBLEU score: 28.562917913220936\n"
     ]
    }
   ],
   "source": [
    "translations = []\n",
    "for text in test_hinglish:\n",
    "    inputs = tokenizer(text, return_tensors=\"pt\", max_length=128, truncation=True)\n",
    "    outputs = model.generate(**inputs)\n",
    "    translation = tokenizer.decode(outputs[0], skip_special_tokens=True)\n",
    "    translations.append(translation)\n",
    "\n",
    "\n",
    "for i in range(len(test_hinglish_subset)):\n",
    "  print(\"Test : \",test_english[i])\n",
    "  print(\"Translation : \",translations[i])\n",
    "\n",
    "# Calculate sacreBLEU score\n",
    "bleu_score = corpus_bleu(translations, [test_english]).score\n",
    "print(f'sacreBLEU score: {bleu_score}')"
   ]
  },
  {
   "cell_type": "code",
   "execution_count": null,
   "metadata": {
    "id": "5ZwUYLssRUj8"
   },
   "outputs": [],
   "source": []
  },
  {
   "cell_type": "code",
   "execution_count": 8,
   "metadata": {},
   "outputs": [
    {
     "name": "stderr",
     "output_type": "stream",
     "text": [
      "[nltk_data] Error loading wordnet: <urlopen error [WinError 10060] A\n",
      "[nltk_data]     connection attempt failed because the connected party\n",
      "[nltk_data]     did not properly respond after a period of time, or\n",
      "[nltk_data]     established connection failed because connected host\n",
      "[nltk_data]     has failed to respond>\n"
     ]
    },
    {
     "data": {
      "text/plain": [
       "False"
      ]
     },
     "execution_count": 8,
     "metadata": {},
     "output_type": "execute_result"
    }
   ],
   "source": [
    "nltk.download('wordnet')"
   ]
  },
  {
   "cell_type": "code",
   "execution_count": 9,
   "metadata": {},
   "outputs": [
    {
     "name": "stderr",
     "output_type": "stream",
     "text": [
      "[nltk_data] Error loading wordnet: <urlopen error [WinError 10060] A\n",
      "[nltk_data]     connection attempt failed because the connected party\n",
      "[nltk_data]     did not properly respond after a period of time, or\n",
      "[nltk_data]     established connection failed because connected host\n",
      "[nltk_data]     has failed to respond>\n",
      "[nltk_data] Error loading punkt: <urlopen error [WinError 10060] A\n",
      "[nltk_data]     connection attempt failed because the connected party\n",
      "[nltk_data]     did not properly respond after a period of time, or\n",
      "[nltk_data]     established connection failed because connected host\n",
      "[nltk_data]     has failed to respond>\n",
      "[nltk_data] Downloading package omw-1.4 to\n",
      "[nltk_data]     C:\\Users\\Mahendranath\\AppData\\Roaming\\nltk_data...\n",
      "[nltk_data]   Package omw-1.4 is already up-to-date!\n"
     ]
    }
   ],
   "source": [
    "meteor = evaluate.load('meteor')"
   ]
  },
  {
   "cell_type": "code",
   "execution_count": 10,
   "metadata": {},
   "outputs": [],
   "source": [
    "# Create an empty list to store results\n",
    "results = []\n",
    "\n",
    "# Iterate through each prediction-reference pair\n",
    "for prediction, reference in zip(translations, test_english):\n",
    "    result = meteor.compute(predictions=[prediction], references=[reference])\n",
    "    results.append(result['meteor'])"
   ]
  },
  {
   "cell_type": "code",
   "execution_count": 11,
   "metadata": {},
   "outputs": [
    {
     "name": "stdout",
     "output_type": "stream",
     "text": [
      "Average METEOR score: 0.5307186053245752\n"
     ]
    }
   ],
   "source": [
    "# Calculate the average METEOR score for all pairs\n",
    "average_meteor = sum(results) / len(results)\n",
    "\n",
    "print(\"Average METEOR score:\", average_meteor)"
   ]
  },
  {
   "cell_type": "code",
   "execution_count": 12,
   "metadata": {},
   "outputs": [
    {
     "name": "stdout",
     "output_type": "stream",
     "text": [
      "METEOR scores for each pair: [0.5, 0.6193693693693694, 0.46758130081300814, 0.8220833333333335, 0.8152173913043477, 0.8675523349436391, 0.5, 0.7559322033898305, 0.5, 0.9844782983615982, 0.864795918367347, 0.7575757575757577, 0.8675523349436391, 0.9993141289437586, 0.25, 0.7650100242692836, 0.2142857142857143, 0.46296296296296297, 0.6847545219638244, 0.9375, 0.7471655328798186, 0.2142857142857143, 0.22727272727272727, 0.28846153846153844, 0.25, 0.5888888888888889, 0.0, 0.8819444444444444, 0.0, 0.5569306930693068, 0.3254877014418999, 0.5645569620253165, 0.3333333333333333, 0.8819444444444444, 0.4206349206349207, 0.5968468468468469, 0.17241379310344826, 0.2808302808302808, 0.1923076923076923, 0.45731707317073167, 0.3292035398230088, 0.09174311926605505, 0.4505050505050505, 0.41396979503775616, 0.625, 0.5318681318681319, 0.7200590762620838, 0.5090725806451614, 0.9866898148148149, 0.9927268779852366, 0.40180180180180186, 0.08333333333333333, 0.9158653846153847, 0.701058201058201, 0.13513513513513514, 0.7204995960976822, 0.6084656084656085, 0.125, 0.038461538461538464, 0.29411764705882354, 0.7145928899082569, 0.40760869565217384, 0.5111111111111111, 0.0, 0.3012048192771084, 0.9866898148148149, 0.7080965909090909, 0.17605633802816903, 0.4224058769513315, 0.609504132231405, 0.220125786163522, 0.7647286821705428, 0.1851851851851852, 0.49145299145299143, 0.505283273381295, 0.8946280991735537, 0.6847545219638242, 0.8289915966386556, 0.47821969696969696, 0.5, 0.9375, 0.14084507042253522, 0.9163204498720048, 0.9138261521793482, 0.7577355836849509, 0.0, 0.981329690346084, 0.0, 0.7937500000000002, 0.7577355836849509, 0.34128440366972473, 0.635593220338983, 0.5, 0.6802398989898991, 0.625, 0.5847382431233363, 0.5, 0.5010893246187365, 0.8928571428571429, 0.5, 0.600907029478458, 0.6200882218729401, 0.9375, 0.9976851851851852, 0.0, 0.8675523349436391, 0.824175824175824, 0.0, 0.2631578947368421, 0.0, 0.46759259259259256, 0.32736079122070166, 0.8294209702660407, 0.9268808114961962, 0.4003139717425432, 0.9375, 0.9679878048780488, 0.996, 0.9137614678899082, 0.9914485766758494, 0.2630208333333333, 0.15151515151515152, 0.0, 0.15151515151515152, 0.5011235955056179, 0.24193548387096772, 0.38275629496402874, 0.4230986445783133, 0.38627380524613725, 0.9736328125, 0.028901734104046242, 0.06944444444444445, 0.3727144866385373, 0.5301443721593442, 0.9996243425995492, 0.8066666666666668, 0.4406130268199233, 0.6257889753839679, 0.9995, 0.4983240223463687, 0.41446918732237287, 0.6753305288461539, 0.5503390304428366, 0.5944159219797217, 0.32341750259425806, 0.5698634616956914, 0.1973628957755942, 0.6114130434782608, 0.583046875, 0.7468276498956802, 0.3444444444444445, 0.9375, 0.44246495327102797, 0.9921875, 0.234375, 0.6356150793650794, 0.6043147136264544, 0.6009143778026904, 0.6747761979989468, 0.5090725806451614, 0.7600069613644276, 0.5, 0.6150530387593633, 0.714715222579251, 0.7585268884703913, 0.17045454545454547, 0.5751811594202899, 0.5, 0.6305084745762711, 0.0, 0.9203071887196274, 0.25641025641025644, 0.6543235851041447, 0.275735294117647, 0.9993141289437586, 0.25, 0.13043478260869565, 0.97441793618856, 0.605, 0.11904761904761905, 0.2380952380952381, 0.8918539325842695, 0.4574275362318841, 0.0, 0.19607843137254904, 0.2380952380952381, 0.7500000000000001, 0.25, 0.8819444444444444, 0.25, 0.6918367346938775, 0.327991452991453, 0.8757427021441488, 0.9814814814814815, 0.9993141289437586, 0.9041027559546079, 0.5495818399044207, 0.7994994599070623, 0.8440677966101694, 0.9985422740524781, 0.8716501767656295, 0.5353307560137457, 0.5215419501133786, 0.800197333304578, 0.8412698412698414, 0.8366591407131948, 0.5859375000000001, 0.5922865013774106, 0.6346938775510204, 0.6962403281923456, 0.7643236245954693, 0.5710111788617886, 0.664601784543145, 0.5231878847795803, 0.6936545109847218, 0.9814814814814815, 0.7608191451829978, 0.755560651226783, 0.6578947368421053, 0.5775126356781838, 0.625, 0.8706951530612245, 0.7500000000000001, 0.23255813953488375, 0.7819174181300427, 0.0, 0.5176470588235295, 0.0, 0.9375, 0.8062661684392066, 0.25423728813559315, 0.7773446457234581, 0.7309228039041704, 0.9862685758164326, 0.7107715535193669, 0.4359925788497217, 0.23427960927960922, 0.7303086523865745, 0.6190603073097078, 0.7668240850059032, 0.5016741071428571, 0.1648351648351648, 0.5609731909688935, 0.42938931297709926, 0.48076923076923084, 0.7282110091743119, 0.2397260273972603, 0.2754484043792221, 0.6353618832957677, 0.4179775280898876, 0.4310344827586207, 0.0, 0.39062499999999994, 0.8066666666666668, 0.2777777777777778, 0.0847457627118644, 0.38490853658536583, 0.5452674897119341, 0.6726694915254237, 0.5901006235827664, 0.1694915254237288, 0.8017676767676769, 0.5666741121286576, 0.6847545219638242, 0.5, 0.5, 0.5499999999999999, 0.5597014925373134, 0.19230769230769232, 0.9814814814814815, 0.3535711309275773, 0.08333333333333333, 0.6071940718135644, 0.6048387096774195, 0.9814814814814815, 0.6457609639600519, 0.7246376811594204, 0.625, 0.5888888888888889, 0.7509689295860872, 0.6849868660335421, 0.5022992169003825, 0.638243803268434, 0.3964444444444445, 0.6656071689225053, 0.0, 0.7659108216900052, 0.7675438596491228, 0.44839345659934987, 0.049504950495049514, 0.2469135802469136, 0.2607709750566893, 0.6465517241379309, 0.6756756756756757, 0.0, 0.36764705882352944, 0.6621143739132134, 0.5239436619718311, 0.647130647130647, 0.43478260869565216, 0.5, 0.5361402671755726, 0.5981878698224852, 0.616546037019459, 0.7111202485380118, 0.9498207885304659, 0.48380191237334097, 0.9347442680776015, 0.41682242990654206, 0.8066666666666668, 0.6423062182619528, 0.9976851851851852, 0.3234880450070324, 0.2583333333333333, 0.23121387283236994, 0.6616046695686585, 0.6233062330623306, 0.5, 0.25423728813559315, 0.5, 0.2662037037037037, 0.5215419501133786, 0.5166666666666667, 0.8300000000000002, 0.6284318475452196, 0.8546397379912665, 0.7389312977099237, 0.732448866777225, 0.9268808114961962, 0.4003139717425432, 0.9375, 0.9679878048780488, 0.996, 0.9137614678899082, 0.9914485766758494, 0.2630208333333333, 0.15151515151515152, 0.0, 0.15151515151515152, 0.5011235955056179, 0.24193548387096772, 0.38275629496402874, 0.4230986445783133, 0.38627380524613725, 0.9736328125, 0.028901734104046242, 0.06944444444444445, 0.3727144866385373, 0.6820718344155844, 0.14018691588785046, 0.8300000000000002, 0.6465517241379309, 0.30734243014944773, 0.3188131313131313, 0.029239766081871347, 0.3041219665517646, 0.10101010101010102, 0.26716437486193945, 0.5944159219797217, 0.32341750259425806, 0.5698634616956914, 0.1973628957755942, 0.6114130434782608, 0.583046875, 0.7468276498956802, 0.3444444444444445, 0.9375, 0.44246495327102797, 0.9921875, 0.234375, 0.6356150793650794, 0.6043147136264544, 0.6009143778026904, 0.6747761979989468, 0.5090725806451614, 0.7600069613644276, 0.17857142857142855, 0.2631578947368421, 0.9976851851851852, 0.38448275862068976, 0.2599932249322493, 0.4323630136986301, 0.65599173553719, 0.35532407407407407, 0.430213948787062, 0.4267310789049919, 0.0, 0.3529597974042418, 0.621570644718793, 0.611317254174397, 0.6792413935271077, 0.9375, 0.3099173553719008, 0.20618556701030927, 0.46296296296296297, 0.5773420479302832, 0.2320772058823529, 0.7361111111111112, 0.9985422740524781, 0.4244590452768551, 0.41228879339437974, 0.2631578947368421, 0.26571428571428574, 0.41682242990654206, 0.754985754985755, 0.40879120879120884, 0.9054545454545455, 0.5166037543358497, 0.6782713085234094, 0.9041027559546079, 0.5, 0.2631578947368421, 0.8437033349925335, 0.703125, 0.8412698412698414, 0.3333333333333333, 0.7937500000000002, 0.701058201058201, 0.8163934426229508, 0.3507246376811594, 0.3333333333333333, 0.33625730994152053, 0.0, 0.25555555555555554, 0.0, 0.5888888888888889, 0.0, 0.0, 0.7014492753623188, 0.8179012345679012, 0.625, 0.78677398989899, 0.2631578947368421, 0.42592592592592593, 0.5, 0.8103975535168196, 0.996, 0.7653061224489797, 0.4406130268199233, 0.47920792079207913, 0.12269938650306748, 0.17241379310344826, 0.8287608596250572, 0.2768640350877193, 0.25, 0.17857142857142855, 0.3448275862068965, 0.6399128369655059, 0.8972972972972975, 0.6324427480916031, 0.25, 0.7301587301587302, 0.7879761885239179, 0.8115030088833699, 0.9142661179698217, 0.19607843137254904, 0.5503634475597092, 0.0, 0.6305084745762711, 0.7653061224489797, 0.8928571428571429, 0.5447821409359871, 0.9041027559546079, 0.48677248677248675, 0.20217391304347826, 0.4821802935010482, 0.43684710351377026, 0.4723101876882676, 0.3407407407407408, 0.36443494776828117, 0.7559322033898305, 0.6526761648055449, 0.43725490196078437, 0.6147540983606558, 0.2631578947368421, 0.43771991555242784, 0.12096774193548389, 0.4184343434343435, 0.34090909090909094, 0.5111111111111111, 0.3, 0.11029411764705882, 0.13245033112582782, 0.28719179979684184, 0.421843557533996, 0.24775828460038987, 0.41212704118905347, 0.4404695259593679, 0.3725709713812078, 0.5034664428073121, 0.22547597408650263, 0.6786666666666666, 0.6811295268691588, 0.5879184545471005, 0.6137614678899083, 0.52726213592233, 0.5150875228984327, 0.6433823529411765, 0.5852417302798982, 0.6515968998233709, 0.47571937362202493, 0.5362349986515642, 0.45509708737864085, 0.5706287683031869, 0.9146341463414633, 0.35430815808853616, 0.8276406663240622, 0.9163204498720048, 0.4574275362318841, 0.33938172043010756, 0.2631578947368421, 0.4902366863905326, 0.9054545454545455, 0.225843253968254, 0.7469334112149533, 0.7282110091743119, 0.6995884773662552, 0.42613636363636365, 0.29475401695456316, 0.37194306833372653, 0.2690058479532163, 0.6388888888888888, 0.2410901467505241, 0.46125329721251873, 0.1048951048951049, 0.5615243342516071, 0.40404040404040403, 0.4755434782608696, 0.3740676711455932, 0.5186046511627908, 0.2505402960659946, 0.3378787878787879, 0.4598509933774834, 0.6002938034188035, 0.5025352112676056, 0.4676318528875009, 0.46201266123000023, 0.32763532763532766, 0.8737244897959183, 0.41564941406250006, 0.16666666666666666, 0.3243395656939525, 0.9375, 0.5, 0.7382997630331755, 0.7058317513051732, 0.7211538461538461, 0.2525, 0.6215431415929203, 0.5898460560374189, 0.9375, 0.9375, 0.8737244897959183, 0.9764705882352942, 0.8664025681305922, 0.8005344995140913, 0.9041027559546079, 0.884784293464221, 0.5357142857142857, 0.9976851851851852, 0.7833402699328141, 0.336734693877551, 0.6739746093750001, 0.51875, 0.9307692307692308, 0.24390243902439024, 0.31612814187382476, 0.5495818399044206, 0.5156069364161849, 0.83994708994709, 0.2547945205479452, 0.05769230769230769, 0.25, 0.24590163934426232, 0.27445652173913043, 0.6146384479717814, 0.12820512820512822, 0.41242732558139533, 0.44431279620853076, 0.635593220338983, 0.18899700598802396, 0.8950617283950617, 0.0, 0.4206349206349207, 0.5968468468468469, 0.17241379310344826, 0.2808302808302808, 0.1923076923076923, 0.45731707317073167, 0.3292035398230088, 0.09174311926605505, 0.4505050505050505, 0.41396979503775616, 0.4213483146067415, 0.10752688172043011, 0.22560258671369782, 0.3811965811965813, 0.1851851851851852, 0.39753401360544216, 0.29224537037037035, 0.16666666666666666, 0.7259579263711495, 0.0, 0.5208333333333334, 0.6378600823045267, 0.7173295454545454, 0.5575, 0.6568655169164076, 0.618872549019608, 0.8972972972972975, 0.5377777777777778, 0.6172839506172839, 0.6388888888888888, 0.3012048192771084, 0.9866898148148149, 0.7080965909090909, 0.17605633802816903, 0.4224058769513315, 0.609504132231405, 0.220125786163522, 0.7647286821705428, 0.1851851851851852, 0.49145299145299143, 0.505283273381295, 0.0, 0.9814814814814815, 0.11235955056179774, 0.19230769230769232, 0.9375, 0.125, 0.8534621578099838, 0.05208333333333333, 0.23255813953488375, 0.05813953488372093, 0.5174180327868853, 0.8534621578099838, 0.5434782608695652, 0.7454289732770746, 0.7999999999999999, 0.5717948717948719, 0.97441793618856, 0.5, 0.6405895691609977, 0.15625, 0.996, 0.6048387096774195, 0.8203389830508474, 0.6847545219638242, 0.738954922628392, 0.7211538461538461, 0.32258064516129037, 0.3707857716530568, 0.43069584736251404, 0.7803819444444444, 0.2, 0.26785714285714285, 0.19230769230769232, 0.8757427021441488, 0.3506944444444444, 0.3333333333333333, 0.46875, 0.5260416666666666, 0.9375, 0.0, 0.5, 0.996, 0.40879120879120884, 0.6084656084656085, 0.8722527472527472, 0.5215419501133786, 0.0, 0.0684931506849315, 0.9584158415841585, 0.16853932584269662, 0.125, 0.42652027027027023, 0.11904761904761905, 0.0, 0.5575, 0.5625, 0.7361111111111112, 0.7934426229508196, 0.14705882352941177, 0.14851485148514848, 0.8024918225587122, 0.0925925925925926, 0.41242732558139533, 0.48478260869565226, 0.7937500000000002, 0.25641025641025644, 0.3896604938271605, 0.6988249845392702, 0.4708860759493671, 0.2583333333333333, 0.5, 0.5449268252800262, 0.4561781609195403, 0.0, 0.0, 0.39062499999999994, 0.5111111111111111, 0.36585365853658536, 0.4955555555555556, 0.0, 0.5, 0.6842672413793103, 0.8722527472527472, 0.3703703703703703, 0.32318840579710145, 0.6792413935271077, 0.637196531387025, 0.07042253521126761, 0.8737244897959183, 0.4674796747967479, 0.0925925925925926, 0.28301886792452824, 0.5710111788617886, 0.0, 0.5208333333333333, 0.3758169934640523, 0.3362573099415205, 0.0, 0.7937500000000002, 0.842696629213483, 0.7766439909297052, 0.5, 0.996, 0.600907029478458, 0.8412698412698414, 0.46855921855921845, 0.9575062901873077, 0.703125, 0.0, 0.5, 0.9764705882352942, 0.7042483660130718, 0.1851851851851852, 0.9375, 0.12195121951219512, 0.17857142857142855, 0.996, 0.20833333333333331, 0.13513513513513511, 0.785891089108911, 0.12195121951219512, 0.864795918367347, 0.54461634630411, 0.13812154696132597, 0.7857492027281827, 0.6600900423728814, 0.9284284284284284, 0.9564593301435406, 0.7181571815718157, 0.7623428291326106, 0.9976851851851852, 0.8493589743589745, 0.8852875344352616, 0.16666666666666666, 0.13157894736842105, 0.3742588932806324, 0.6465517241379309, 0.2717391304347826, 0.08620689655172413, 0.11111111111111112, 0.515422077922078, 0.3599374021909233, 0.2631578947368421, 0.3703703703703703, 0.11538461538461539, 0.24278846153846156, 0.3652391975308642, 0.471957671957672, 0.0, 0.41483259970654923, 0.20380434782608695, 0.25218016722107345, 0.581175836030205, 0.5011235955056179, 0.35714285714285715, 0.754985754985755, 0.9137614678899082, 0.6974244916267942, 0.8248810418231906, 0.864795918367347, 0.735288779177406, 0.7253741344650435, 0.8103975535168196, 0.5965909090909091, 0.9279503105590062, 0.5314285714285715, 0.9139118457300276, 0.9999142661179699, 0.811095090209997, 0.6235462515655753, 0.9280792420327304, 0.742296918767507, 0.9384618325718327, 0.9866898148148149, 0.6619183285849952, 0.7336571544221817, 0.5776690841625907, 0.15897435897435902, 0.41586634653861543, 0.3663241644010875, 0.5645569620253165, 0.5111111111111111, 0.17441860465116277, 0.5174180327868853, 0.7488193624557261, 0.1904761904761905, 0.5739795918367346, 0.0, 0.9976851851851852, 0.7403101333256544, 0.8504464285714286, 0.521069182389937, 0.9177357446661364, 0.8704411764705883, 0.5474452554744526, 0.662162842190016, 0.7064552131336405, 0.2631578947368421, 0.6108276643990929, 0.5402650356778795, 0.12820512820512822, 0.5011235955056179, 0.6925668321142459, 0.5260416666666666, 0.2547945205479452, 0.32258064516129037, 0.16666666666666666, 0.41587408153369876, 0.2577319587628866, 0.594555177442878, 0.35830999066293184, 0.7625619249823071, 0.7560237457804679, 0.5, 0.0, 0.7777449822904368, 0.5739795918367346, 0.864795918367347, 0.5792403188184704, 0.847322142286171, 0.5771460854568702, 0.8254320987654322, 0.6672332745739948, 0.7375228539913268, 0.6814814814814816, 0.8047134233565313, 0.8500377738604886, 0.9921875, 0.7200729927007301, 0.46875, 0.5991586538461539, 0.20408163265306123, 0.828623670212766, 0.24390243902439024, 0.5948372615039282, 0.5, 0.4399925107657742, 0.5, 0.750387596899225, 0.0, 0.6485954553587404, 0.625, 0.7687074829931974, 0.5357142857142857, 0.125, 0.2808302808302808, 0.16666666666666666, 0.07692307692307694, 0.7361111111111112, 0.16666666666666666, 0.6147540983606558, 0.7129491017964071, 0.9814814814814815, 0.32206632653061223, 0.9375, 0.30487804878048785, 0.16666666666666666, 0.5174180327868853, 0.9035047792444243, 0.6208609271523178, 0.6059160305343513, 0.7464659389132882, 0.6411009353913165, 0.9355095785440612, 0.5450489276479236, 0.9638205600178491, 0.2185792349726776, 0.6792413935271077, 0.5575, 0.703125, 0.625, 0.5919708677502443, 0.49609375, 0.815289256198347, 0.6463768115942029, 0.672826483304683, 0.4785502958579881, 0.7582720588235293, 0.5482456140350876, 0.40917431192660547, 0.48464475790748995, 0.5354898203099242, 0.5646613417055266, 0.28261949099937933, 0.2631578947368421, 0.4285525037534222, 0.43129028498686683, 0.3284992784992785, 0.45510204081632655, 0.7214722987450259, 0.6224092082279636, 0.6755135144081963, 0.8670910493827161, 0.5, 0.6842672413793103, 0.9883326549993218, 0.3703703703703703, 0.8236208236208235, 0.5162738496071829, 0.06048387096774193, 0.7114285714285714, 0.8737244897959183, 0.6125720010017531, 0.49145299145299143, 0.5844907407407408, 0.6995884773662552, 0.32206632653061223, 0.0, 0.7014492753623188, 0.9471112388617419, 0.0, 0.5215419501133786, 0.9561042524005487, 0.7773446457234581, 0.701058201058201, 0.8099489795918368, 0.20408163265306123, 0.8412698412698414, 0.9397163120567377, 0.806697108066971, 0.703125, 0.0, 0.5, 0.9764705882352942, 0.4746835443037974, 0.3194444444444444, 0.9375, 0.12820512820512822, 0.9375, 0.5, 0.9073016209625044, 0.9229651162790696, 0.8436213991769549, 0.15873015873015875, 0.7614989620889328, 0.7645889336917563]\n"
     ]
    }
   ],
   "source": [
    "print(\"METEOR scores for each pair:\", results)"
   ]
  },
  {
   "cell_type": "code",
   "execution_count": null,
   "metadata": {},
   "outputs": [],
   "source": []
  },
  {
   "cell_type": "code",
   "execution_count": 13,
   "metadata": {},
   "outputs": [
    {
     "name": "stdout",
     "output_type": "stream",
     "text": [
      "TER score: 61.539153915391545\n"
     ]
    }
   ],
   "source": [
    "# Calculate TER using SacreBLEU\n",
    "ter_score = corpus_ter(translations, [test_english])\n",
    "\n",
    "print(f'TER score: {ter_score.score}')"
   ]
  },
  {
   "cell_type": "code",
   "execution_count": null,
   "metadata": {},
   "outputs": [],
   "source": []
  },
  {
   "cell_type": "code",
   "execution_count": 14,
   "metadata": {},
   "outputs": [
    {
     "name": "stdout",
     "output_type": "stream",
     "text": [
      "WER: 0.6808762139345391\n"
     ]
    }
   ],
   "source": [
    "# Calculate WER\n",
    "wer_score=0\n",
    "for i in range(len(test_english)):\n",
    "    wer = jiwer.wer(translations[i], test_english[i])\n",
    "    wer_score+=wer\n",
    "\n",
    "print(\"WER:\", wer_score/len(test_english))"
   ]
  },
  {
   "cell_type": "code",
   "execution_count": null,
   "metadata": {},
   "outputs": [],
   "source": []
  },
  {
   "cell_type": "code",
   "execution_count": null,
   "metadata": {},
   "outputs": [],
   "source": []
  }
 ],
 "metadata": {
  "accelerator": "GPU",
  "colab": {
   "provenance": []
  },
  "gpuClass": "standard",
  "kernelspec": {
   "display_name": "Python 3 (ipykernel)",
   "language": "python",
   "name": "python3"
  },
  "language_info": {
   "codemirror_mode": {
    "name": "ipython",
    "version": 3
   },
   "file_extension": ".py",
   "mimetype": "text/x-python",
   "name": "python",
   "nbconvert_exporter": "python",
   "pygments_lexer": "ipython3",
   "version": "3.8.10"
  },
  "widgets": {
   "application/vnd.jupyter.widget-state+json": {
    "002a6d7b942b41cc8fb38dc3d3fc8753": {
     "model_module": "@jupyter-widgets/controls",
     "model_module_version": "1.5.0",
     "model_name": "ProgressStyleModel",
     "state": {
      "_model_module": "@jupyter-widgets/controls",
      "_model_module_version": "1.5.0",
      "_model_name": "ProgressStyleModel",
      "_view_count": null,
      "_view_module": "@jupyter-widgets/base",
      "_view_module_version": "1.2.0",
      "_view_name": "StyleView",
      "bar_color": null,
      "description_width": ""
     }
    },
    "064c5aae6a5b48de85a6e6cbf97542d5": {
     "model_module": "@jupyter-widgets/controls",
     "model_module_version": "1.5.0",
     "model_name": "FloatProgressModel",
     "state": {
      "_dom_classes": [],
      "_model_module": "@jupyter-widgets/controls",
      "_model_module_version": "1.5.0",
      "_model_name": "FloatProgressModel",
      "_view_count": null,
      "_view_module": "@jupyter-widgets/controls",
      "_view_module_version": "1.5.0",
      "_view_name": "ProgressView",
      "bar_style": "success",
      "description": "",
      "description_tooltip": null,
      "layout": "IPY_MODEL_6e93e4d42718409db3236fc9953ab6ac",
      "max": 2444714899,
      "min": 0,
      "orientation": "horizontal",
      "style": "IPY_MODEL_3482f79229484bf78073e7a08a8034b9",
      "value": 2444714899
     }
    },
    "075407b3a53542b28933595a8d29fef9": {
     "model_module": "@jupyter-widgets/base",
     "model_module_version": "1.2.0",
     "model_name": "LayoutModel",
     "state": {
      "_model_module": "@jupyter-widgets/base",
      "_model_module_version": "1.2.0",
      "_model_name": "LayoutModel",
      "_view_count": null,
      "_view_module": "@jupyter-widgets/base",
      "_view_module_version": "1.2.0",
      "_view_name": "LayoutView",
      "align_content": null,
      "align_items": null,
      "align_self": null,
      "border": null,
      "bottom": null,
      "display": null,
      "flex": null,
      "flex_flow": null,
      "grid_area": null,
      "grid_auto_columns": null,
      "grid_auto_flow": null,
      "grid_auto_rows": null,
      "grid_column": null,
      "grid_gap": null,
      "grid_row": null,
      "grid_template_areas": null,
      "grid_template_columns": null,
      "grid_template_rows": null,
      "height": null,
      "justify_content": null,
      "justify_items": null,
      "left": null,
      "margin": null,
      "max_height": null,
      "max_width": null,
      "min_height": null,
      "min_width": null,
      "object_fit": null,
      "object_position": null,
      "order": null,
      "overflow": null,
      "overflow_x": null,
      "overflow_y": null,
      "padding": null,
      "right": null,
      "top": null,
      "visibility": null,
      "width": null
     }
    },
    "0d4deda2d5d845e7ba4c45bd8ed562a8": {
     "model_module": "@jupyter-widgets/base",
     "model_module_version": "1.2.0",
     "model_name": "LayoutModel",
     "state": {
      "_model_module": "@jupyter-widgets/base",
      "_model_module_version": "1.2.0",
      "_model_name": "LayoutModel",
      "_view_count": null,
      "_view_module": "@jupyter-widgets/base",
      "_view_module_version": "1.2.0",
      "_view_name": "LayoutView",
      "align_content": null,
      "align_items": null,
      "align_self": null,
      "border": null,
      "bottom": null,
      "display": null,
      "flex": null,
      "flex_flow": null,
      "grid_area": null,
      "grid_auto_columns": null,
      "grid_auto_flow": null,
      "grid_auto_rows": null,
      "grid_column": null,
      "grid_gap": null,
      "grid_row": null,
      "grid_template_areas": null,
      "grid_template_columns": null,
      "grid_template_rows": null,
      "height": null,
      "justify_content": null,
      "justify_items": null,
      "left": null,
      "margin": null,
      "max_height": null,
      "max_width": null,
      "min_height": null,
      "min_width": null,
      "object_fit": null,
      "object_position": null,
      "order": null,
      "overflow": null,
      "overflow_x": null,
      "overflow_y": null,
      "padding": null,
      "right": null,
      "top": null,
      "visibility": null,
      "width": null
     }
    },
    "0e8efce7c2704151babb82ff81649f63": {
     "model_module": "@jupyter-widgets/controls",
     "model_module_version": "1.5.0",
     "model_name": "DescriptionStyleModel",
     "state": {
      "_model_module": "@jupyter-widgets/controls",
      "_model_module_version": "1.5.0",
      "_model_name": "DescriptionStyleModel",
      "_view_count": null,
      "_view_module": "@jupyter-widgets/base",
      "_view_module_version": "1.2.0",
      "_view_name": "StyleView",
      "description_width": ""
     }
    },
    "1491c7fdef2d48549d4c4ac11ea50f1b": {
     "model_module": "@jupyter-widgets/controls",
     "model_module_version": "1.5.0",
     "model_name": "ProgressStyleModel",
     "state": {
      "_model_module": "@jupyter-widgets/controls",
      "_model_module_version": "1.5.0",
      "_model_name": "ProgressStyleModel",
      "_view_count": null,
      "_view_module": "@jupyter-widgets/base",
      "_view_module_version": "1.2.0",
      "_view_name": "StyleView",
      "bar_color": null,
      "description_width": ""
     }
    },
    "2a853685b53640d98f199177ff9b5728": {
     "model_module": "@jupyter-widgets/controls",
     "model_module_version": "1.5.0",
     "model_name": "DescriptionStyleModel",
     "state": {
      "_model_module": "@jupyter-widgets/controls",
      "_model_module_version": "1.5.0",
      "_model_name": "DescriptionStyleModel",
      "_view_count": null,
      "_view_module": "@jupyter-widgets/base",
      "_view_module_version": "1.2.0",
      "_view_name": "StyleView",
      "description_width": ""
     }
    },
    "2f132cc8241a4927b7a6651b4d8da89a": {
     "model_module": "@jupyter-widgets/base",
     "model_module_version": "1.2.0",
     "model_name": "LayoutModel",
     "state": {
      "_model_module": "@jupyter-widgets/base",
      "_model_module_version": "1.2.0",
      "_model_name": "LayoutModel",
      "_view_count": null,
      "_view_module": "@jupyter-widgets/base",
      "_view_module_version": "1.2.0",
      "_view_name": "LayoutView",
      "align_content": null,
      "align_items": null,
      "align_self": null,
      "border": null,
      "bottom": null,
      "display": null,
      "flex": null,
      "flex_flow": null,
      "grid_area": null,
      "grid_auto_columns": null,
      "grid_auto_flow": null,
      "grid_auto_rows": null,
      "grid_column": null,
      "grid_gap": null,
      "grid_row": null,
      "grid_template_areas": null,
      "grid_template_columns": null,
      "grid_template_rows": null,
      "height": null,
      "justify_content": null,
      "justify_items": null,
      "left": null,
      "margin": null,
      "max_height": null,
      "max_width": null,
      "min_height": null,
      "min_width": null,
      "object_fit": null,
      "object_position": null,
      "order": null,
      "overflow": null,
      "overflow_x": null,
      "overflow_y": null,
      "padding": null,
      "right": null,
      "top": null,
      "visibility": null,
      "width": null
     }
    },
    "317a7c03332241fe8aa4f83e17944b43": {
     "model_module": "@jupyter-widgets/controls",
     "model_module_version": "1.5.0",
     "model_name": "FloatProgressModel",
     "state": {
      "_dom_classes": [],
      "_model_module": "@jupyter-widgets/controls",
      "_model_module_version": "1.5.0",
      "_model_name": "FloatProgressModel",
      "_view_count": null,
      "_view_module": "@jupyter-widgets/controls",
      "_view_module_version": "1.5.0",
      "_view_name": "ProgressView",
      "bar_style": "",
      "description": "",
      "description_tooltip": null,
      "layout": "IPY_MODEL_2f132cc8241a4927b7a6651b4d8da89a",
      "max": 942,
      "min": 0,
      "orientation": "horizontal",
      "style": "IPY_MODEL_cc3c349465774d8a9d0f8cdc6d73f635",
      "value": 942
     }
    },
    "34727530ec8d4e45a208f7b65c29b84a": {
     "model_module": "@jupyter-widgets/base",
     "model_module_version": "1.2.0",
     "model_name": "LayoutModel",
     "state": {
      "_model_module": "@jupyter-widgets/base",
      "_model_module_version": "1.2.0",
      "_model_name": "LayoutModel",
      "_view_count": null,
      "_view_module": "@jupyter-widgets/base",
      "_view_module_version": "1.2.0",
      "_view_name": "LayoutView",
      "align_content": null,
      "align_items": null,
      "align_self": null,
      "border": null,
      "bottom": null,
      "display": null,
      "flex": null,
      "flex_flow": null,
      "grid_area": null,
      "grid_auto_columns": null,
      "grid_auto_flow": null,
      "grid_auto_rows": null,
      "grid_column": null,
      "grid_gap": null,
      "grid_row": null,
      "grid_template_areas": null,
      "grid_template_columns": null,
      "grid_template_rows": null,
      "height": null,
      "justify_content": null,
      "justify_items": null,
      "left": null,
      "margin": null,
      "max_height": null,
      "max_width": null,
      "min_height": null,
      "min_width": null,
      "object_fit": null,
      "object_position": null,
      "order": null,
      "overflow": null,
      "overflow_x": null,
      "overflow_y": null,
      "padding": null,
      "right": null,
      "top": null,
      "visibility": null,
      "width": null
     }
    },
    "3482f79229484bf78073e7a08a8034b9": {
     "model_module": "@jupyter-widgets/controls",
     "model_module_version": "1.5.0",
     "model_name": "ProgressStyleModel",
     "state": {
      "_model_module": "@jupyter-widgets/controls",
      "_model_module_version": "1.5.0",
      "_model_name": "ProgressStyleModel",
      "_view_count": null,
      "_view_module": "@jupyter-widgets/base",
      "_view_module_version": "1.2.0",
      "_view_name": "StyleView",
      "bar_color": null,
      "description_width": ""
     }
    },
    "34e7013276e34d87a396ffc0987d344a": {
     "model_module": "@jupyter-widgets/controls",
     "model_module_version": "1.5.0",
     "model_name": "DescriptionStyleModel",
     "state": {
      "_model_module": "@jupyter-widgets/controls",
      "_model_module_version": "1.5.0",
      "_model_name": "DescriptionStyleModel",
      "_view_count": null,
      "_view_module": "@jupyter-widgets/base",
      "_view_module_version": "1.2.0",
      "_view_name": "StyleView",
      "description_width": ""
     }
    },
    "38d829cf6d8147b6a38b1b2ac0ab9425": {
     "model_module": "@jupyter-widgets/controls",
     "model_module_version": "1.5.0",
     "model_name": "DescriptionStyleModel",
     "state": {
      "_model_module": "@jupyter-widgets/controls",
      "_model_module_version": "1.5.0",
      "_model_name": "DescriptionStyleModel",
      "_view_count": null,
      "_view_module": "@jupyter-widgets/base",
      "_view_module_version": "1.2.0",
      "_view_name": "StyleView",
      "description_width": ""
     }
    },
    "3df6b8d412dc4c4cbb89fa2cd6fcc4c0": {
     "model_module": "@jupyter-widgets/controls",
     "model_module_version": "1.5.0",
     "model_name": "FloatProgressModel",
     "state": {
      "_dom_classes": [],
      "_model_module": "@jupyter-widgets/controls",
      "_model_module_version": "1.5.0",
      "_model_name": "FloatProgressModel",
      "_view_count": null,
      "_view_module": "@jupyter-widgets/controls",
      "_view_module_version": "1.5.0",
      "_view_name": "ProgressView",
      "bar_style": "success",
      "description": "",
      "description_tooltip": null,
      "layout": "IPY_MODEL_a93eb023e7b34a639ea71f00b2f8680a",
      "max": 261,
      "min": 0,
      "orientation": "horizontal",
      "style": "IPY_MODEL_803f58247ebc4e46acb4b36c3c09bd26",
      "value": 261
     }
    },
    "425cd41fb8f440849aa7dd719109c100": {
     "model_module": "@jupyter-widgets/base",
     "model_module_version": "1.2.0",
     "model_name": "LayoutModel",
     "state": {
      "_model_module": "@jupyter-widgets/base",
      "_model_module_version": "1.2.0",
      "_model_name": "LayoutModel",
      "_view_count": null,
      "_view_module": "@jupyter-widgets/base",
      "_view_module_version": "1.2.0",
      "_view_name": "LayoutView",
      "align_content": null,
      "align_items": null,
      "align_self": null,
      "border": null,
      "bottom": null,
      "display": null,
      "flex": null,
      "flex_flow": null,
      "grid_area": null,
      "grid_auto_columns": null,
      "grid_auto_flow": null,
      "grid_auto_rows": null,
      "grid_column": null,
      "grid_gap": null,
      "grid_row": null,
      "grid_template_areas": null,
      "grid_template_columns": null,
      "grid_template_rows": null,
      "height": null,
      "justify_content": null,
      "justify_items": null,
      "left": null,
      "margin": null,
      "max_height": null,
      "max_width": null,
      "min_height": null,
      "min_width": null,
      "object_fit": null,
      "object_position": null,
      "order": null,
      "overflow": null,
      "overflow_x": null,
      "overflow_y": null,
      "padding": null,
      "right": null,
      "top": null,
      "visibility": "hidden",
      "width": null
     }
    },
    "4c4273d90b78468086690cecd37d4e9f": {
     "model_module": "@jupyter-widgets/controls",
     "model_module_version": "1.5.0",
     "model_name": "HTMLModel",
     "state": {
      "_dom_classes": [],
      "_model_module": "@jupyter-widgets/controls",
      "_model_module_version": "1.5.0",
      "_model_name": "HTMLModel",
      "_view_count": null,
      "_view_module": "@jupyter-widgets/controls",
      "_view_module_version": "1.5.0",
      "_view_name": "HTMLView",
      "description": "",
      "description_tooltip": null,
      "layout": "IPY_MODEL_075407b3a53542b28933595a8d29fef9",
      "placeholder": "​",
      "style": "IPY_MODEL_f392e37eadcf4d9cb7d8e362b8b67684",
      "value": "Downloading (…)neration_config.json: 100%"
     }
    },
    "4f9a533b70b54cdfa00ffd289d56b273": {
     "model_module": "@jupyter-widgets/base",
     "model_module_version": "1.2.0",
     "model_name": "LayoutModel",
     "state": {
      "_model_module": "@jupyter-widgets/base",
      "_model_module_version": "1.2.0",
      "_model_name": "LayoutModel",
      "_view_count": null,
      "_view_module": "@jupyter-widgets/base",
      "_view_module_version": "1.2.0",
      "_view_name": "LayoutView",
      "align_content": null,
      "align_items": null,
      "align_self": null,
      "border": null,
      "bottom": null,
      "display": null,
      "flex": null,
      "flex_flow": null,
      "grid_area": null,
      "grid_auto_columns": null,
      "grid_auto_flow": null,
      "grid_auto_rows": null,
      "grid_column": null,
      "grid_gap": null,
      "grid_row": null,
      "grid_template_areas": null,
      "grid_template_columns": null,
      "grid_template_rows": null,
      "height": null,
      "justify_content": null,
      "justify_items": null,
      "left": null,
      "margin": null,
      "max_height": null,
      "max_width": null,
      "min_height": null,
      "min_width": null,
      "object_fit": null,
      "object_position": null,
      "order": null,
      "overflow": null,
      "overflow_x": null,
      "overflow_y": null,
      "padding": null,
      "right": null,
      "top": null,
      "visibility": "hidden",
      "width": null
     }
    },
    "52d11f3d71f34d4cb02c306e39553bd8": {
     "model_module": "@jupyter-widgets/controls",
     "model_module_version": "1.5.0",
     "model_name": "HBoxModel",
     "state": {
      "_dom_classes": [],
      "_model_module": "@jupyter-widgets/controls",
      "_model_module_version": "1.5.0",
      "_model_name": "HBoxModel",
      "_view_count": null,
      "_view_module": "@jupyter-widgets/controls",
      "_view_module_version": "1.5.0",
      "_view_name": "HBoxView",
      "box_style": "",
      "children": [
       "IPY_MODEL_76cb6df5cab3425f957f3f051aea6103",
       "IPY_MODEL_5d5f7a9a24734d50b621991be76ed4d5",
       "IPY_MODEL_b0680bd3c8e24f5e9cc43c81e20d886a"
      ],
      "layout": "IPY_MODEL_4f9a533b70b54cdfa00ffd289d56b273"
     }
    },
    "5884852775114314879d8b6ed12e3081": {
     "model_module": "@jupyter-widgets/controls",
     "model_module_version": "1.5.0",
     "model_name": "HTMLModel",
     "state": {
      "_dom_classes": [],
      "_model_module": "@jupyter-widgets/controls",
      "_model_module_version": "1.5.0",
      "_model_name": "HTMLModel",
      "_view_count": null,
      "_view_module": "@jupyter-widgets/controls",
      "_view_module_version": "1.5.0",
      "_view_name": "HTMLView",
      "description": "",
      "description_tooltip": null,
      "layout": "IPY_MODEL_ae264fb2dd4042c899ff54058289c756",
      "placeholder": "​",
      "style": "IPY_MODEL_38d829cf6d8147b6a38b1b2ac0ab9425",
      "value": " 261/261 [00:00&lt;00:00, 6.52kB/s]"
     }
    },
    "5d5f7a9a24734d50b621991be76ed4d5": {
     "model_module": "@jupyter-widgets/controls",
     "model_module_version": "1.5.0",
     "model_name": "FloatProgressModel",
     "state": {
      "_dom_classes": [],
      "_model_module": "@jupyter-widgets/controls",
      "_model_module_version": "1.5.0",
      "_model_name": "FloatProgressModel",
      "_view_count": null,
      "_view_module": "@jupyter-widgets/controls",
      "_view_module_version": "1.5.0",
      "_view_name": "ProgressView",
      "bar_style": "",
      "description": "",
      "description_tooltip": null,
      "layout": "IPY_MODEL_8fe3802333904b19b6eb581f549a7515",
      "max": 21293,
      "min": 0,
      "orientation": "horizontal",
      "style": "IPY_MODEL_002a6d7b942b41cc8fb38dc3d3fc8753",
      "value": 21293
     }
    },
    "6864d987db7f44b081bba77f0ed60e1a": {
     "model_module": "@jupyter-widgets/controls",
     "model_module_version": "1.5.0",
     "model_name": "FloatProgressModel",
     "state": {
      "_dom_classes": [],
      "_model_module": "@jupyter-widgets/controls",
      "_model_module_version": "1.5.0",
      "_model_name": "FloatProgressModel",
      "_view_count": null,
      "_view_module": "@jupyter-widgets/controls",
      "_view_module_version": "1.5.0",
      "_view_name": "ProgressView",
      "bar_style": "",
      "description": "",
      "description_tooltip": null,
      "layout": "IPY_MODEL_84682392199b484daea8cf56208ebb06",
      "max": 960,
      "min": 0,
      "orientation": "horizontal",
      "style": "IPY_MODEL_1491c7fdef2d48549d4c4ac11ea50f1b",
      "value": 960
     }
    },
    "6e93e4d42718409db3236fc9953ab6ac": {
     "model_module": "@jupyter-widgets/base",
     "model_module_version": "1.2.0",
     "model_name": "LayoutModel",
     "state": {
      "_model_module": "@jupyter-widgets/base",
      "_model_module_version": "1.2.0",
      "_model_name": "LayoutModel",
      "_view_count": null,
      "_view_module": "@jupyter-widgets/base",
      "_view_module_version": "1.2.0",
      "_view_name": "LayoutView",
      "align_content": null,
      "align_items": null,
      "align_self": null,
      "border": null,
      "bottom": null,
      "display": null,
      "flex": null,
      "flex_flow": null,
      "grid_area": null,
      "grid_auto_columns": null,
      "grid_auto_flow": null,
      "grid_auto_rows": null,
      "grid_column": null,
      "grid_gap": null,
      "grid_row": null,
      "grid_template_areas": null,
      "grid_template_columns": null,
      "grid_template_rows": null,
      "height": null,
      "justify_content": null,
      "justify_items": null,
      "left": null,
      "margin": null,
      "max_height": null,
      "max_width": null,
      "min_height": null,
      "min_width": null,
      "object_fit": null,
      "object_position": null,
      "order": null,
      "overflow": null,
      "overflow_x": null,
      "overflow_y": null,
      "padding": null,
      "right": null,
      "top": null,
      "visibility": null,
      "width": null
     }
    },
    "70160516a5904c5282b9ba13bf2daae6": {
     "model_module": "@jupyter-widgets/controls",
     "model_module_version": "1.5.0",
     "model_name": "DescriptionStyleModel",
     "state": {
      "_model_module": "@jupyter-widgets/controls",
      "_model_module_version": "1.5.0",
      "_model_name": "DescriptionStyleModel",
      "_view_count": null,
      "_view_module": "@jupyter-widgets/base",
      "_view_module_version": "1.2.0",
      "_view_name": "StyleView",
      "description_width": ""
     }
    },
    "7236f5a1f4124ccc9244747b421accd2": {
     "model_module": "@jupyter-widgets/base",
     "model_module_version": "1.2.0",
     "model_name": "LayoutModel",
     "state": {
      "_model_module": "@jupyter-widgets/base",
      "_model_module_version": "1.2.0",
      "_model_name": "LayoutModel",
      "_view_count": null,
      "_view_module": "@jupyter-widgets/base",
      "_view_module_version": "1.2.0",
      "_view_name": "LayoutView",
      "align_content": null,
      "align_items": null,
      "align_self": null,
      "border": null,
      "bottom": null,
      "display": null,
      "flex": null,
      "flex_flow": null,
      "grid_area": null,
      "grid_auto_columns": null,
      "grid_auto_flow": null,
      "grid_auto_rows": null,
      "grid_column": null,
      "grid_gap": null,
      "grid_row": null,
      "grid_template_areas": null,
      "grid_template_columns": null,
      "grid_template_rows": null,
      "height": null,
      "justify_content": null,
      "justify_items": null,
      "left": null,
      "margin": null,
      "max_height": null,
      "max_width": null,
      "min_height": null,
      "min_width": null,
      "object_fit": null,
      "object_position": null,
      "order": null,
      "overflow": null,
      "overflow_x": null,
      "overflow_y": null,
      "padding": null,
      "right": null,
      "top": null,
      "visibility": null,
      "width": null
     }
    },
    "72c5bb4b76724dcf8d7b46311d367833": {
     "model_module": "@jupyter-widgets/base",
     "model_module_version": "1.2.0",
     "model_name": "LayoutModel",
     "state": {
      "_model_module": "@jupyter-widgets/base",
      "_model_module_version": "1.2.0",
      "_model_name": "LayoutModel",
      "_view_count": null,
      "_view_module": "@jupyter-widgets/base",
      "_view_module_version": "1.2.0",
      "_view_name": "LayoutView",
      "align_content": null,
      "align_items": null,
      "align_self": null,
      "border": null,
      "bottom": null,
      "display": null,
      "flex": null,
      "flex_flow": null,
      "grid_area": null,
      "grid_auto_columns": null,
      "grid_auto_flow": null,
      "grid_auto_rows": null,
      "grid_column": null,
      "grid_gap": null,
      "grid_row": null,
      "grid_template_areas": null,
      "grid_template_columns": null,
      "grid_template_rows": null,
      "height": null,
      "justify_content": null,
      "justify_items": null,
      "left": null,
      "margin": null,
      "max_height": null,
      "max_width": null,
      "min_height": null,
      "min_width": null,
      "object_fit": null,
      "object_position": null,
      "order": null,
      "overflow": null,
      "overflow_x": null,
      "overflow_y": null,
      "padding": null,
      "right": null,
      "top": null,
      "visibility": null,
      "width": null
     }
    },
    "744c1d0910b44566a58151c3cc46ee07": {
     "model_module": "@jupyter-widgets/base",
     "model_module_version": "1.2.0",
     "model_name": "LayoutModel",
     "state": {
      "_model_module": "@jupyter-widgets/base",
      "_model_module_version": "1.2.0",
      "_model_name": "LayoutModel",
      "_view_count": null,
      "_view_module": "@jupyter-widgets/base",
      "_view_module_version": "1.2.0",
      "_view_name": "LayoutView",
      "align_content": null,
      "align_items": null,
      "align_self": null,
      "border": null,
      "bottom": null,
      "display": null,
      "flex": null,
      "flex_flow": null,
      "grid_area": null,
      "grid_auto_columns": null,
      "grid_auto_flow": null,
      "grid_auto_rows": null,
      "grid_column": null,
      "grid_gap": null,
      "grid_row": null,
      "grid_template_areas": null,
      "grid_template_columns": null,
      "grid_template_rows": null,
      "height": null,
      "justify_content": null,
      "justify_items": null,
      "left": null,
      "margin": null,
      "max_height": null,
      "max_width": null,
      "min_height": null,
      "min_width": null,
      "object_fit": null,
      "object_position": null,
      "order": null,
      "overflow": null,
      "overflow_x": null,
      "overflow_y": null,
      "padding": null,
      "right": null,
      "top": null,
      "visibility": null,
      "width": null
     }
    },
    "76cb6df5cab3425f957f3f051aea6103": {
     "model_module": "@jupyter-widgets/controls",
     "model_module_version": "1.5.0",
     "model_name": "HTMLModel",
     "state": {
      "_dom_classes": [],
      "_model_module": "@jupyter-widgets/controls",
      "_model_module_version": "1.5.0",
      "_model_name": "HTMLModel",
      "_view_count": null,
      "_view_module": "@jupyter-widgets/controls",
      "_view_module_version": "1.5.0",
      "_view_name": "HTMLView",
      "description": "",
      "description_tooltip": null,
      "layout": "IPY_MODEL_96a49fd9de15432eaf30f8038eaf9a79",
      "placeholder": "​",
      "style": "IPY_MODEL_7eb8b4c0c10140a1b937091d9290b0a5",
      "value": "Map: 100%"
     }
    },
    "7b7cb7e48c304ae5a461946cb92b92f6": {
     "model_module": "@jupyter-widgets/controls",
     "model_module_version": "1.5.0",
     "model_name": "HTMLModel",
     "state": {
      "_dom_classes": [],
      "_model_module": "@jupyter-widgets/controls",
      "_model_module_version": "1.5.0",
      "_model_name": "HTMLModel",
      "_view_count": null,
      "_view_module": "@jupyter-widgets/controls",
      "_view_module_version": "1.5.0",
      "_view_name": "HTMLView",
      "description": "",
      "description_tooltip": null,
      "layout": "IPY_MODEL_34727530ec8d4e45a208f7b65c29b84a",
      "placeholder": "​",
      "style": "IPY_MODEL_e120a25e7ef742d3a98f79915d09d27a",
      "value": "Map: 100%"
     }
    },
    "7eb8b4c0c10140a1b937091d9290b0a5": {
     "model_module": "@jupyter-widgets/controls",
     "model_module_version": "1.5.0",
     "model_name": "DescriptionStyleModel",
     "state": {
      "_model_module": "@jupyter-widgets/controls",
      "_model_module_version": "1.5.0",
      "_model_name": "DescriptionStyleModel",
      "_view_count": null,
      "_view_module": "@jupyter-widgets/base",
      "_view_module_version": "1.2.0",
      "_view_name": "StyleView",
      "description_width": ""
     }
    },
    "803f58247ebc4e46acb4b36c3c09bd26": {
     "model_module": "@jupyter-widgets/controls",
     "model_module_version": "1.5.0",
     "model_name": "ProgressStyleModel",
     "state": {
      "_model_module": "@jupyter-widgets/controls",
      "_model_module_version": "1.5.0",
      "_model_name": "ProgressStyleModel",
      "_view_count": null,
      "_view_module": "@jupyter-widgets/base",
      "_view_module_version": "1.2.0",
      "_view_name": "StyleView",
      "bar_color": null,
      "description_width": ""
     }
    },
    "84682392199b484daea8cf56208ebb06": {
     "model_module": "@jupyter-widgets/base",
     "model_module_version": "1.2.0",
     "model_name": "LayoutModel",
     "state": {
      "_model_module": "@jupyter-widgets/base",
      "_model_module_version": "1.2.0",
      "_model_name": "LayoutModel",
      "_view_count": null,
      "_view_module": "@jupyter-widgets/base",
      "_view_module_version": "1.2.0",
      "_view_name": "LayoutView",
      "align_content": null,
      "align_items": null,
      "align_self": null,
      "border": null,
      "bottom": null,
      "display": null,
      "flex": null,
      "flex_flow": null,
      "grid_area": null,
      "grid_auto_columns": null,
      "grid_auto_flow": null,
      "grid_auto_rows": null,
      "grid_column": null,
      "grid_gap": null,
      "grid_row": null,
      "grid_template_areas": null,
      "grid_template_columns": null,
      "grid_template_rows": null,
      "height": null,
      "justify_content": null,
      "justify_items": null,
      "left": null,
      "margin": null,
      "max_height": null,
      "max_width": null,
      "min_height": null,
      "min_width": null,
      "object_fit": null,
      "object_position": null,
      "order": null,
      "overflow": null,
      "overflow_x": null,
      "overflow_y": null,
      "padding": null,
      "right": null,
      "top": null,
      "visibility": null,
      "width": null
     }
    },
    "85edfeabf70a4cb08ee7bd7f3fa58993": {
     "model_module": "@jupyter-widgets/controls",
     "model_module_version": "1.5.0",
     "model_name": "HBoxModel",
     "state": {
      "_dom_classes": [],
      "_model_module": "@jupyter-widgets/controls",
      "_model_module_version": "1.5.0",
      "_model_name": "HBoxModel",
      "_view_count": null,
      "_view_module": "@jupyter-widgets/controls",
      "_view_module_version": "1.5.0",
      "_view_name": "HBoxView",
      "box_style": "",
      "children": [
       "IPY_MODEL_4c4273d90b78468086690cecd37d4e9f",
       "IPY_MODEL_3df6b8d412dc4c4cbb89fa2cd6fcc4c0",
       "IPY_MODEL_5884852775114314879d8b6ed12e3081"
      ],
      "layout": "IPY_MODEL_c39e888e753348a19d8975c0d374eba1"
     }
    },
    "89b8ad1b954b4446badb4fb5960d8f53": {
     "model_module": "@jupyter-widgets/base",
     "model_module_version": "1.2.0",
     "model_name": "LayoutModel",
     "state": {
      "_model_module": "@jupyter-widgets/base",
      "_model_module_version": "1.2.0",
      "_model_name": "LayoutModel",
      "_view_count": null,
      "_view_module": "@jupyter-widgets/base",
      "_view_module_version": "1.2.0",
      "_view_name": "LayoutView",
      "align_content": null,
      "align_items": null,
      "align_self": null,
      "border": null,
      "bottom": null,
      "display": null,
      "flex": null,
      "flex_flow": null,
      "grid_area": null,
      "grid_auto_columns": null,
      "grid_auto_flow": null,
      "grid_auto_rows": null,
      "grid_column": null,
      "grid_gap": null,
      "grid_row": null,
      "grid_template_areas": null,
      "grid_template_columns": null,
      "grid_template_rows": null,
      "height": null,
      "justify_content": null,
      "justify_items": null,
      "left": null,
      "margin": null,
      "max_height": null,
      "max_width": null,
      "min_height": null,
      "min_width": null,
      "object_fit": null,
      "object_position": null,
      "order": null,
      "overflow": null,
      "overflow_x": null,
      "overflow_y": null,
      "padding": null,
      "right": null,
      "top": null,
      "visibility": null,
      "width": null
     }
    },
    "8fe3802333904b19b6eb581f549a7515": {
     "model_module": "@jupyter-widgets/base",
     "model_module_version": "1.2.0",
     "model_name": "LayoutModel",
     "state": {
      "_model_module": "@jupyter-widgets/base",
      "_model_module_version": "1.2.0",
      "_model_name": "LayoutModel",
      "_view_count": null,
      "_view_module": "@jupyter-widgets/base",
      "_view_module_version": "1.2.0",
      "_view_name": "LayoutView",
      "align_content": null,
      "align_items": null,
      "align_self": null,
      "border": null,
      "bottom": null,
      "display": null,
      "flex": null,
      "flex_flow": null,
      "grid_area": null,
      "grid_auto_columns": null,
      "grid_auto_flow": null,
      "grid_auto_rows": null,
      "grid_column": null,
      "grid_gap": null,
      "grid_row": null,
      "grid_template_areas": null,
      "grid_template_columns": null,
      "grid_template_rows": null,
      "height": null,
      "justify_content": null,
      "justify_items": null,
      "left": null,
      "margin": null,
      "max_height": null,
      "max_width": null,
      "min_height": null,
      "min_width": null,
      "object_fit": null,
      "object_position": null,
      "order": null,
      "overflow": null,
      "overflow_x": null,
      "overflow_y": null,
      "padding": null,
      "right": null,
      "top": null,
      "visibility": null,
      "width": null
     }
    },
    "96a49fd9de15432eaf30f8038eaf9a79": {
     "model_module": "@jupyter-widgets/base",
     "model_module_version": "1.2.0",
     "model_name": "LayoutModel",
     "state": {
      "_model_module": "@jupyter-widgets/base",
      "_model_module_version": "1.2.0",
      "_model_name": "LayoutModel",
      "_view_count": null,
      "_view_module": "@jupyter-widgets/base",
      "_view_module_version": "1.2.0",
      "_view_name": "LayoutView",
      "align_content": null,
      "align_items": null,
      "align_self": null,
      "border": null,
      "bottom": null,
      "display": null,
      "flex": null,
      "flex_flow": null,
      "grid_area": null,
      "grid_auto_columns": null,
      "grid_auto_flow": null,
      "grid_auto_rows": null,
      "grid_column": null,
      "grid_gap": null,
      "grid_row": null,
      "grid_template_areas": null,
      "grid_template_columns": null,
      "grid_template_rows": null,
      "height": null,
      "justify_content": null,
      "justify_items": null,
      "left": null,
      "margin": null,
      "max_height": null,
      "max_width": null,
      "min_height": null,
      "min_width": null,
      "object_fit": null,
      "object_position": null,
      "order": null,
      "overflow": null,
      "overflow_x": null,
      "overflow_y": null,
      "padding": null,
      "right": null,
      "top": null,
      "visibility": null,
      "width": null
     }
    },
    "9bbac8a1d9a3475dafeab624ee3eccae": {
     "model_module": "@jupyter-widgets/base",
     "model_module_version": "1.2.0",
     "model_name": "LayoutModel",
     "state": {
      "_model_module": "@jupyter-widgets/base",
      "_model_module_version": "1.2.0",
      "_model_name": "LayoutModel",
      "_view_count": null,
      "_view_module": "@jupyter-widgets/base",
      "_view_module_version": "1.2.0",
      "_view_name": "LayoutView",
      "align_content": null,
      "align_items": null,
      "align_self": null,
      "border": null,
      "bottom": null,
      "display": null,
      "flex": null,
      "flex_flow": null,
      "grid_area": null,
      "grid_auto_columns": null,
      "grid_auto_flow": null,
      "grid_auto_rows": null,
      "grid_column": null,
      "grid_gap": null,
      "grid_row": null,
      "grid_template_areas": null,
      "grid_template_columns": null,
      "grid_template_rows": null,
      "height": null,
      "justify_content": null,
      "justify_items": null,
      "left": null,
      "margin": null,
      "max_height": null,
      "max_width": null,
      "min_height": null,
      "min_width": null,
      "object_fit": null,
      "object_position": null,
      "order": null,
      "overflow": null,
      "overflow_x": null,
      "overflow_y": null,
      "padding": null,
      "right": null,
      "top": null,
      "visibility": null,
      "width": null
     }
    },
    "a1b330077c744577a5e3018656fe092b": {
     "model_module": "@jupyter-widgets/controls",
     "model_module_version": "1.5.0",
     "model_name": "HTMLModel",
     "state": {
      "_dom_classes": [],
      "_model_module": "@jupyter-widgets/controls",
      "_model_module_version": "1.5.0",
      "_model_name": "HTMLModel",
      "_view_count": null,
      "_view_module": "@jupyter-widgets/controls",
      "_view_module_version": "1.5.0",
      "_view_name": "HTMLView",
      "description": "",
      "description_tooltip": null,
      "layout": "IPY_MODEL_9bbac8a1d9a3475dafeab624ee3eccae",
      "placeholder": "​",
      "style": "IPY_MODEL_0e8efce7c2704151babb82ff81649f63",
      "value": " 960/960 [00:00&lt;00:00, 2734.04 examples/s]"
     }
    },
    "a93eb023e7b34a639ea71f00b2f8680a": {
     "model_module": "@jupyter-widgets/base",
     "model_module_version": "1.2.0",
     "model_name": "LayoutModel",
     "state": {
      "_model_module": "@jupyter-widgets/base",
      "_model_module_version": "1.2.0",
      "_model_name": "LayoutModel",
      "_view_count": null,
      "_view_module": "@jupyter-widgets/base",
      "_view_module_version": "1.2.0",
      "_view_name": "LayoutView",
      "align_content": null,
      "align_items": null,
      "align_self": null,
      "border": null,
      "bottom": null,
      "display": null,
      "flex": null,
      "flex_flow": null,
      "grid_area": null,
      "grid_auto_columns": null,
      "grid_auto_flow": null,
      "grid_auto_rows": null,
      "grid_column": null,
      "grid_gap": null,
      "grid_row": null,
      "grid_template_areas": null,
      "grid_template_columns": null,
      "grid_template_rows": null,
      "height": null,
      "justify_content": null,
      "justify_items": null,
      "left": null,
      "margin": null,
      "max_height": null,
      "max_width": null,
      "min_height": null,
      "min_width": null,
      "object_fit": null,
      "object_position": null,
      "order": null,
      "overflow": null,
      "overflow_x": null,
      "overflow_y": null,
      "padding": null,
      "right": null,
      "top": null,
      "visibility": null,
      "width": null
     }
    },
    "ae264fb2dd4042c899ff54058289c756": {
     "model_module": "@jupyter-widgets/base",
     "model_module_version": "1.2.0",
     "model_name": "LayoutModel",
     "state": {
      "_model_module": "@jupyter-widgets/base",
      "_model_module_version": "1.2.0",
      "_model_name": "LayoutModel",
      "_view_count": null,
      "_view_module": "@jupyter-widgets/base",
      "_view_module_version": "1.2.0",
      "_view_name": "LayoutView",
      "align_content": null,
      "align_items": null,
      "align_self": null,
      "border": null,
      "bottom": null,
      "display": null,
      "flex": null,
      "flex_flow": null,
      "grid_area": null,
      "grid_auto_columns": null,
      "grid_auto_flow": null,
      "grid_auto_rows": null,
      "grid_column": null,
      "grid_gap": null,
      "grid_row": null,
      "grid_template_areas": null,
      "grid_template_columns": null,
      "grid_template_rows": null,
      "height": null,
      "justify_content": null,
      "justify_items": null,
      "left": null,
      "margin": null,
      "max_height": null,
      "max_width": null,
      "min_height": null,
      "min_width": null,
      "object_fit": null,
      "object_position": null,
      "order": null,
      "overflow": null,
      "overflow_x": null,
      "overflow_y": null,
      "padding": null,
      "right": null,
      "top": null,
      "visibility": null,
      "width": null
     }
    },
    "b0680bd3c8e24f5e9cc43c81e20d886a": {
     "model_module": "@jupyter-widgets/controls",
     "model_module_version": "1.5.0",
     "model_name": "HTMLModel",
     "state": {
      "_dom_classes": [],
      "_model_module": "@jupyter-widgets/controls",
      "_model_module_version": "1.5.0",
      "_model_name": "HTMLModel",
      "_view_count": null,
      "_view_module": "@jupyter-widgets/controls",
      "_view_module_version": "1.5.0",
      "_view_name": "HTMLView",
      "description": "",
      "description_tooltip": null,
      "layout": "IPY_MODEL_fc7b181471604ebc94b2c561e88cf969",
      "placeholder": "​",
      "style": "IPY_MODEL_de5bd364fdc241c3832b87bf740f8d75",
      "value": " 21293/21293 [00:06&lt;00:00, 2823.54 examples/s]"
     }
    },
    "b19f5ab108be400c95cfc23f43441a78": {
     "model_module": "@jupyter-widgets/controls",
     "model_module_version": "1.5.0",
     "model_name": "HTMLModel",
     "state": {
      "_dom_classes": [],
      "_model_module": "@jupyter-widgets/controls",
      "_model_module_version": "1.5.0",
      "_model_name": "HTMLModel",
      "_view_count": null,
      "_view_module": "@jupyter-widgets/controls",
      "_view_module_version": "1.5.0",
      "_view_name": "HTMLView",
      "description": "",
      "description_tooltip": null,
      "layout": "IPY_MODEL_0d4deda2d5d845e7ba4c45bd8ed562a8",
      "placeholder": "​",
      "style": "IPY_MODEL_34e7013276e34d87a396ffc0987d344a",
      "value": " 2.44G/2.44G [00:19&lt;00:00, 92.0MB/s]"
     }
    },
    "b4590002b0a94011a89e70559b8a0dc8": {
     "model_module": "@jupyter-widgets/base",
     "model_module_version": "1.2.0",
     "model_name": "LayoutModel",
     "state": {
      "_model_module": "@jupyter-widgets/base",
      "_model_module_version": "1.2.0",
      "_model_name": "LayoutModel",
      "_view_count": null,
      "_view_module": "@jupyter-widgets/base",
      "_view_module_version": "1.2.0",
      "_view_name": "LayoutView",
      "align_content": null,
      "align_items": null,
      "align_self": null,
      "border": null,
      "bottom": null,
      "display": null,
      "flex": null,
      "flex_flow": null,
      "grid_area": null,
      "grid_auto_columns": null,
      "grid_auto_flow": null,
      "grid_auto_rows": null,
      "grid_column": null,
      "grid_gap": null,
      "grid_row": null,
      "grid_template_areas": null,
      "grid_template_columns": null,
      "grid_template_rows": null,
      "height": null,
      "justify_content": null,
      "justify_items": null,
      "left": null,
      "margin": null,
      "max_height": null,
      "max_width": null,
      "min_height": null,
      "min_width": null,
      "object_fit": null,
      "object_position": null,
      "order": null,
      "overflow": null,
      "overflow_x": null,
      "overflow_y": null,
      "padding": null,
      "right": null,
      "top": null,
      "visibility": "hidden",
      "width": null
     }
    },
    "b70a4c1dc2014ec197f1e2c8da8e5b62": {
     "model_module": "@jupyter-widgets/controls",
     "model_module_version": "1.5.0",
     "model_name": "HBoxModel",
     "state": {
      "_dom_classes": [],
      "_model_module": "@jupyter-widgets/controls",
      "_model_module_version": "1.5.0",
      "_model_name": "HBoxModel",
      "_view_count": null,
      "_view_module": "@jupyter-widgets/controls",
      "_view_module_version": "1.5.0",
      "_view_name": "HBoxView",
      "box_style": "",
      "children": [
       "IPY_MODEL_fc141c350a6141b495eb074606f2af08",
       "IPY_MODEL_317a7c03332241fe8aa4f83e17944b43",
       "IPY_MODEL_d2b6e6ff15fb40698ee43480322d5868"
      ],
      "layout": "IPY_MODEL_425cd41fb8f440849aa7dd719109c100"
     }
    },
    "b9276c1853794da6a4cf1b5bbf397bcd": {
     "model_module": "@jupyter-widgets/controls",
     "model_module_version": "1.5.0",
     "model_name": "HBoxModel",
     "state": {
      "_dom_classes": [],
      "_model_module": "@jupyter-widgets/controls",
      "_model_module_version": "1.5.0",
      "_model_name": "HBoxModel",
      "_view_count": null,
      "_view_module": "@jupyter-widgets/controls",
      "_view_module_version": "1.5.0",
      "_view_name": "HBoxView",
      "box_style": "",
      "children": [
       "IPY_MODEL_ee897db29a6745e6be7d0c870549aaeb",
       "IPY_MODEL_064c5aae6a5b48de85a6e6cbf97542d5",
       "IPY_MODEL_b19f5ab108be400c95cfc23f43441a78"
      ],
      "layout": "IPY_MODEL_89b8ad1b954b4446badb4fb5960d8f53"
     }
    },
    "c39e888e753348a19d8975c0d374eba1": {
     "model_module": "@jupyter-widgets/base",
     "model_module_version": "1.2.0",
     "model_name": "LayoutModel",
     "state": {
      "_model_module": "@jupyter-widgets/base",
      "_model_module_version": "1.2.0",
      "_model_name": "LayoutModel",
      "_view_count": null,
      "_view_module": "@jupyter-widgets/base",
      "_view_module_version": "1.2.0",
      "_view_name": "LayoutView",
      "align_content": null,
      "align_items": null,
      "align_self": null,
      "border": null,
      "bottom": null,
      "display": null,
      "flex": null,
      "flex_flow": null,
      "grid_area": null,
      "grid_auto_columns": null,
      "grid_auto_flow": null,
      "grid_auto_rows": null,
      "grid_column": null,
      "grid_gap": null,
      "grid_row": null,
      "grid_template_areas": null,
      "grid_template_columns": null,
      "grid_template_rows": null,
      "height": null,
      "justify_content": null,
      "justify_items": null,
      "left": null,
      "margin": null,
      "max_height": null,
      "max_width": null,
      "min_height": null,
      "min_width": null,
      "object_fit": null,
      "object_position": null,
      "order": null,
      "overflow": null,
      "overflow_x": null,
      "overflow_y": null,
      "padding": null,
      "right": null,
      "top": null,
      "visibility": null,
      "width": null
     }
    },
    "c5692bb6be694330bc5bc349dd723e6a": {
     "model_module": "@jupyter-widgets/controls",
     "model_module_version": "1.5.0",
     "model_name": "DescriptionStyleModel",
     "state": {
      "_model_module": "@jupyter-widgets/controls",
      "_model_module_version": "1.5.0",
      "_model_name": "DescriptionStyleModel",
      "_view_count": null,
      "_view_module": "@jupyter-widgets/base",
      "_view_module_version": "1.2.0",
      "_view_name": "StyleView",
      "description_width": ""
     }
    },
    "cc3c349465774d8a9d0f8cdc6d73f635": {
     "model_module": "@jupyter-widgets/controls",
     "model_module_version": "1.5.0",
     "model_name": "ProgressStyleModel",
     "state": {
      "_model_module": "@jupyter-widgets/controls",
      "_model_module_version": "1.5.0",
      "_model_name": "ProgressStyleModel",
      "_view_count": null,
      "_view_module": "@jupyter-widgets/base",
      "_view_module_version": "1.2.0",
      "_view_name": "StyleView",
      "bar_color": null,
      "description_width": ""
     }
    },
    "d12b9d4889a64779a319f4627455faf1": {
     "model_module": "@jupyter-widgets/controls",
     "model_module_version": "1.5.0",
     "model_name": "HBoxModel",
     "state": {
      "_dom_classes": [],
      "_model_module": "@jupyter-widgets/controls",
      "_model_module_version": "1.5.0",
      "_model_name": "HBoxModel",
      "_view_count": null,
      "_view_module": "@jupyter-widgets/controls",
      "_view_module_version": "1.5.0",
      "_view_name": "HBoxView",
      "box_style": "",
      "children": [
       "IPY_MODEL_7b7cb7e48c304ae5a461946cb92b92f6",
       "IPY_MODEL_6864d987db7f44b081bba77f0ed60e1a",
       "IPY_MODEL_a1b330077c744577a5e3018656fe092b"
      ],
      "layout": "IPY_MODEL_b4590002b0a94011a89e70559b8a0dc8"
     }
    },
    "d2b6e6ff15fb40698ee43480322d5868": {
     "model_module": "@jupyter-widgets/controls",
     "model_module_version": "1.5.0",
     "model_name": "HTMLModel",
     "state": {
      "_dom_classes": [],
      "_model_module": "@jupyter-widgets/controls",
      "_model_module_version": "1.5.0",
      "_model_name": "HTMLModel",
      "_view_count": null,
      "_view_module": "@jupyter-widgets/controls",
      "_view_module_version": "1.5.0",
      "_view_name": "HTMLView",
      "description": "",
      "description_tooltip": null,
      "layout": "IPY_MODEL_7236f5a1f4124ccc9244747b421accd2",
      "placeholder": "​",
      "style": "IPY_MODEL_2a853685b53640d98f199177ff9b5728",
      "value": " 942/942 [00:00&lt;00:00, 3049.02 examples/s]"
     }
    },
    "de5bd364fdc241c3832b87bf740f8d75": {
     "model_module": "@jupyter-widgets/controls",
     "model_module_version": "1.5.0",
     "model_name": "DescriptionStyleModel",
     "state": {
      "_model_module": "@jupyter-widgets/controls",
      "_model_module_version": "1.5.0",
      "_model_name": "DescriptionStyleModel",
      "_view_count": null,
      "_view_module": "@jupyter-widgets/base",
      "_view_module_version": "1.2.0",
      "_view_name": "StyleView",
      "description_width": ""
     }
    },
    "e120a25e7ef742d3a98f79915d09d27a": {
     "model_module": "@jupyter-widgets/controls",
     "model_module_version": "1.5.0",
     "model_name": "DescriptionStyleModel",
     "state": {
      "_model_module": "@jupyter-widgets/controls",
      "_model_module_version": "1.5.0",
      "_model_name": "DescriptionStyleModel",
      "_view_count": null,
      "_view_module": "@jupyter-widgets/base",
      "_view_module_version": "1.2.0",
      "_view_name": "StyleView",
      "description_width": ""
     }
    },
    "ee897db29a6745e6be7d0c870549aaeb": {
     "model_module": "@jupyter-widgets/controls",
     "model_module_version": "1.5.0",
     "model_name": "HTMLModel",
     "state": {
      "_dom_classes": [],
      "_model_module": "@jupyter-widgets/controls",
      "_model_module_version": "1.5.0",
      "_model_name": "HTMLModel",
      "_view_count": null,
      "_view_module": "@jupyter-widgets/controls",
      "_view_module_version": "1.5.0",
      "_view_name": "HTMLView",
      "description": "",
      "description_tooltip": null,
      "layout": "IPY_MODEL_72c5bb4b76724dcf8d7b46311d367833",
      "placeholder": "​",
      "style": "IPY_MODEL_c5692bb6be694330bc5bc349dd723e6a",
      "value": "Downloading pytorch_model.bin: 100%"
     }
    },
    "f392e37eadcf4d9cb7d8e362b8b67684": {
     "model_module": "@jupyter-widgets/controls",
     "model_module_version": "1.5.0",
     "model_name": "DescriptionStyleModel",
     "state": {
      "_model_module": "@jupyter-widgets/controls",
      "_model_module_version": "1.5.0",
      "_model_name": "DescriptionStyleModel",
      "_view_count": null,
      "_view_module": "@jupyter-widgets/base",
      "_view_module_version": "1.2.0",
      "_view_name": "StyleView",
      "description_width": ""
     }
    },
    "fc141c350a6141b495eb074606f2af08": {
     "model_module": "@jupyter-widgets/controls",
     "model_module_version": "1.5.0",
     "model_name": "HTMLModel",
     "state": {
      "_dom_classes": [],
      "_model_module": "@jupyter-widgets/controls",
      "_model_module_version": "1.5.0",
      "_model_name": "HTMLModel",
      "_view_count": null,
      "_view_module": "@jupyter-widgets/controls",
      "_view_module_version": "1.5.0",
      "_view_name": "HTMLView",
      "description": "",
      "description_tooltip": null,
      "layout": "IPY_MODEL_744c1d0910b44566a58151c3cc46ee07",
      "placeholder": "​",
      "style": "IPY_MODEL_70160516a5904c5282b9ba13bf2daae6",
      "value": "Map: 100%"
     }
    },
    "fc7b181471604ebc94b2c561e88cf969": {
     "model_module": "@jupyter-widgets/base",
     "model_module_version": "1.2.0",
     "model_name": "LayoutModel",
     "state": {
      "_model_module": "@jupyter-widgets/base",
      "_model_module_version": "1.2.0",
      "_model_name": "LayoutModel",
      "_view_count": null,
      "_view_module": "@jupyter-widgets/base",
      "_view_module_version": "1.2.0",
      "_view_name": "LayoutView",
      "align_content": null,
      "align_items": null,
      "align_self": null,
      "border": null,
      "bottom": null,
      "display": null,
      "flex": null,
      "flex_flow": null,
      "grid_area": null,
      "grid_auto_columns": null,
      "grid_auto_flow": null,
      "grid_auto_rows": null,
      "grid_column": null,
      "grid_gap": null,
      "grid_row": null,
      "grid_template_areas": null,
      "grid_template_columns": null,
      "grid_template_rows": null,
      "height": null,
      "justify_content": null,
      "justify_items": null,
      "left": null,
      "margin": null,
      "max_height": null,
      "max_width": null,
      "min_height": null,
      "min_width": null,
      "object_fit": null,
      "object_position": null,
      "order": null,
      "overflow": null,
      "overflow_x": null,
      "overflow_y": null,
      "padding": null,
      "right": null,
      "top": null,
      "visibility": null,
      "width": null
     }
    }
   }
  }
 },
 "nbformat": 4,
 "nbformat_minor": 4
}
