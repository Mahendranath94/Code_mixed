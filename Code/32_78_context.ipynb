{
 "cells": [
  {
   "cell_type": "markdown",
   "metadata": {
    "id": "vKDiY2Gqh_Ka"
   },
   "source": [
    "\n",
    "# FIne-tune on 3 epoch's"
   ]
  },
  {
   "cell_type": "code",
   "execution_count": null,
   "metadata": {
    "colab": {
     "base_uri": "https://localhost:8080/"
    },
    "id": "jswz2aXrHHA5",
    "outputId": "f5112f08-fa71-4c74-82b4-5a10d2e3573c"
   },
   "outputs": [
    {
     "name": "stdout",
     "output_type": "stream",
     "text": [
      "/content/mbart\n"
     ]
    }
   ],
   "source": [
    "!mkdir -p \"mbart\"\n",
    "%cd mbart"
   ]
  },
  {
   "cell_type": "code",
   "execution_count": 1,
   "metadata": {
    "colab": {
     "base_uri": "https://localhost:8080/"
    },
    "id": "dv-0ev0q7M0Q",
    "outputId": "2b4ef085-bc60-413a-a4e1-db8dfca98f4a"
   },
   "outputs": [
    {
     "name": "stdout",
     "output_type": "stream",
     "text": [
      "Requirement already satisfied: transformers in c:\\users\\mahendranath\\anaconda3\\lib\\site-packages (4.26.1)\n",
      "Requirement already satisfied: filelock in c:\\users\\mahendranath\\anaconda3\\lib\\site-packages (from transformers) (3.9.0)\n",
      "Requirement already satisfied: huggingface-hub<1.0,>=0.11.0 in c:\\users\\mahendranath\\anaconda3\\lib\\site-packages (from transformers) (0.18.0)\n",
      "Requirement already satisfied: numpy>=1.17 in c:\\users\\mahendranath\\anaconda3\\lib\\site-packages (from transformers) (1.20.1)\n",
      "Requirement already satisfied: packaging>=20.0 in c:\\users\\mahendranath\\anaconda3\\lib\\site-packages (from transformers) (22.0)\n",
      "Requirement already satisfied: pyyaml>=5.1 in c:\\users\\mahendranath\\anaconda3\\lib\\site-packages (from transformers) (6.0)\n",
      "Requirement already satisfied: regex!=2019.12.17 in c:\\users\\mahendranath\\anaconda3\\lib\\site-packages (from transformers) (2022.7.9)\n",
      "Requirement already satisfied: requests in c:\\users\\mahendranath\\anaconda3\\lib\\site-packages (from transformers) (2.28.1)\n",
      "Requirement already satisfied: tokenizers!=0.11.3,<0.14,>=0.11.1 in c:\\users\\mahendranath\\anaconda3\\lib\\site-packages (from transformers) (0.13.2)\n",
      "Requirement already satisfied: tqdm>=4.27 in c:\\users\\mahendranath\\anaconda3\\lib\\site-packages (from transformers) (4.64.1)\n",
      "Requirement already satisfied: fsspec>=2023.5.0 in c:\\users\\mahendranath\\anaconda3\\lib\\site-packages (from huggingface-hub<1.0,>=0.11.0->transformers) (2023.6.0)\n",
      "Requirement already satisfied: typing-extensions>=3.7.4.3 in c:\\users\\mahendranath\\anaconda3\\lib\\site-packages (from huggingface-hub<1.0,>=0.11.0->transformers) (4.4.0)\n",
      "Requirement already satisfied: colorama in c:\\users\\mahendranath\\anaconda3\\lib\\site-packages (from tqdm>=4.27->transformers) (0.4.6)\n",
      "Requirement already satisfied: charset-normalizer<3,>=2 in c:\\users\\mahendranath\\anaconda3\\lib\\site-packages (from requests->transformers) (2.0.4)\n",
      "Requirement already satisfied: idna<4,>=2.5 in c:\\users\\mahendranath\\anaconda3\\lib\\site-packages (from requests->transformers) (3.4)\n",
      "Requirement already satisfied: urllib3<1.27,>=1.21.1 in c:\\users\\mahendranath\\anaconda3\\lib\\site-packages (from requests->transformers) (1.26.14)\n",
      "Requirement already satisfied: certifi>=2017.4.17 in c:\\users\\mahendranath\\anaconda3\\lib\\site-packages (from requests->transformers) (2022.12.7)\n",
      "Requirement already satisfied: datasets in c:\\users\\mahendranath\\anaconda3\\lib\\site-packages (2.14.5)\n",
      "Requirement already satisfied: numpy>=1.17 in c:\\users\\mahendranath\\anaconda3\\lib\\site-packages (from datasets) (1.20.1)\n",
      "Requirement already satisfied: pyarrow>=8.0.0 in c:\\users\\mahendranath\\anaconda3\\lib\\site-packages (from datasets) (10.0.1)\n",
      "Requirement already satisfied: dill<0.3.8,>=0.3.0 in c:\\users\\mahendranath\\anaconda3\\lib\\site-packages (from datasets) (0.3.7)\n",
      "Requirement already satisfied: pandas in c:\\users\\mahendranath\\anaconda3\\lib\\site-packages (from datasets) (1.4.4)\n",
      "Requirement already satisfied: requests>=2.19.0 in c:\\users\\mahendranath\\anaconda3\\lib\\site-packages (from datasets) (2.28.1)\n",
      "Requirement already satisfied: tqdm>=4.62.1 in c:\\users\\mahendranath\\anaconda3\\lib\\site-packages (from datasets) (4.64.1)\n",
      "Requirement already satisfied: xxhash in c:\\users\\mahendranath\\anaconda3\\lib\\site-packages (from datasets) (3.4.1)\n",
      "Requirement already satisfied: multiprocess in c:\\users\\mahendranath\\anaconda3\\lib\\site-packages (from datasets) (0.70.15)\n",
      "Requirement already satisfied: fsspec<2023.9.0,>=2023.1.0 in c:\\users\\mahendranath\\anaconda3\\lib\\site-packages (from fsspec[http]<2023.9.0,>=2023.1.0->datasets) (2023.6.0)\n",
      "Requirement already satisfied: aiohttp in c:\\users\\mahendranath\\anaconda3\\lib\\site-packages (from datasets) (3.8.3)\n",
      "Requirement already satisfied: huggingface-hub<1.0.0,>=0.14.0 in c:\\users\\mahendranath\\anaconda3\\lib\\site-packages (from datasets) (0.18.0)\n",
      "Requirement already satisfied: packaging in c:\\users\\mahendranath\\anaconda3\\lib\\site-packages (from datasets) (22.0)\n",
      "Requirement already satisfied: pyyaml>=5.1 in c:\\users\\mahendranath\\anaconda3\\lib\\site-packages (from datasets) (6.0)\n",
      "Requirement already satisfied: attrs>=17.3.0 in c:\\users\\mahendranath\\anaconda3\\lib\\site-packages (from aiohttp->datasets) (22.1.0)\n",
      "Requirement already satisfied: charset-normalizer<3.0,>=2.0 in c:\\users\\mahendranath\\anaconda3\\lib\\site-packages (from aiohttp->datasets) (2.0.4)\n",
      "Requirement already satisfied: multidict<7.0,>=4.5 in c:\\users\\mahendranath\\anaconda3\\lib\\site-packages (from aiohttp->datasets) (6.0.2)\n",
      "Requirement already satisfied: async-timeout<5.0,>=4.0.0a3 in c:\\users\\mahendranath\\anaconda3\\lib\\site-packages (from aiohttp->datasets) (4.0.2)\n",
      "Requirement already satisfied: yarl<2.0,>=1.0 in c:\\users\\mahendranath\\anaconda3\\lib\\site-packages (from aiohttp->datasets) (1.8.1)\n",
      "Requirement already satisfied: frozenlist>=1.1.1 in c:\\users\\mahendranath\\anaconda3\\lib\\site-packages (from aiohttp->datasets) (1.3.3)\n",
      "Requirement already satisfied: aiosignal>=1.1.2 in c:\\users\\mahendranath\\anaconda3\\lib\\site-packages (from aiohttp->datasets) (1.2.0)\n",
      "Requirement already satisfied: filelock in c:\\users\\mahendranath\\anaconda3\\lib\\site-packages (from huggingface-hub<1.0.0,>=0.14.0->datasets) (3.9.0)\n",
      "Requirement already satisfied: typing-extensions>=3.7.4.3 in c:\\users\\mahendranath\\anaconda3\\lib\\site-packages (from huggingface-hub<1.0.0,>=0.14.0->datasets) (4.4.0)\n",
      "Requirement already satisfied: idna<4,>=2.5 in c:\\users\\mahendranath\\anaconda3\\lib\\site-packages (from requests>=2.19.0->datasets) (3.4)\n",
      "Requirement already satisfied: urllib3<1.27,>=1.21.1 in c:\\users\\mahendranath\\anaconda3\\lib\\site-packages (from requests>=2.19.0->datasets) (1.26.14)\n",
      "Requirement already satisfied: certifi>=2017.4.17 in c:\\users\\mahendranath\\anaconda3\\lib\\site-packages (from requests>=2.19.0->datasets) (2022.12.7)\n",
      "Requirement already satisfied: colorama in c:\\users\\mahendranath\\anaconda3\\lib\\site-packages (from tqdm>=4.62.1->datasets) (0.4.6)\n",
      "Requirement already satisfied: python-dateutil>=2.8.1 in c:\\users\\mahendranath\\anaconda3\\lib\\site-packages (from pandas->datasets) (2.8.2)\n",
      "Requirement already satisfied: pytz>=2020.1 in c:\\users\\mahendranath\\anaconda3\\lib\\site-packages (from pandas->datasets) (2022.7)\n",
      "Requirement already satisfied: six>=1.5 in c:\\users\\mahendranath\\anaconda3\\lib\\site-packages (from python-dateutil>=2.8.1->pandas->datasets) (1.16.0)\n",
      "Requirement already satisfied: sacrebleu in c:\\users\\mahendranath\\anaconda3\\lib\\site-packages (2.3.1)\n",
      "Requirement already satisfied: portalocker in c:\\users\\mahendranath\\anaconda3\\lib\\site-packages (from sacrebleu) (2.7.0)\n",
      "Requirement already satisfied: regex in c:\\users\\mahendranath\\anaconda3\\lib\\site-packages (from sacrebleu) (2022.7.9)\n",
      "Requirement already satisfied: tabulate>=0.8.9 in c:\\users\\mahendranath\\anaconda3\\lib\\site-packages (from sacrebleu) (0.9.0)\n",
      "Requirement already satisfied: numpy>=1.17 in c:\\users\\mahendranath\\anaconda3\\lib\\site-packages (from sacrebleu) (1.20.1)\n",
      "Requirement already satisfied: colorama in c:\\users\\mahendranath\\anaconda3\\lib\\site-packages (from sacrebleu) (0.4.6)\n",
      "Requirement already satisfied: lxml in c:\\users\\mahendranath\\anaconda3\\lib\\site-packages (from sacrebleu) (4.9.1)\n",
      "Requirement already satisfied: pywin32>=226 in c:\\users\\mahendranath\\anaconda3\\lib\\site-packages (from portalocker->sacrebleu) (305.1)\n",
      "Requirement already satisfied: sentencepiece in c:\\users\\mahendranath\\anaconda3\\lib\\site-packages (0.1.95)\n",
      "Requirement already satisfied: evaluate in c:\\users\\mahendranath\\anaconda3\\lib\\site-packages (0.4.1)\n",
      "Requirement already satisfied: datasets>=2.0.0 in c:\\users\\mahendranath\\anaconda3\\lib\\site-packages (from evaluate) (2.14.5)\n",
      "Requirement already satisfied: numpy>=1.17 in c:\\users\\mahendranath\\anaconda3\\lib\\site-packages (from evaluate) (1.20.1)\n",
      "Requirement already satisfied: dill in c:\\users\\mahendranath\\anaconda3\\lib\\site-packages (from evaluate) (0.3.7)\n",
      "Requirement already satisfied: pandas in c:\\users\\mahendranath\\anaconda3\\lib\\site-packages (from evaluate) (1.4.4)\n",
      "Requirement already satisfied: requests>=2.19.0 in c:\\users\\mahendranath\\anaconda3\\lib\\site-packages (from evaluate) (2.28.1)\n",
      "Requirement already satisfied: tqdm>=4.62.1 in c:\\users\\mahendranath\\anaconda3\\lib\\site-packages (from evaluate) (4.64.1)\n",
      "Requirement already satisfied: xxhash in c:\\users\\mahendranath\\anaconda3\\lib\\site-packages (from evaluate) (3.4.1)\n",
      "Requirement already satisfied: multiprocess in c:\\users\\mahendranath\\anaconda3\\lib\\site-packages (from evaluate) (0.70.15)\n",
      "Requirement already satisfied: fsspec>=2021.05.0 in c:\\users\\mahendranath\\anaconda3\\lib\\site-packages (from fsspec[http]>=2021.05.0->evaluate) (2023.6.0)\n",
      "Requirement already satisfied: huggingface-hub>=0.7.0 in c:\\users\\mahendranath\\anaconda3\\lib\\site-packages (from evaluate) (0.18.0)\n",
      "Requirement already satisfied: packaging in c:\\users\\mahendranath\\anaconda3\\lib\\site-packages (from evaluate) (22.0)\n",
      "Requirement already satisfied: responses<0.19 in c:\\users\\mahendranath\\anaconda3\\lib\\site-packages (from evaluate) (0.18.0)\n",
      "Requirement already satisfied: pyarrow>=8.0.0 in c:\\users\\mahendranath\\anaconda3\\lib\\site-packages (from datasets>=2.0.0->evaluate) (10.0.1)\n",
      "Requirement already satisfied: aiohttp in c:\\users\\mahendranath\\anaconda3\\lib\\site-packages (from datasets>=2.0.0->evaluate) (3.8.3)\n",
      "Requirement already satisfied: pyyaml>=5.1 in c:\\users\\mahendranath\\anaconda3\\lib\\site-packages (from datasets>=2.0.0->evaluate) (6.0)\n",
      "Requirement already satisfied: filelock in c:\\users\\mahendranath\\anaconda3\\lib\\site-packages (from huggingface-hub>=0.7.0->evaluate) (3.9.0)\n",
      "Requirement already satisfied: typing-extensions>=3.7.4.3 in c:\\users\\mahendranath\\anaconda3\\lib\\site-packages (from huggingface-hub>=0.7.0->evaluate) (4.4.0)\n",
      "Requirement already satisfied: charset-normalizer<3,>=2 in c:\\users\\mahendranath\\anaconda3\\lib\\site-packages (from requests>=2.19.0->evaluate) (2.0.4)\n",
      "Requirement already satisfied: idna<4,>=2.5 in c:\\users\\mahendranath\\anaconda3\\lib\\site-packages (from requests>=2.19.0->evaluate) (3.4)\n",
      "Requirement already satisfied: urllib3<1.27,>=1.21.1 in c:\\users\\mahendranath\\anaconda3\\lib\\site-packages (from requests>=2.19.0->evaluate) (1.26.14)\n",
      "Requirement already satisfied: certifi>=2017.4.17 in c:\\users\\mahendranath\\anaconda3\\lib\\site-packages (from requests>=2.19.0->evaluate) (2022.12.7)\n",
      "Requirement already satisfied: colorama in c:\\users\\mahendranath\\anaconda3\\lib\\site-packages (from tqdm>=4.62.1->evaluate) (0.4.6)\n",
      "Requirement already satisfied: python-dateutil>=2.8.1 in c:\\users\\mahendranath\\anaconda3\\lib\\site-packages (from pandas->evaluate) (2.8.2)\n",
      "Requirement already satisfied: pytz>=2020.1 in c:\\users\\mahendranath\\anaconda3\\lib\\site-packages (from pandas->evaluate) (2022.7)\n",
      "Requirement already satisfied: attrs>=17.3.0 in c:\\users\\mahendranath\\anaconda3\\lib\\site-packages (from aiohttp->datasets>=2.0.0->evaluate) (22.1.0)\n",
      "Requirement already satisfied: multidict<7.0,>=4.5 in c:\\users\\mahendranath\\anaconda3\\lib\\site-packages (from aiohttp->datasets>=2.0.0->evaluate) (6.0.2)\n",
      "Requirement already satisfied: async-timeout<5.0,>=4.0.0a3 in c:\\users\\mahendranath\\anaconda3\\lib\\site-packages (from aiohttp->datasets>=2.0.0->evaluate) (4.0.2)\n",
      "Requirement already satisfied: yarl<2.0,>=1.0 in c:\\users\\mahendranath\\anaconda3\\lib\\site-packages (from aiohttp->datasets>=2.0.0->evaluate) (1.8.1)\n",
      "Requirement already satisfied: frozenlist>=1.1.1 in c:\\users\\mahendranath\\anaconda3\\lib\\site-packages (from aiohttp->datasets>=2.0.0->evaluate) (1.3.3)\n",
      "Requirement already satisfied: aiosignal>=1.1.2 in c:\\users\\mahendranath\\anaconda3\\lib\\site-packages (from aiohttp->datasets>=2.0.0->evaluate) (1.2.0)\n",
      "Requirement already satisfied: six>=1.5 in c:\\users\\mahendranath\\anaconda3\\lib\\site-packages (from python-dateutil>=2.8.1->pandas->evaluate) (1.16.0)\n"
     ]
    },
    {
     "name": "stdout",
     "output_type": "stream",
     "text": [
      "Requirement already satisfied: jiwer in c:\\users\\mahendranath\\anaconda3\\lib\\site-packages (3.0.3)\n",
      "Requirement already satisfied: click<9.0.0,>=8.1.3 in c:\\users\\mahendranath\\anaconda3\\lib\\site-packages (from jiwer) (8.1.7)\n",
      "Requirement already satisfied: rapidfuzz<4,>=3 in c:\\users\\mahendranath\\anaconda3\\lib\\site-packages (from jiwer) (3.4.0)\n",
      "Requirement already satisfied: colorama in c:\\users\\mahendranath\\anaconda3\\lib\\site-packages (from click<9.0.0,>=8.1.3->jiwer) (0.4.6)\n"
     ]
    }
   ],
   "source": [
    "!pip install transformers\n",
    "!pip install datasets\n",
    "!pip install sacrebleu\n",
    "!pip install sentencepiece\n",
    "!pip install evaluate\n",
    "!pip install jiwer"
   ]
  },
  {
   "cell_type": "code",
   "execution_count": 3,
   "metadata": {
    "id": "QQyf5uDiG2WZ"
   },
   "outputs": [],
   "source": [
    "from transformers import MBartForConditionalGeneration, MBart50TokenizerFast, Seq2SeqTrainingArguments, Seq2SeqTrainer\n",
    "from transformers import get_linear_schedule_with_warmup\n",
    "from datasets import load_dataset, load_metric\n",
    "import torch\n",
    "from sacrebleu import corpus_bleu\n",
    "from sacrebleu import corpus_ter\n",
    "import pandas as pd\n",
    "from datasets import Dataset\n",
    "import evaluate\n",
    "import nltk\n",
    "import unicodedata\n",
    "import jiwer"
   ]
  },
  {
   "cell_type": "code",
   "execution_count": 4,
   "metadata": {
    "id": "3rJ6gdtgzE-m"
   },
   "outputs": [],
   "source": [
    "def preprocess_text(text):\n",
    "    # Lowercase the text\n",
    "    text = text.lower()\n",
    "    # Normalize unicode characters\n",
    "    text = unicodedata.normalize(\"NFKD\", text)\n",
    "    return text"
   ]
  },
  {
   "cell_type": "code",
   "execution_count": null,
   "metadata": {
    "id": "P6KetY9SG2YX"
   },
   "outputs": [],
   "source": [
    "# Tokenizer\n",
    "tokenizer = MBart50TokenizerFast.from_pretrained(\"facebook/mbart-large-50-many-to-many-mmt\")\n",
    "\n",
    "# Load data from files\n",
    "with open(\"train.en\", encoding=\"utf-8\") as train_en, \\\n",
    "     open(\"train.hi\", encoding=\"utf-8\") as train_hi:\n",
    "\n",
    "    # Read the lines from each file\n",
    "    lines_en = train_en.readlines()\n",
    "    lines_hi = train_hi.readlines()\n",
    "\n",
    "    # Combine the lines into pairs and preprocess them\n",
    "    data = [(preprocess_text(hi.strip()), preprocess_text(en.strip())) for hi, en in zip(lines_hi, lines_en)]\n",
    "\n",
    "# Create a pandas DataFrame\n",
    "train_df = pd.DataFrame(data, columns=[\"input_text\",\"target_text\"])\n",
    "\n",
    "# Load data from files\n",
    "with open(\"test.en\", encoding=\"utf-8\") as test_en, \\\n",
    "     open(\"test.hi\", encoding=\"utf-8\") as test_hi:\n",
    "\n",
    "    # Read the lines from each file\n",
    "    lines_en = test_en.readlines()\n",
    "    lines_hi = test_hi.readlines()\n",
    "\n",
    "    # Combine the lines into pairs and preprocess them\n",
    "    data = [(preprocess_text(hi.strip()), preprocess_text(en.strip())) for hi, en in zip(lines_hi, lines_en)]\n",
    "\n",
    "# Create a pandas DataFrame\n",
    "test_df = pd.DataFrame(data, columns=[\"input_text\",\"target_text\"])\n",
    "\n",
    "# Load data from files\n",
    "with open(\"valid.en\", encoding=\"utf-8\") as valid_en, \\\n",
    "     open(\"valid.hi\", encoding=\"utf-8\") as valid_hi:\n",
    "\n",
    "    # Read the lines from each file\n",
    "    lines_en = valid_en.readlines()\n",
    "    lines_hi = valid_hi.readlines()\n",
    "\n",
    "    # Combine the lines into pairs and preprocess them\n",
    "    data = [(preprocess_text(hi.strip()), preprocess_text(en.strip())) for hi, en in zip(lines_hi, lines_en)]\n",
    "\n",
    "# Create a pandas DataFrame\n",
    "valid_df = pd.DataFrame(data, columns=[\"input_text\",\"target_text\"])\n",
    "\n",
    "# print(train_df)\n",
    "# print(test_df)\n",
    "# print(valid_df)\n",
    "\n",
    "# Convert DataFrames to Datasets\n",
    "train_dataset = Dataset.from_pandas(train_df)\n",
    "test_dataset = Dataset.from_pandas(test_df)\n",
    "valid_dataset = Dataset.from_pandas(valid_df)"
   ]
  },
  {
   "cell_type": "code",
   "execution_count": 5,
   "metadata": {
    "id": "UXhQSsCDJTp-"
   },
   "outputs": [],
   "source": [
    "#Tokenize function\n",
    "def tokenize_data(example):\n",
    "    input = tokenizer(example[\"input_text\"], max_length=128, truncation=True, padding=\"max_length\")\n",
    "    target = tokenizer(example[\"target_text\"], max_length=128, truncation=True, padding=\"max_length\")\n",
    "    return {\"input_ids\": input[\"input_ids\"],\n",
    "            \"attention_mask\": input[\"attention_mask\"],\n",
    "            \"labels\": target[\"input_ids\"]}\n"
   ]
  },
  {
   "cell_type": "code",
   "execution_count": null,
   "metadata": {
    "colab": {
     "base_uri": "https://localhost:8080/",
     "height": 17,
     "referenced_widgets": [
      "52d11f3d71f34d4cb02c306e39553bd8",
      "76cb6df5cab3425f957f3f051aea6103",
      "5d5f7a9a24734d50b621991be76ed4d5",
      "b0680bd3c8e24f5e9cc43c81e20d886a",
      "4f9a533b70b54cdfa00ffd289d56b273",
      "96a49fd9de15432eaf30f8038eaf9a79",
      "7eb8b4c0c10140a1b937091d9290b0a5",
      "8fe3802333904b19b6eb581f549a7515",
      "002a6d7b942b41cc8fb38dc3d3fc8753",
      "fc7b181471604ebc94b2c561e88cf969",
      "de5bd364fdc241c3832b87bf740f8d75",
      "b70a4c1dc2014ec197f1e2c8da8e5b62",
      "fc141c350a6141b495eb074606f2af08",
      "317a7c03332241fe8aa4f83e17944b43",
      "d2b6e6ff15fb40698ee43480322d5868",
      "425cd41fb8f440849aa7dd719109c100",
      "744c1d0910b44566a58151c3cc46ee07",
      "70160516a5904c5282b9ba13bf2daae6",
      "2f132cc8241a4927b7a6651b4d8da89a",
      "cc3c349465774d8a9d0f8cdc6d73f635",
      "7236f5a1f4124ccc9244747b421accd2",
      "2a853685b53640d98f199177ff9b5728"
     ]
    },
    "id": "NVnujPzxJTtI",
    "outputId": "e9353065-517f-4a1b-a3ad-0d9315a59b4c"
   },
   "outputs": [
    {
     "data": {
      "application/vnd.jupyter.widget-view+json": {
       "model_id": "52d11f3d71f34d4cb02c306e39553bd8",
       "version_major": 2,
       "version_minor": 0
      },
      "text/plain": [
       "Map:   0%|          | 0/21293 [00:00<?, ? examples/s]"
      ]
     },
     "metadata": {},
     "output_type": "display_data"
    },
    {
     "data": {
      "application/vnd.jupyter.widget-view+json": {
       "model_id": "b70a4c1dc2014ec197f1e2c8da8e5b62",
       "version_major": 2,
       "version_minor": 0
      },
      "text/plain": [
       "Map:   0%|          | 0/942 [00:00<?, ? examples/s]"
      ]
     },
     "metadata": {},
     "output_type": "display_data"
    }
   ],
   "source": [
    "# Map the tokenization function to the datasets\n",
    "tokenized_train_dataset = train_dataset.map(tokenize_data, batched=True, remove_columns=[\"input_text\", \"target_text\"])\n",
    "tokenized_valid_dataset = valid_dataset.map(tokenize_data, batched=True, remove_columns=[\"input_text\", \"target_text\"])"
   ]
  },
  {
   "cell_type": "code",
   "execution_count": null,
   "metadata": {
    "id": "YbcEaD4GJXPX"
   },
   "outputs": [],
   "source": []
  },
  {
   "cell_type": "code",
   "execution_count": null,
   "metadata": {
    "colab": {
     "base_uri": "https://localhost:8080/",
     "height": 81,
     "referenced_widgets": [
      "b9276c1853794da6a4cf1b5bbf397bcd",
      "ee897db29a6745e6be7d0c870549aaeb",
      "064c5aae6a5b48de85a6e6cbf97542d5",
      "b19f5ab108be400c95cfc23f43441a78",
      "89b8ad1b954b4446badb4fb5960d8f53",
      "72c5bb4b76724dcf8d7b46311d367833",
      "c5692bb6be694330bc5bc349dd723e6a",
      "6e93e4d42718409db3236fc9953ab6ac",
      "3482f79229484bf78073e7a08a8034b9",
      "0d4deda2d5d845e7ba4c45bd8ed562a8",
      "34e7013276e34d87a396ffc0987d344a",
      "85edfeabf70a4cb08ee7bd7f3fa58993",
      "4c4273d90b78468086690cecd37d4e9f",
      "3df6b8d412dc4c4cbb89fa2cd6fcc4c0",
      "5884852775114314879d8b6ed12e3081",
      "c39e888e753348a19d8975c0d374eba1",
      "075407b3a53542b28933595a8d29fef9",
      "f392e37eadcf4d9cb7d8e362b8b67684",
      "a93eb023e7b34a639ea71f00b2f8680a",
      "803f58247ebc4e46acb4b36c3c09bd26",
      "ae264fb2dd4042c899ff54058289c756",
      "38d829cf6d8147b6a38b1b2ac0ab9425"
     ]
    },
    "id": "LXsY3OHy8yUf",
    "outputId": "01bc7c18-23f4-447e-ec1a-e0e0650edab5"
   },
   "outputs": [
    {
     "data": {
      "application/vnd.jupyter.widget-view+json": {
       "model_id": "b9276c1853794da6a4cf1b5bbf397bcd",
       "version_major": 2,
       "version_minor": 0
      },
      "text/plain": [
       "Downloading pytorch_model.bin:   0%|          | 0.00/2.44G [00:00<?, ?B/s]"
      ]
     },
     "metadata": {},
     "output_type": "display_data"
    },
    {
     "data": {
      "application/vnd.jupyter.widget-view+json": {
       "model_id": "85edfeabf70a4cb08ee7bd7f3fa58993",
       "version_major": 2,
       "version_minor": 0
      },
      "text/plain": [
       "Downloading (…)neration_config.json:   0%|          | 0.00/261 [00:00<?, ?B/s]"
      ]
     },
     "metadata": {},
     "output_type": "display_data"
    }
   ],
   "source": [
    "# Model\n",
    "model = MBartForConditionalGeneration.from_pretrained(\"facebook/mbart-large-50-many-to-many-mmt\")"
   ]
  },
  {
   "cell_type": "code",
   "execution_count": null,
   "metadata": {
    "id": "IhRxmI72RKH6"
   },
   "outputs": [],
   "source": [
    "training_args = Seq2SeqTrainingArguments(\n",
    "    output_dir=\"./results\",\n",
    "    per_device_train_batch_size=8,\n",
    "    per_device_eval_batch_size=8,\n",
    "    predict_with_generate=True,\n",
    "    evaluation_strategy=\"epoch\",\n",
    "    logging_dir=\"./logs\",\n",
    "    save_strategy=\"epoch\",\n",
    "    num_train_epochs=3,\n",
    "    learning_rate=1e-5, # lower learning rate\n",
    "    weight_decay=0.03,\n",
    "    warmup_steps=2000, # increase warmup steps\n",
    "    save_total_limit=3,\n",
    "    lr_scheduler_type=\"linear\", # use linear learning rate schedule\n",
    "    load_best_model_at_end=True,\n",
    "    metric_for_best_model=\"loss\", # use validation loss for early stopping\n",
    ")\n",
    "\n",
    "\n",
    "# Initialize the trainer\n",
    "trainer = Seq2SeqTrainer(\n",
    "    model=model,\n",
    "    args=training_args,\n",
    "    train_dataset=tokenized_train_dataset,\n",
    "    eval_dataset=tokenized_valid_dataset,\n",
    "    tokenizer=tokenizer,\n",
    ")\n",
    "\n",
    "# Start training\n",
    "trainer.train()"
   ]
  },
  {
   "cell_type": "markdown",
   "metadata": {
    "id": "rYlRuWpL9G54"
   },
   "source": [
    "Make sure to replace the dataset file paths with the paths to your dataset files. This code snippet will fine-tune the mBART model for 3 epochs with a learning rate of 5e-5 and a batch size of 4. You can adjust these hyperparameters based on your computational resources and the size of your dataset."
   ]
  },
  {
   "cell_type": "code",
   "execution_count": null,
   "metadata": {
    "colab": {
     "base_uri": "https://localhost:8080/"
    },
    "id": "kR8dkYE45J9P",
    "outputId": "53e324d2-5d2e-46c5-ef42-6c7bbf525be0"
   },
   "outputs": [
    {
     "name": "stdout",
     "output_type": "stream",
     "text": [
      "Drive already mounted at /content/drive; to attempt to forcibly remount, call drive.mount(\"/content/drive\", force_remount=True).\n"
     ]
    }
   ],
   "source": [
    "from google.colab import drive\n",
    "drive.mount('/content/drive')"
   ]
  },
  {
   "cell_type": "code",
   "execution_count": null,
   "metadata": {
    "colab": {
     "base_uri": "https://localhost:8080/"
    },
    "id": "ZKrNyB73HX6g",
    "outputId": "abff394e-186c-442d-bd82-9f2caf4a6fbf"
   },
   "outputs": [
    {
     "name": "stdout",
     "output_type": "stream",
     "text": [
      "/content/mbart\n"
     ]
    }
   ],
   "source": [
    "!mkdir -p mbart\n",
    "%cd \"mbart\""
   ]
  },
  {
   "cell_type": "code",
   "execution_count": null,
   "metadata": {
    "id": "yT0QfTtHHjNR"
   },
   "outputs": [],
   "source": [
    "!mkdir -p results"
   ]
  },
  {
   "cell_type": "code",
   "execution_count": null,
   "metadata": {
    "id": "3Qb3G40f493l"
   },
   "outputs": [],
   "source": [
    "# !cp -r '/content/mbart/results/checkpoint-7986' '/content/drive/MyDrive/latest_checkpoints'\n",
    "!cp -r '/content/drive/MyDrive/latest_checkpoints' '/content/mbart/results/checkpoint-7986'"
   ]
  },
  {
   "cell_type": "code",
   "execution_count": 6,
   "metadata": {
    "colab": {
     "base_uri": "https://localhost:8080/"
    },
    "id": "veHYK_GqIOe2",
    "outputId": "9ae1cc5f-91d2-4744-a238-77e456e70bb3"
   },
   "outputs": [
    {
     "data": {
      "text/plain": [
       "'C:\\\\Users\\\\Mahendranath\\\\Hinglish-English'"
      ]
     },
     "execution_count": 6,
     "metadata": {},
     "output_type": "execute_result"
    }
   ],
   "source": [
    "pwd"
   ]
  },
  {
   "cell_type": "code",
   "execution_count": 7,
   "metadata": {
    "id": "LJL89sis8yZB"
   },
   "outputs": [],
   "source": [
    "# Load the fine-tuned model and tokenizer\n",
    "model = MBartForConditionalGeneration.from_pretrained(\"./CMU-PHINC-HINGE-NEW-Cleaned-LC_32.78\")  # Replace XXXX with the desired checkpoint number\n",
    "tokenizer = MBart50TokenizerFast.from_pretrained(\"facebook/mbart-large-50-many-to-many-mmt\")"
   ]
  },
  {
   "cell_type": "code",
   "execution_count": 8,
   "metadata": {
    "colab": {
     "base_uri": "https://localhost:8080/",
     "height": 17,
     "referenced_widgets": [
      "d12b9d4889a64779a319f4627455faf1",
      "7b7cb7e48c304ae5a461946cb92b92f6",
      "6864d987db7f44b081bba77f0ed60e1a",
      "a1b330077c744577a5e3018656fe092b",
      "b4590002b0a94011a89e70559b8a0dc8",
      "34727530ec8d4e45a208f7b65c29b84a",
      "e120a25e7ef742d3a98f79915d09d27a",
      "84682392199b484daea8cf56208ebb06",
      "1491c7fdef2d48549d4c4ac11ea50f1b",
      "9bbac8a1d9a3475dafeab624ee3eccae",
      "0e8efce7c2704151babb82ff81649f63"
     ]
    },
    "id": "fGB40jT15BRm",
    "outputId": "d6b097cb-f979-4af3-ebf7-5232d246a41a"
   },
   "outputs": [
    {
     "data": {
      "application/vnd.jupyter.widget-view+json": {
       "model_id": "bf93759fb0b44a4aad4d2aa5ee8d246a",
       "version_major": 2,
       "version_minor": 0
      },
      "text/plain": [
       "Map:   0%|          | 0/960 [00:00<?, ? examples/s]"
      ]
     },
     "metadata": {},
     "output_type": "display_data"
    }
   ],
   "source": [
    "# Load data from files\n",
    "test_data = pd.read_csv(\"C_32.78/test.hi\", sep=\"\\t\", header=None, names=[\"input_text\"])\n",
    "test_labels = pd.read_csv(\"C_32.78/test.en\", sep=\"\\t\", header=None, names=[\"target_text\"])\n",
    "\n",
    "# Combine input and target text into single DataFrames\n",
    "test_df = pd.concat([test_data, test_labels], axis=1)\n",
    "\n",
    "test_df = test_df.dropna()\n",
    "\n",
    "# Convert DataFrames to Datasets\n",
    "test_dataset = Dataset.from_pandas(test_df)\n",
    "\n",
    "# Map the tokenization function to the test dataset\n",
    "tokenized_test_dataset = test_dataset.map(tokenize_data, batched=True, remove_columns=[\"input_text\", \"target_text\"])\n",
    "\n",
    "# Extract Hinglish and English sentences\n",
    "test_hinglish = test_data[\"input_text\"].apply(preprocess_text).tolist()\n",
    "test_english = test_labels[\"target_text\"].apply(preprocess_text).tolist()\n",
    "\n",
    "\n",
    "# Reduce the size of the test data (e.g., use only the first 100 sentences)\n",
    "test_hinglish_subset = test_hinglish[:15]\n",
    "test_english_subset = test_english[:15]"
   ]
  },
  {
   "cell_type": "code",
   "execution_count": 9,
   "metadata": {
    "colab": {
     "base_uri": "https://localhost:8080/"
    },
    "id": "6QvvIi3tRO4Q",
    "outputId": "b1d69519-531c-4a0e-827d-cc93c35391a2"
   },
   "outputs": [
    {
     "name": "stderr",
     "output_type": "stream",
     "text": [
      "C:\\Users\\Mahendranath\\anaconda3\\lib\\site-packages\\transformers\\generation\\utils.py:1273: UserWarning: Neither `max_length` nor `max_new_tokens` has been set, `max_length` will default to 200 (`generation_config.max_length`). Controlling `max_length` via the config is deprecated and `max_length` will be removed from the config in v5 of Transformers -- we recommend using `max_new_tokens` to control the maximum length of the generation.\n",
      "  warnings.warn(\n"
     ]
    },
    {
     "name": "stdout",
     "output_type": "stream",
     "text": [
      "Test :  hi\n",
      "Translation :  hi\n",
      "Test :  marvel's the avengers is a 2012 american superhero film based on the marvel comics superhero team of the same name, produced by marvel studios and distributed by walt disneystudios motion pictures\n",
      "Translation :  marvel's the avengers is a 2012 american superhero film based on the so-called maraval comics superhero series, directed by maraval steadijoy and directed by virut dizanesoodios moshan pikchars.\n",
      "Test :  hello. how are you? i am not entirely sure about what question to ask, so i'll just ask: do you think the critics were fair in their critique of the movie?\n",
      "Translation :  hi. how are you? i'm not quite sure which page to ask, so i'll ask you the following: did you think the trailers of the aalochak movie were spectacular?\n",
      "Test :  i agree with them that ruffalo was great in the movie. \n",
      "Translation :  i agree with them that rafaalo was great in the movie.\n",
      "Test :  i agree them great in the avengers   movie. \n",
      "Translation :  i agree, the avengers were great in the movie.\n",
      "Test :  i think the cast was top-notch. \n",
      "Translation :  i think the cast was top-notch\n",
      "Test :  no\n",
      "Translation :  nope\n",
      "Test :  you don't think so?\n",
      "Translation :  don't you think?\n",
      "Test :  y\n",
      "Translation :  y\n",
      "Test :  downey jr, chris evans, ruffalo, hemsworth, johnasson are amazing actors\n",
      "Translation :  downey jr, chris evans, ruffalo, hemsworth, johnasson are all amazing actors.\n",
      "Test :  yes,the avengers teams are very good\n",
      "Translation :  yes, the avengers team is very good\n",
      "Test :  do you agree with the ratings of the movie?\n",
      "Translation :  do you agree with the ratings of the movie?\n",
      "Test :  i think all 3 were fair!\n",
      "Translation :  i think all 3 were fair\n",
      "Test :  what do you think about the key scene?\n",
      "Translation :  what do you think of the key scene?\n",
      "Test :  so  good \n",
      "Translation :  very good\n",
      "sacreBLEU score: 32.78530360281127\n"
     ]
    }
   ],
   "source": [
    "translations = []\n",
    "for text in test_hinglish:\n",
    "    inputs = tokenizer(text, return_tensors=\"pt\", max_length=128, truncation=True)\n",
    "    outputs = model.generate(**inputs)\n",
    "    translation = tokenizer.decode(outputs[0], skip_special_tokens=True)\n",
    "    translations.append(translation)\n",
    "\n",
    "\n",
    "for i in range(len(test_hinglish_subset)):\n",
    "  print(\"Test : \",test_english[i])\n",
    "  print(\"Translation : \",translations[i])\n",
    "\n",
    "# Calculate sacreBLEU score\n",
    "bleu_score = corpus_bleu(translations, [test_english]).score\n",
    "print(f'sacreBLEU score: {bleu_score}')"
   ]
  },
  {
   "cell_type": "code",
   "execution_count": null,
   "metadata": {
    "id": "5ZwUYLssRUj8"
   },
   "outputs": [],
   "source": []
  },
  {
   "cell_type": "code",
   "execution_count": 10,
   "metadata": {},
   "outputs": [
    {
     "name": "stderr",
     "output_type": "stream",
     "text": [
      "[nltk_data] Error loading wordnet: <urlopen error [WinError 10060] A\n",
      "[nltk_data]     connection attempt failed because the connected party\n",
      "[nltk_data]     did not properly respond after a period of time, or\n",
      "[nltk_data]     established connection failed because connected host\n",
      "[nltk_data]     has failed to respond>\n"
     ]
    },
    {
     "data": {
      "text/plain": [
       "False"
      ]
     },
     "execution_count": 10,
     "metadata": {},
     "output_type": "execute_result"
    }
   ],
   "source": [
    "nltk.download('wordnet')"
   ]
  },
  {
   "cell_type": "code",
   "execution_count": 11,
   "metadata": {},
   "outputs": [
    {
     "name": "stderr",
     "output_type": "stream",
     "text": [
      "[nltk_data] Error loading wordnet: <urlopen error [WinError 10060] A\n",
      "[nltk_data]     connection attempt failed because the connected party\n",
      "[nltk_data]     did not properly respond after a period of time, or\n",
      "[nltk_data]     established connection failed because connected host\n",
      "[nltk_data]     has failed to respond>\n",
      "[nltk_data] Error loading punkt: <urlopen error [WinError 10060] A\n",
      "[nltk_data]     connection attempt failed because the connected party\n",
      "[nltk_data]     did not properly respond after a period of time, or\n",
      "[nltk_data]     established connection failed because connected host\n",
      "[nltk_data]     has failed to respond>\n",
      "[nltk_data] Error loading omw-1.4: <urlopen error [WinError 10060] A\n",
      "[nltk_data]     connection attempt failed because the connected party\n",
      "[nltk_data]     did not properly respond after a period of time, or\n",
      "[nltk_data]     established connection failed because connected host\n",
      "[nltk_data]     has failed to respond>\n"
     ]
    }
   ],
   "source": [
    "meteor = evaluate.load('meteor')"
   ]
  },
  {
   "cell_type": "code",
   "execution_count": 12,
   "metadata": {},
   "outputs": [],
   "source": [
    "# Create an empty list to store results\n",
    "results = []\n",
    "\n",
    "# Iterate through each prediction-reference pair\n",
    "for prediction, reference in zip(translations, test_english):\n",
    "    result = meteor.compute(predictions=[prediction], references=[reference])\n",
    "    results.append(result['meteor'])"
   ]
  },
  {
   "cell_type": "code",
   "execution_count": 13,
   "metadata": {},
   "outputs": [
    {
     "name": "stdout",
     "output_type": "stream",
     "text": [
      "Average METEOR score: 0.5819298530524004\n"
     ]
    }
   ],
   "source": [
    "# Calculate the average METEOR score for all pairs\n",
    "average_meteor = sum(results) / len(results)\n",
    "\n",
    "print(\"Average METEOR score:\", average_meteor)"
   ]
  },
  {
   "cell_type": "code",
   "execution_count": 14,
   "metadata": {},
   "outputs": [
    {
     "name": "stdout",
     "output_type": "stream",
     "text": [
      "METEOR scores for each pair: [0.5, 0.5370414161205324, 0.6699700133096006, 0.9139118457300276, 0.8152173913043477, 0.8675523349436391, 0.0, 0.6305084745762711, 0.5, 0.9844782983615982, 0.864795918367347, 0.9995, 0.8675523349436391, 0.8819444444444444, 0.25, 0.7361111111111112, 0.8294209702660407, 0.46875, 0.45731707317073167, 0.9375, 0.7471655328798186, 0.22058823529411764, 0.22727272727272727, 0.28846153846153844, 0.25, 0.5888888888888889, 0.11363636363636363, 0.7471655328798186, 0.2380952380952381, 0.6918367346938775, 0.5725190839694658, 0.25641025641025644, 0.3333333333333333, 0.8819444444444444, 0.4206349206349207, 0.7360363858228408, 0.16666666666666666, 0.5499999999999999, 0.5095890410958904, 0.7361111111111112, 0.32631578947368417, 0.610733695652174, 0.6849868660335421, 0.41396979503775616, 0.625, 0.4043478260869566, 0.843770667989418, 0.5132113821138211, 0.9866898148148149, 0.9927268779852366, 0.28956422018348627, 0.6048387096774195, 0.9158653846153847, 0.7181571815718157, 0.14084507042253522, 0.5280780075187971, 0.6084656084656085, 0.12195121951219512, 0.03703703703703704, 0.3061224489795918, 0.7145928899082569, 0.5377777777777778, 0.44829931972789117, 0.5943152454780362, 0.4536585365853659, 0.9866898148148149, 0.7080965909090909, 0.17857142857142858, 0.4295051353874883, 0.6212084929757344, 0.22151898734177214, 0.7647286821705428, 0.2727272727272727, 0.49145299145299143, 0.6793478260869565, 0.8946280991735537, 0.7562500000000001, 0.7053228091479459, 0.6070153061224489, 0.5, 0.9375, 0.2112676056338028, 0.9163204498720048, 0.9138261521793482, 0.9422781271837876, 0.0, 0.981329690346084, 0.0, 0.7937500000000002, 0.8737244897959183, 0.3444444444444445, 0.635593220338983, 0.5, 0.8979985955056179, 0.625, 0.5796973961998594, 0.5, 0.5111111111111111, 0.8928571428571429, 0.5, 0.7094381313131314, 0.9144237405106971, 0.9375, 0.9976851851851852, 0.9375, 0.8675523349436391, 0.824175824175824, 0.0, 0.2631578947368421, 0.0, 0.47108208955223874, 0.3668878614378459, 0.4445422535211268, 0.9268808114961962, 0.6630136986301369, 0.9375, 0.9990234375, 0.996, 0.9137614678899082, 0.9997106481481481, 0.4189435336976321, 0.4505050505050505, 0.0, 0.25510204081632654, 0.5011235955056179, 0.4770408163265306, 0.49162257495590833, 0.5079256210943455, 0.27158119658119656, 0.9736328125, 0.6699700133096006, 0.24313725490196078, 0.8437033349925335, 0.09505703422053231, 0.9996243425995492, 0.9976851851851852, 0.4406130268199233, 0.6932463707132336, 0.9995, 0.5710416958490919, 0.381450859040067, 0.966990291262136, 0.6043033712478956, 0.3326416015625, 0.6452363539658267, 0.6942696075748453, 0.30491803278688523, 0.6754615707957449, 0.5208333333333335, 0.7511696711160037, 0.6906906906906908, 0.9375, 0.44246495327102797, 0.9921875, 0.234375, 0.6666666666666666, 0.6014370245139476, 0.4729166666666666, 0.7710137249383288, 0.6147540983606558, 0.8813071895424837, 0.5, 0.7677919461880182, 0.7523244953719193, 0.6842672413793103, 0.5499999999999999, 0.5751811594202899, 0.0, 0.6305084745762711, 0.0, 0.9138261521793482, 0.5717948717948719, 0.6543235851041447, 0.275735294117647, 0.8979985955056179, 0.25, 0.13043478260869565, 0.97441793618856, 0.189873417721519, 0.0, 0.2380952380952381, 0.755560651226783, 0.4574275362318841, 0.0, 0.19607843137254904, 0.9375, 0.7500000000000001, 0.25, 0.8819444444444444, 0.25, 0.7789062500000001, 0.43698395388689826, 0.8757427021441488, 0.9814814814814815, 0.8819444444444444, 0.9041027559546079, 0.6155365371955235, 0.8696219715956558, 0.2586206896551724, 0.9985422740524781, 0.8934699869508481, 0.3663241644010875, 0.8099489795918368, 0.7941501504408361, 0.8412698412698414, 0.8688356120867112, 0.6775541946145621, 0.6867192636423406, 0.4505050505050505, 0.7563279118754102, 0.34388425062819167, 0.5710111788617886, 0.6930484486679663, 0.5803324099722992, 0.7430375465103168, 0.9814814814814815, 0.8079868988928883, 0.8918539325842695, 0.8091657715717866, 0.5775126356781838, 0.8466372282608694, 0.8706951530612245, 0.6346938775510204, 0.9679878048780488, 0.7819174181300427, 0.5, 0.5176470588235295, 0.0, 0.9375, 0.9067055393586005, 0.8440677966101694, 0.7773446457234581, 0.8627717391304347, 0.9862685758164326, 0.8136360012755102, 0.650318287037037, 0.6457609639600519, 0.8099489795918368, 0.6696428571428572, 0.6648936170212766, 0.3425655976676385, 0.2808302808302808, 0.4817953546767106, 0.37230769230769234, 0.5698720166032515, 0.634712600636585, 0.29406130268199226, 0.5568947762591275, 0.6353618832957677, 0.3506944444444444, 0.5627906976744186, 0.3627873563218391, 0.39062499999999994, 0.8066666666666668, 0.5011235955056179, 0.0847457627118644, 0.38490853658536583, 0.7349537037037036, 0.6726694915254237, 0.5901006235827664, 0.4406130268199233, 0.8017676767676769, 0.6218264635603344, 0.7720930232558141, 0.5, 0.5, 0.5499999999999999, 0.8534621578099838, 0.28301886792452824, 0.9814814814814815, 0.4735120362190813, 0.0, 0.5712676016908821, 0.6048387096774195, 0.9814814814814815, 0.8726901273650887, 0.6073625622497802, 0.625, 0.600907029478458, 0.8005461339465363, 0.6849868660335421, 0.5177221817519577, 0.6631587977923303, 0.3964444444444445, 0.6696229653651977, 0.0, 0.7785475211856819, 0.6695309702828499, 0.516629399360093, 0.049504950495049514, 0.3649691358024692, 0.6528630869823657, 0.6465517241379309, 0.5160550458715595, 0.0, 0.36764705882352944, 0.6720173765628312, 0.5917857142857144, 0.647130647130647, 0.4761904761904762, 0.5, 0.6428433641975309, 0.5647497534516766, 0.8424720578566731, 0.7111202485380118, 0.9814814814814815, 0.7981481481481484, 0.7682539682539684, 0.5160550458715595, 0.9976851851851852, 0.5122761979989466, 0.9976851851851852, 0.7454289732770746, 0.2583333333333333, 0.23121387283236994, 0.6616046695686585, 0.6233062330623306, 0.5, 0.43314500941619577, 0.5, 0.5041666666666667, 0.7653061224489797, 0.5166666666666667, 0.9139118457300276, 0.6888050057811331, 0.8578260869565217, 0.7530534351145038, 0.65625, 0.9268808114961962, 0.6630136986301369, 0.9375, 0.9990234375, 0.996, 0.9137614678899082, 0.9997106481481481, 0.4189435336976321, 0.4505050505050505, 0.0, 0.25510204081632654, 0.5011235955056179, 0.4770408163265306, 0.49162257495590833, 0.5079256210943455, 0.27158119658119656, 0.9736328125, 0.6699700133096006, 0.24313725490196078, 0.8437033349925335, 0.09505703422053231, 0.13761467889908252, 0.15873015873015875, 0.6465517241379309, 0.280016447368421, 0.5514705882352942, 0.02873563218390805, 0.40890022675736964, 0.6849868660335421, 0.5011088709677419, 0.2227544910179641, 0.6452363539658267, 0.6942696075748453, 0.30491803278688523, 0.6754615707957449, 0.5208333333333335, 0.7511696711160037, 0.6906906906906908, 0.9375, 0.44246495327102797, 0.9921875, 0.234375, 0.6666666666666666, 0.6014370245139476, 0.4729166666666666, 0.7710137249383288, 0.6147540983606558, 0.8813071895424837, 0.17857142857142855, 0.2631578947368421, 0.9976851851851852, 0.38448275862068976, 0.2599932249322493, 0.6027027027027027, 0.7397204366901335, 0.3931080628972901, 0.6199460916442048, 0.2717391304347826, 0.0, 0.42270408163265305, 0.6347955520532352, 0.7957957957957958, 0.5948372615039282, 0.9375, 0.4033333333333334, 0.2662037037037037, 0.5089447463768116, 0.5773420479302832, 0.5555555555555556, 0.9921875, 0.9985422740524781, 0.44391408114558467, 0.5719062244858286, 0.2631578947368421, 0.3888501742160279, 0.5208333333333333, 0.754985754985755, 0.40879120879120884, 0.813692480359147, 0.6431938431938432, 0.6918367346938775, 0.9041027559546079, 0.5, 0.2631578947368421, 0.9866898148148149, 0.5645569620253165, 0.8412698412698414, 0.3333333333333333, 0.7937500000000002, 0.701058201058201, 0.9976851851851852, 0.35328467153284676, 0.3333333333333333, 0.47137164429530204, 0.5215419501133786, 0.25302530253025296, 0.32258064516129037, 0.5888888888888889, 0.08968609865470852, 0.0, 0.7014492753623188, 0.6722222222222223, 0.625, 0.78677398989899, 0.2631578947368421, 0.42592592592592593, 0.5, 0.8103975535168196, 0.996, 0.996, 0.6302521008403362, 0.47920792079207913, 0.7748575162449632, 0.17241379310344826, 0.8287608596250572, 0.46890927624872564, 0.25, 0.17857142857142855, 0.3448275862068965, 0.6635079660741089, 0.7957957957957958, 0.6276515151515152, 0.42592592592592593, 0.7301587301587302, 0.9494617224880382, 0.999958905235473, 0.9993141289437586, 0.20408163265306123, 0.5503634475597092, 0.9985422740524781, 0.6305084745762711, 0.7653061224489797, 0.8928571428571429, 0.5244386803923158, 0.9041027559546079, 0.7334965610047847, 0.6562061550661867, 0.45469311320033634, 0.43684710351377026, 0.44988941915958564, 0.37910528449790515, 0.3675766283524904, 0.625, 0.35094339622641507, 0.4061274509803922, 0.5804493801652891, 0.2631578947368421, 0.43771991555242784, 0.15873015873015875, 0.4205583756345178, 0.29333333333333333, 0.5111111111111111, 0.3, 0.11111111111111112, 0.10067114093959734, 0.5616759978327615, 0.5595874786376954, 0.3747582764969487, 0.4734285714285715, 0.3975340136054422, 0.42355346901241436, 0.5537445262959337, 0.30460941773158967, 0.7073118964236444, 0.6538784067085953, 0.6390468755808333, 0.6443520642201835, 0.5561843632247804, 0.6425659061906689, 0.7110327743902439, 0.5627865588803088, 0.7293103721675149, 0.4873940677966102, 0.5224139285730793, 0.35428571428571426, 0.5671874999999998, 0.9146341463414633, 0.6021687697160885, 0.8276406663240622, 0.9163204498720048, 0.4574275362318841, 0.6824665350010973, 0.2631578947368421, 0.6277527589449201, 0.9054545454545455, 0.21410349854227406, 0.6465763875643715, 0.7282110091743119, 0.7053228091479459, 0.42613636363636365, 0.2922454721294179, 0.5610062893081761, 0.5533782056743631, 0.6744586116170816, 0.2949766355140187, 0.46498814172436104, 0.5967078189300411, 0.6215469613259669, 0.4024496937882765, 0.5962605117194489, 0.3576477240599378, 0.5044956140350877, 0.2637404124024944, 0.41098964934516263, 0.460460875331565, 0.7585268884703913, 0.5642841875222019, 0.5135968921389396, 0.4693089965617658, 0.7120253164556962, 0.8737244897959183, 0.41564941406250006, 0.16666666666666666, 0.3113279418659165, 0.9375, 0.5, 0.7954377736597844, 0.8106562703053932, 0.8354309001558193, 0.6378600823045267, 0.6215431415929203, 0.5624142661179699, 0.9375, 0.9375, 0.8737244897959183, 0.29411764705882354, 0.9653916211293262, 0.9402573529411764, 0.8099489795918368, 0.884784293464221, 0.8412698412698414, 0.9976851851851852, 0.7833402699328141, 0.28211284513805523, 0.6990062876489469, 0.6071019473081329, 0.9490196078431373, 0.25, 0.29190174762625565, 0.5493172835070069, 0.5858007004138809, 0.7789535567313346, 0.7937500000000002, 0.5126436781609196, 0.3139013452914798, 0.24590163934426232, 0.37796610169491524, 0.6190603073097078, 0.3774928774928775, 0.23255813953488372, 0.41171953452655213, 0.8440677966101694, 0.4563492063492062, 0.8950617283950617, 0.17241379310344826, 0.4206349206349207, 0.7360363858228408, 0.16666666666666666, 0.5499999999999999, 0.5095890410958904, 0.7361111111111112, 0.32631578947368417, 0.610733695652174, 0.6849868660335421, 0.41396979503775616, 0.5011235955056179, 0.1648351648351648, 0.36610191752035726, 0.38448275862068976, 0.12658227848101264, 0.22071678321678323, 0.582287961055982, 0.635593220338983, 0.5725190839694658, 0.45731707317073167, 0.5434782608695652, 0.6378600823045267, 0.7514880952380952, 0.5575, 0.6233632622521511, 0.618872549019608, 0.7957957957957958, 0.5438202247191011, 0.6756849315068493, 0.6388888888888888, 0.4536585365853659, 0.9866898148148149, 0.7080965909090909, 0.17857142857142858, 0.4295051353874883, 0.6212084929757344, 0.22151898734177214, 0.7647286821705428, 0.2727272727272727, 0.49145299145299143, 0.6793478260869565, 0.0, 0.9814814814814815, 0.35866477272727276, 0.49145299145299143, 0.9375, 0.125, 0.8534621578099838, 0.05154639175257732, 0.23255813953488375, 0.3423772609819121, 0.3333333333333333, 0.9985422740524781, 0.40760869565217384, 0.4746835443037974, 0.7111519232731354, 0.19736842105263158, 0.8179012345679012, 0.5, 0.6405895691609977, 0.5357142857142858, 0.996, 0.625, 0.8066666666666668, 0.920940170940171, 0.5595505617977528, 0.7500000000000001, 0.16666666666666666, 0.38459831188598315, 0.48443619872191296, 0.7760704419889501, 0.19230769230769235, 0.28301886792452824, 0.44034536891679743, 0.8757427021441488, 0.34307065217391297, 0.3333333333333333, 0.25641025641025644, 0.43314500941619577, 0.9375, 0.8722527472527472, 0.5, 0.5111111111111111, 0.7052154195011338, 0.9921875, 0.9883326549993218, 0.5215419501133786, 0.6443520642201835, 0.0684931506849315, 0.6411049268192124, 0.3546348314606741, 0.46875, 0.4927152317880794, 0.11904761904761905, 0.0, 0.7454289732770746, 0.5625, 0.7361111111111112, 0.7934426229508196, 0.15, 0.14851485148514848, 0.744140625, 0.0925925925925926, 0.36891679748822603, 0.48478260869565226, 0.9764705882352942, 0.25641025641025644, 0.3920807453416149, 0.6988249845392702, 0.47692307692307695, 0.2583333333333333, 0.5, 0.37910528449790515, 0.4561781609195403, 0.16129032258064518, 0.0, 0.39062499999999994, 0.7500000000000001, 0.375, 0.4955555555555556, 0.5, 0.5, 0.9976851851851852, 0.8722527472527472, 0.5434782608695652, 0.8353033884948777, 0.4505050505050505, 0.6911597005305171, 0.3703703703703703, 0.7361111111111112, 0.4674796747967479, 0.09433962264150944, 0.29411764705882354, 0.7193548387096775, 0.0, 0.4523364485981308, 0.8551587301587302, 0.5762012012012011, 0.8630595523581134, 0.996, 0.842696629213483, 0.7766439909297052, 0.5, 0.996, 0.20408163265306123, 0.8412698412698414, 0.6974657995066158, 0.9985422740524781, 0.703125, 0.0, 0.5, 0.9764705882352942, 0.7466986794717887, 0.125, 0.9375, 0.12820512820512822, 0.17857142857142855, 0.996, 0.5616605616605616, 0.13513513513513511, 0.6222488995598239, 0.125, 0.864795918367347, 0.54461634630411, 0.11049723756906076, 0.7279449588477367, 0.6600900423728814, 0.9445670159955873, 0.9564593301435406, 0.7181571815718157, 0.8437810385862333, 0.9976851851851852, 0.8493589743589745, 0.8852875344352616, 0.625, 0.45328048574801816, 0.47372360081390186, 0.635593220338983, 0.2717391304347826, 0.4189435336976321, 0.2776119402985075, 0.515422077922078, 0.3599374021909233, 0.2631578947368421, 0.5048335123523093, 0.11627906976744186, 0.2446705426356589, 0.4782136105860113, 0.4694736842105263, 0.0, 0.5028356014459908, 0.20380434782608695, 0.27808370044052866, 0.6657910689028086, 0.5011235955056179, 0.6232763375620519, 0.754985754985755, 0.7282110091743119, 0.5548409227338993, 0.8248810418231906, 0.7361111111111112, 0.93445143256464, 0.6453333333333333, 0.8103975535168196, 0.7349537037037036, 0.9279503105590062, 0.45413669064748197, 0.9139118457300276, 0.9999142661179699, 0.8404418480414966, 0.6190603073097078, 0.9280792420327304, 0.742296918767507, 0.825414364640884, 0.9866898148148149, 0.7707031250000002, 0.7336571544221817, 0.5824829931972789, 0.6463952282157674, 0.5206225680933851, 0.2881006006006006, 0.5645569620253165, 0.5111111111111111, 0.17045454545454547, 0.8378870673952642, 0.7668240850059032, 0.3542857142857143, 0.5739795918367346, 0.5, 0.9976851851851852, 0.7818079185045159, 0.9268808114961962, 0.5145962732919255, 0.9580182734719597, 0.8519549141976656, 0.5474452554744526, 0.6422349402454781, 0.7698961937716262, 0.2631578947368421, 0.6988249845392702, 0.5402650356778795, 0.12820512820512822, 0.5499999999999999, 0.7586206896551724, 0.6452363539658267, 0.42652027027027023, 0.7634171195652173, 0.16666666666666666, 0.6451621950603851, 0.5841316118284048, 0.4897854203409758, 0.3498086734693877, 0.6165605095541401, 0.7613856163179182, 0.5, 0.0, 0.8551587301587302, 0.7059558517284465, 0.864795918367347, 0.6197150735294118, 0.6006127782283501, 0.7511337868480726, 0.8254320987654322, 0.7203301886792454, 0.6244639376218323, 0.6814814814814816, 0.8369324173438372, 0.785839111562095, 0.9921875, 0.8005067261868855, 0.125, 0.42293233082706766, 0.20408163265306123, 0.9521933280798529, 0.125, 0.5948372615039282, 0.5, 0.4399925107657742, 0.5, 0.750387596899225, 0.0, 0.6485954553587404, 0.9814814814814815, 0.66167290886392, 0.5357142857142857, 0.125, 0.2718676122931442, 0.16666666666666666, 0.49145299145299143, 0.46875, 0.44834307992202727, 0.6147540983606558, 0.7770258299968111, 0.9814814814814815, 0.4505050505050505, 0.9375, 0.30487804878048785, 0.16666666666666666, 0.5174180327868853, 0.7198748043818466, 0.5158319536423841, 0.5133198317494937, 0.7464659389132882, 0.6815452916510162, 0.8490566037735848, 0.6268686615750596, 0.9951553784860558, 0.19230769230769232, 0.8833333333333334, 0.25641025641025644, 0.703125, 0.625, 0.5089447463768116, 0.49609375, 0.815289256198347, 0.6463768115942029, 0.7093444018731375, 0.5800092980009298, 0.7192224983474326, 0.5482456140350876, 0.3757258019054062, 0.45285433070866143, 0.6512429589352666, 0.5646613417055266, 0.2717234202462855, 0.2631578947368421, 0.5172470978441127, 0.44995941558441566, 0.43269057811994105, 0.5739795918367346, 0.7274845679012347, 0.5693134401626987, 0.6843560132006659, 0.8670910493827161, 0.5, 0.9976851851851852, 0.9883326549993218, 0.3703703703703703, 0.7777449822904368, 0.6411049268192124, 0.8857735704158791, 0.7014084507042254, 0.8737244897959183, 0.7095688479890934, 0.49145299145299143, 0.5844907407407408, 0.6995884773662552, 0.3757575757575758, 0.8887387387387389, 0.7014492753623188, 0.8062661684392066, 0.4209183673469388, 0.8099489795918368, 0.9561042524005487, 0.7773446457234581, 0.35714285714285715, 0.8099489795918368, 0.20833333333333331, 0.8412698412698414, 0.9835843169176502, 0.9985422740524781, 0.864795918367347, 0.2631578947368421, 0.5, 0.9764705882352942, 0.4746835443037974, 0.3155006858710563, 0.9375, 0.12820512820512822, 0.9375, 0.5, 0.8030496183838015, 0.999898229187869, 0.7425742574257427, 0.7942023541197095, 0.829646017699115, 0.8682021328377362]\n"
     ]
    }
   ],
   "source": [
    "print(\"METEOR scores for each pair:\", results)"
   ]
  },
  {
   "cell_type": "code",
   "execution_count": null,
   "metadata": {},
   "outputs": [],
   "source": []
  },
  {
   "cell_type": "code",
   "execution_count": 15,
   "metadata": {},
   "outputs": [
    {
     "name": "stdout",
     "output_type": "stream",
     "text": [
      "TER score: 56.21962196219622\n"
     ]
    }
   ],
   "source": [
    "# Calculate TER using SacreBLEU\n",
    "ter_score = corpus_ter(translations, [test_english])\n",
    "\n",
    "print(f'TER score: {ter_score.score}')"
   ]
  },
  {
   "cell_type": "code",
   "execution_count": null,
   "metadata": {},
   "outputs": [],
   "source": []
  },
  {
   "cell_type": "code",
   "execution_count": 16,
   "metadata": {},
   "outputs": [
    {
     "name": "stdout",
     "output_type": "stream",
     "text": [
      "WER: 0.587534085686838\n"
     ]
    }
   ],
   "source": [
    "# Calculate WER\n",
    "wer_score=0\n",
    "for i in range(len(test_english)):\n",
    "    wer = jiwer.wer(translations[i], test_english[i])\n",
    "    wer_score+=wer\n",
    "\n",
    "print(\"WER:\", wer_score/len(test_english))"
   ]
  },
  {
   "cell_type": "code",
   "execution_count": null,
   "metadata": {},
   "outputs": [],
   "source": []
  },
  {
   "cell_type": "code",
   "execution_count": null,
   "metadata": {},
   "outputs": [],
   "source": []
  }
 ],
 "metadata": {
  "accelerator": "GPU",
  "colab": {
   "provenance": []
  },
  "gpuClass": "standard",
  "kernelspec": {
   "display_name": "Python 3 (ipykernel)",
   "language": "python",
   "name": "python3"
  },
  "language_info": {
   "codemirror_mode": {
    "name": "ipython",
    "version": 3
   },
   "file_extension": ".py",
   "mimetype": "text/x-python",
   "name": "python",
   "nbconvert_exporter": "python",
   "pygments_lexer": "ipython3",
   "version": "3.8.10"
  },
  "widgets": {
   "application/vnd.jupyter.widget-state+json": {
    "002a6d7b942b41cc8fb38dc3d3fc8753": {
     "model_module": "@jupyter-widgets/controls",
     "model_module_version": "1.5.0",
     "model_name": "ProgressStyleModel",
     "state": {
      "_model_module": "@jupyter-widgets/controls",
      "_model_module_version": "1.5.0",
      "_model_name": "ProgressStyleModel",
      "_view_count": null,
      "_view_module": "@jupyter-widgets/base",
      "_view_module_version": "1.2.0",
      "_view_name": "StyleView",
      "bar_color": null,
      "description_width": ""
     }
    },
    "064c5aae6a5b48de85a6e6cbf97542d5": {
     "model_module": "@jupyter-widgets/controls",
     "model_module_version": "1.5.0",
     "model_name": "FloatProgressModel",
     "state": {
      "_dom_classes": [],
      "_model_module": "@jupyter-widgets/controls",
      "_model_module_version": "1.5.0",
      "_model_name": "FloatProgressModel",
      "_view_count": null,
      "_view_module": "@jupyter-widgets/controls",
      "_view_module_version": "1.5.0",
      "_view_name": "ProgressView",
      "bar_style": "success",
      "description": "",
      "description_tooltip": null,
      "layout": "IPY_MODEL_6e93e4d42718409db3236fc9953ab6ac",
      "max": 2444714899,
      "min": 0,
      "orientation": "horizontal",
      "style": "IPY_MODEL_3482f79229484bf78073e7a08a8034b9",
      "value": 2444714899
     }
    },
    "075407b3a53542b28933595a8d29fef9": {
     "model_module": "@jupyter-widgets/base",
     "model_module_version": "1.2.0",
     "model_name": "LayoutModel",
     "state": {
      "_model_module": "@jupyter-widgets/base",
      "_model_module_version": "1.2.0",
      "_model_name": "LayoutModel",
      "_view_count": null,
      "_view_module": "@jupyter-widgets/base",
      "_view_module_version": "1.2.0",
      "_view_name": "LayoutView",
      "align_content": null,
      "align_items": null,
      "align_self": null,
      "border": null,
      "bottom": null,
      "display": null,
      "flex": null,
      "flex_flow": null,
      "grid_area": null,
      "grid_auto_columns": null,
      "grid_auto_flow": null,
      "grid_auto_rows": null,
      "grid_column": null,
      "grid_gap": null,
      "grid_row": null,
      "grid_template_areas": null,
      "grid_template_columns": null,
      "grid_template_rows": null,
      "height": null,
      "justify_content": null,
      "justify_items": null,
      "left": null,
      "margin": null,
      "max_height": null,
      "max_width": null,
      "min_height": null,
      "min_width": null,
      "object_fit": null,
      "object_position": null,
      "order": null,
      "overflow": null,
      "overflow_x": null,
      "overflow_y": null,
      "padding": null,
      "right": null,
      "top": null,
      "visibility": null,
      "width": null
     }
    },
    "0d4deda2d5d845e7ba4c45bd8ed562a8": {
     "model_module": "@jupyter-widgets/base",
     "model_module_version": "1.2.0",
     "model_name": "LayoutModel",
     "state": {
      "_model_module": "@jupyter-widgets/base",
      "_model_module_version": "1.2.0",
      "_model_name": "LayoutModel",
      "_view_count": null,
      "_view_module": "@jupyter-widgets/base",
      "_view_module_version": "1.2.0",
      "_view_name": "LayoutView",
      "align_content": null,
      "align_items": null,
      "align_self": null,
      "border": null,
      "bottom": null,
      "display": null,
      "flex": null,
      "flex_flow": null,
      "grid_area": null,
      "grid_auto_columns": null,
      "grid_auto_flow": null,
      "grid_auto_rows": null,
      "grid_column": null,
      "grid_gap": null,
      "grid_row": null,
      "grid_template_areas": null,
      "grid_template_columns": null,
      "grid_template_rows": null,
      "height": null,
      "justify_content": null,
      "justify_items": null,
      "left": null,
      "margin": null,
      "max_height": null,
      "max_width": null,
      "min_height": null,
      "min_width": null,
      "object_fit": null,
      "object_position": null,
      "order": null,
      "overflow": null,
      "overflow_x": null,
      "overflow_y": null,
      "padding": null,
      "right": null,
      "top": null,
      "visibility": null,
      "width": null
     }
    },
    "0e8efce7c2704151babb82ff81649f63": {
     "model_module": "@jupyter-widgets/controls",
     "model_module_version": "1.5.0",
     "model_name": "DescriptionStyleModel",
     "state": {
      "_model_module": "@jupyter-widgets/controls",
      "_model_module_version": "1.5.0",
      "_model_name": "DescriptionStyleModel",
      "_view_count": null,
      "_view_module": "@jupyter-widgets/base",
      "_view_module_version": "1.2.0",
      "_view_name": "StyleView",
      "description_width": ""
     }
    },
    "1491c7fdef2d48549d4c4ac11ea50f1b": {
     "model_module": "@jupyter-widgets/controls",
     "model_module_version": "1.5.0",
     "model_name": "ProgressStyleModel",
     "state": {
      "_model_module": "@jupyter-widgets/controls",
      "_model_module_version": "1.5.0",
      "_model_name": "ProgressStyleModel",
      "_view_count": null,
      "_view_module": "@jupyter-widgets/base",
      "_view_module_version": "1.2.0",
      "_view_name": "StyleView",
      "bar_color": null,
      "description_width": ""
     }
    },
    "2a853685b53640d98f199177ff9b5728": {
     "model_module": "@jupyter-widgets/controls",
     "model_module_version": "1.5.0",
     "model_name": "DescriptionStyleModel",
     "state": {
      "_model_module": "@jupyter-widgets/controls",
      "_model_module_version": "1.5.0",
      "_model_name": "DescriptionStyleModel",
      "_view_count": null,
      "_view_module": "@jupyter-widgets/base",
      "_view_module_version": "1.2.0",
      "_view_name": "StyleView",
      "description_width": ""
     }
    },
    "2f132cc8241a4927b7a6651b4d8da89a": {
     "model_module": "@jupyter-widgets/base",
     "model_module_version": "1.2.0",
     "model_name": "LayoutModel",
     "state": {
      "_model_module": "@jupyter-widgets/base",
      "_model_module_version": "1.2.0",
      "_model_name": "LayoutModel",
      "_view_count": null,
      "_view_module": "@jupyter-widgets/base",
      "_view_module_version": "1.2.0",
      "_view_name": "LayoutView",
      "align_content": null,
      "align_items": null,
      "align_self": null,
      "border": null,
      "bottom": null,
      "display": null,
      "flex": null,
      "flex_flow": null,
      "grid_area": null,
      "grid_auto_columns": null,
      "grid_auto_flow": null,
      "grid_auto_rows": null,
      "grid_column": null,
      "grid_gap": null,
      "grid_row": null,
      "grid_template_areas": null,
      "grid_template_columns": null,
      "grid_template_rows": null,
      "height": null,
      "justify_content": null,
      "justify_items": null,
      "left": null,
      "margin": null,
      "max_height": null,
      "max_width": null,
      "min_height": null,
      "min_width": null,
      "object_fit": null,
      "object_position": null,
      "order": null,
      "overflow": null,
      "overflow_x": null,
      "overflow_y": null,
      "padding": null,
      "right": null,
      "top": null,
      "visibility": null,
      "width": null
     }
    },
    "317a7c03332241fe8aa4f83e17944b43": {
     "model_module": "@jupyter-widgets/controls",
     "model_module_version": "1.5.0",
     "model_name": "FloatProgressModel",
     "state": {
      "_dom_classes": [],
      "_model_module": "@jupyter-widgets/controls",
      "_model_module_version": "1.5.0",
      "_model_name": "FloatProgressModel",
      "_view_count": null,
      "_view_module": "@jupyter-widgets/controls",
      "_view_module_version": "1.5.0",
      "_view_name": "ProgressView",
      "bar_style": "",
      "description": "",
      "description_tooltip": null,
      "layout": "IPY_MODEL_2f132cc8241a4927b7a6651b4d8da89a",
      "max": 942,
      "min": 0,
      "orientation": "horizontal",
      "style": "IPY_MODEL_cc3c349465774d8a9d0f8cdc6d73f635",
      "value": 942
     }
    },
    "34727530ec8d4e45a208f7b65c29b84a": {
     "model_module": "@jupyter-widgets/base",
     "model_module_version": "1.2.0",
     "model_name": "LayoutModel",
     "state": {
      "_model_module": "@jupyter-widgets/base",
      "_model_module_version": "1.2.0",
      "_model_name": "LayoutModel",
      "_view_count": null,
      "_view_module": "@jupyter-widgets/base",
      "_view_module_version": "1.2.0",
      "_view_name": "LayoutView",
      "align_content": null,
      "align_items": null,
      "align_self": null,
      "border": null,
      "bottom": null,
      "display": null,
      "flex": null,
      "flex_flow": null,
      "grid_area": null,
      "grid_auto_columns": null,
      "grid_auto_flow": null,
      "grid_auto_rows": null,
      "grid_column": null,
      "grid_gap": null,
      "grid_row": null,
      "grid_template_areas": null,
      "grid_template_columns": null,
      "grid_template_rows": null,
      "height": null,
      "justify_content": null,
      "justify_items": null,
      "left": null,
      "margin": null,
      "max_height": null,
      "max_width": null,
      "min_height": null,
      "min_width": null,
      "object_fit": null,
      "object_position": null,
      "order": null,
      "overflow": null,
      "overflow_x": null,
      "overflow_y": null,
      "padding": null,
      "right": null,
      "top": null,
      "visibility": null,
      "width": null
     }
    },
    "3482f79229484bf78073e7a08a8034b9": {
     "model_module": "@jupyter-widgets/controls",
     "model_module_version": "1.5.0",
     "model_name": "ProgressStyleModel",
     "state": {
      "_model_module": "@jupyter-widgets/controls",
      "_model_module_version": "1.5.0",
      "_model_name": "ProgressStyleModel",
      "_view_count": null,
      "_view_module": "@jupyter-widgets/base",
      "_view_module_version": "1.2.0",
      "_view_name": "StyleView",
      "bar_color": null,
      "description_width": ""
     }
    },
    "34e7013276e34d87a396ffc0987d344a": {
     "model_module": "@jupyter-widgets/controls",
     "model_module_version": "1.5.0",
     "model_name": "DescriptionStyleModel",
     "state": {
      "_model_module": "@jupyter-widgets/controls",
      "_model_module_version": "1.5.0",
      "_model_name": "DescriptionStyleModel",
      "_view_count": null,
      "_view_module": "@jupyter-widgets/base",
      "_view_module_version": "1.2.0",
      "_view_name": "StyleView",
      "description_width": ""
     }
    },
    "38d829cf6d8147b6a38b1b2ac0ab9425": {
     "model_module": "@jupyter-widgets/controls",
     "model_module_version": "1.5.0",
     "model_name": "DescriptionStyleModel",
     "state": {
      "_model_module": "@jupyter-widgets/controls",
      "_model_module_version": "1.5.0",
      "_model_name": "DescriptionStyleModel",
      "_view_count": null,
      "_view_module": "@jupyter-widgets/base",
      "_view_module_version": "1.2.0",
      "_view_name": "StyleView",
      "description_width": ""
     }
    },
    "3df6b8d412dc4c4cbb89fa2cd6fcc4c0": {
     "model_module": "@jupyter-widgets/controls",
     "model_module_version": "1.5.0",
     "model_name": "FloatProgressModel",
     "state": {
      "_dom_classes": [],
      "_model_module": "@jupyter-widgets/controls",
      "_model_module_version": "1.5.0",
      "_model_name": "FloatProgressModel",
      "_view_count": null,
      "_view_module": "@jupyter-widgets/controls",
      "_view_module_version": "1.5.0",
      "_view_name": "ProgressView",
      "bar_style": "success",
      "description": "",
      "description_tooltip": null,
      "layout": "IPY_MODEL_a93eb023e7b34a639ea71f00b2f8680a",
      "max": 261,
      "min": 0,
      "orientation": "horizontal",
      "style": "IPY_MODEL_803f58247ebc4e46acb4b36c3c09bd26",
      "value": 261
     }
    },
    "425cd41fb8f440849aa7dd719109c100": {
     "model_module": "@jupyter-widgets/base",
     "model_module_version": "1.2.0",
     "model_name": "LayoutModel",
     "state": {
      "_model_module": "@jupyter-widgets/base",
      "_model_module_version": "1.2.0",
      "_model_name": "LayoutModel",
      "_view_count": null,
      "_view_module": "@jupyter-widgets/base",
      "_view_module_version": "1.2.0",
      "_view_name": "LayoutView",
      "align_content": null,
      "align_items": null,
      "align_self": null,
      "border": null,
      "bottom": null,
      "display": null,
      "flex": null,
      "flex_flow": null,
      "grid_area": null,
      "grid_auto_columns": null,
      "grid_auto_flow": null,
      "grid_auto_rows": null,
      "grid_column": null,
      "grid_gap": null,
      "grid_row": null,
      "grid_template_areas": null,
      "grid_template_columns": null,
      "grid_template_rows": null,
      "height": null,
      "justify_content": null,
      "justify_items": null,
      "left": null,
      "margin": null,
      "max_height": null,
      "max_width": null,
      "min_height": null,
      "min_width": null,
      "object_fit": null,
      "object_position": null,
      "order": null,
      "overflow": null,
      "overflow_x": null,
      "overflow_y": null,
      "padding": null,
      "right": null,
      "top": null,
      "visibility": "hidden",
      "width": null
     }
    },
    "4c4273d90b78468086690cecd37d4e9f": {
     "model_module": "@jupyter-widgets/controls",
     "model_module_version": "1.5.0",
     "model_name": "HTMLModel",
     "state": {
      "_dom_classes": [],
      "_model_module": "@jupyter-widgets/controls",
      "_model_module_version": "1.5.0",
      "_model_name": "HTMLModel",
      "_view_count": null,
      "_view_module": "@jupyter-widgets/controls",
      "_view_module_version": "1.5.0",
      "_view_name": "HTMLView",
      "description": "",
      "description_tooltip": null,
      "layout": "IPY_MODEL_075407b3a53542b28933595a8d29fef9",
      "placeholder": "​",
      "style": "IPY_MODEL_f392e37eadcf4d9cb7d8e362b8b67684",
      "value": "Downloading (…)neration_config.json: 100%"
     }
    },
    "4f9a533b70b54cdfa00ffd289d56b273": {
     "model_module": "@jupyter-widgets/base",
     "model_module_version": "1.2.0",
     "model_name": "LayoutModel",
     "state": {
      "_model_module": "@jupyter-widgets/base",
      "_model_module_version": "1.2.0",
      "_model_name": "LayoutModel",
      "_view_count": null,
      "_view_module": "@jupyter-widgets/base",
      "_view_module_version": "1.2.0",
      "_view_name": "LayoutView",
      "align_content": null,
      "align_items": null,
      "align_self": null,
      "border": null,
      "bottom": null,
      "display": null,
      "flex": null,
      "flex_flow": null,
      "grid_area": null,
      "grid_auto_columns": null,
      "grid_auto_flow": null,
      "grid_auto_rows": null,
      "grid_column": null,
      "grid_gap": null,
      "grid_row": null,
      "grid_template_areas": null,
      "grid_template_columns": null,
      "grid_template_rows": null,
      "height": null,
      "justify_content": null,
      "justify_items": null,
      "left": null,
      "margin": null,
      "max_height": null,
      "max_width": null,
      "min_height": null,
      "min_width": null,
      "object_fit": null,
      "object_position": null,
      "order": null,
      "overflow": null,
      "overflow_x": null,
      "overflow_y": null,
      "padding": null,
      "right": null,
      "top": null,
      "visibility": "hidden",
      "width": null
     }
    },
    "52d11f3d71f34d4cb02c306e39553bd8": {
     "model_module": "@jupyter-widgets/controls",
     "model_module_version": "1.5.0",
     "model_name": "HBoxModel",
     "state": {
      "_dom_classes": [],
      "_model_module": "@jupyter-widgets/controls",
      "_model_module_version": "1.5.0",
      "_model_name": "HBoxModel",
      "_view_count": null,
      "_view_module": "@jupyter-widgets/controls",
      "_view_module_version": "1.5.0",
      "_view_name": "HBoxView",
      "box_style": "",
      "children": [
       "IPY_MODEL_76cb6df5cab3425f957f3f051aea6103",
       "IPY_MODEL_5d5f7a9a24734d50b621991be76ed4d5",
       "IPY_MODEL_b0680bd3c8e24f5e9cc43c81e20d886a"
      ],
      "layout": "IPY_MODEL_4f9a533b70b54cdfa00ffd289d56b273"
     }
    },
    "5884852775114314879d8b6ed12e3081": {
     "model_module": "@jupyter-widgets/controls",
     "model_module_version": "1.5.0",
     "model_name": "HTMLModel",
     "state": {
      "_dom_classes": [],
      "_model_module": "@jupyter-widgets/controls",
      "_model_module_version": "1.5.0",
      "_model_name": "HTMLModel",
      "_view_count": null,
      "_view_module": "@jupyter-widgets/controls",
      "_view_module_version": "1.5.0",
      "_view_name": "HTMLView",
      "description": "",
      "description_tooltip": null,
      "layout": "IPY_MODEL_ae264fb2dd4042c899ff54058289c756",
      "placeholder": "​",
      "style": "IPY_MODEL_38d829cf6d8147b6a38b1b2ac0ab9425",
      "value": " 261/261 [00:00&lt;00:00, 6.52kB/s]"
     }
    },
    "5d5f7a9a24734d50b621991be76ed4d5": {
     "model_module": "@jupyter-widgets/controls",
     "model_module_version": "1.5.0",
     "model_name": "FloatProgressModel",
     "state": {
      "_dom_classes": [],
      "_model_module": "@jupyter-widgets/controls",
      "_model_module_version": "1.5.0",
      "_model_name": "FloatProgressModel",
      "_view_count": null,
      "_view_module": "@jupyter-widgets/controls",
      "_view_module_version": "1.5.0",
      "_view_name": "ProgressView",
      "bar_style": "",
      "description": "",
      "description_tooltip": null,
      "layout": "IPY_MODEL_8fe3802333904b19b6eb581f549a7515",
      "max": 21293,
      "min": 0,
      "orientation": "horizontal",
      "style": "IPY_MODEL_002a6d7b942b41cc8fb38dc3d3fc8753",
      "value": 21293
     }
    },
    "6864d987db7f44b081bba77f0ed60e1a": {
     "model_module": "@jupyter-widgets/controls",
     "model_module_version": "1.5.0",
     "model_name": "FloatProgressModel",
     "state": {
      "_dom_classes": [],
      "_model_module": "@jupyter-widgets/controls",
      "_model_module_version": "1.5.0",
      "_model_name": "FloatProgressModel",
      "_view_count": null,
      "_view_module": "@jupyter-widgets/controls",
      "_view_module_version": "1.5.0",
      "_view_name": "ProgressView",
      "bar_style": "",
      "description": "",
      "description_tooltip": null,
      "layout": "IPY_MODEL_84682392199b484daea8cf56208ebb06",
      "max": 960,
      "min": 0,
      "orientation": "horizontal",
      "style": "IPY_MODEL_1491c7fdef2d48549d4c4ac11ea50f1b",
      "value": 960
     }
    },
    "6e93e4d42718409db3236fc9953ab6ac": {
     "model_module": "@jupyter-widgets/base",
     "model_module_version": "1.2.0",
     "model_name": "LayoutModel",
     "state": {
      "_model_module": "@jupyter-widgets/base",
      "_model_module_version": "1.2.0",
      "_model_name": "LayoutModel",
      "_view_count": null,
      "_view_module": "@jupyter-widgets/base",
      "_view_module_version": "1.2.0",
      "_view_name": "LayoutView",
      "align_content": null,
      "align_items": null,
      "align_self": null,
      "border": null,
      "bottom": null,
      "display": null,
      "flex": null,
      "flex_flow": null,
      "grid_area": null,
      "grid_auto_columns": null,
      "grid_auto_flow": null,
      "grid_auto_rows": null,
      "grid_column": null,
      "grid_gap": null,
      "grid_row": null,
      "grid_template_areas": null,
      "grid_template_columns": null,
      "grid_template_rows": null,
      "height": null,
      "justify_content": null,
      "justify_items": null,
      "left": null,
      "margin": null,
      "max_height": null,
      "max_width": null,
      "min_height": null,
      "min_width": null,
      "object_fit": null,
      "object_position": null,
      "order": null,
      "overflow": null,
      "overflow_x": null,
      "overflow_y": null,
      "padding": null,
      "right": null,
      "top": null,
      "visibility": null,
      "width": null
     }
    },
    "70160516a5904c5282b9ba13bf2daae6": {
     "model_module": "@jupyter-widgets/controls",
     "model_module_version": "1.5.0",
     "model_name": "DescriptionStyleModel",
     "state": {
      "_model_module": "@jupyter-widgets/controls",
      "_model_module_version": "1.5.0",
      "_model_name": "DescriptionStyleModel",
      "_view_count": null,
      "_view_module": "@jupyter-widgets/base",
      "_view_module_version": "1.2.0",
      "_view_name": "StyleView",
      "description_width": ""
     }
    },
    "7236f5a1f4124ccc9244747b421accd2": {
     "model_module": "@jupyter-widgets/base",
     "model_module_version": "1.2.0",
     "model_name": "LayoutModel",
     "state": {
      "_model_module": "@jupyter-widgets/base",
      "_model_module_version": "1.2.0",
      "_model_name": "LayoutModel",
      "_view_count": null,
      "_view_module": "@jupyter-widgets/base",
      "_view_module_version": "1.2.0",
      "_view_name": "LayoutView",
      "align_content": null,
      "align_items": null,
      "align_self": null,
      "border": null,
      "bottom": null,
      "display": null,
      "flex": null,
      "flex_flow": null,
      "grid_area": null,
      "grid_auto_columns": null,
      "grid_auto_flow": null,
      "grid_auto_rows": null,
      "grid_column": null,
      "grid_gap": null,
      "grid_row": null,
      "grid_template_areas": null,
      "grid_template_columns": null,
      "grid_template_rows": null,
      "height": null,
      "justify_content": null,
      "justify_items": null,
      "left": null,
      "margin": null,
      "max_height": null,
      "max_width": null,
      "min_height": null,
      "min_width": null,
      "object_fit": null,
      "object_position": null,
      "order": null,
      "overflow": null,
      "overflow_x": null,
      "overflow_y": null,
      "padding": null,
      "right": null,
      "top": null,
      "visibility": null,
      "width": null
     }
    },
    "72c5bb4b76724dcf8d7b46311d367833": {
     "model_module": "@jupyter-widgets/base",
     "model_module_version": "1.2.0",
     "model_name": "LayoutModel",
     "state": {
      "_model_module": "@jupyter-widgets/base",
      "_model_module_version": "1.2.0",
      "_model_name": "LayoutModel",
      "_view_count": null,
      "_view_module": "@jupyter-widgets/base",
      "_view_module_version": "1.2.0",
      "_view_name": "LayoutView",
      "align_content": null,
      "align_items": null,
      "align_self": null,
      "border": null,
      "bottom": null,
      "display": null,
      "flex": null,
      "flex_flow": null,
      "grid_area": null,
      "grid_auto_columns": null,
      "grid_auto_flow": null,
      "grid_auto_rows": null,
      "grid_column": null,
      "grid_gap": null,
      "grid_row": null,
      "grid_template_areas": null,
      "grid_template_columns": null,
      "grid_template_rows": null,
      "height": null,
      "justify_content": null,
      "justify_items": null,
      "left": null,
      "margin": null,
      "max_height": null,
      "max_width": null,
      "min_height": null,
      "min_width": null,
      "object_fit": null,
      "object_position": null,
      "order": null,
      "overflow": null,
      "overflow_x": null,
      "overflow_y": null,
      "padding": null,
      "right": null,
      "top": null,
      "visibility": null,
      "width": null
     }
    },
    "744c1d0910b44566a58151c3cc46ee07": {
     "model_module": "@jupyter-widgets/base",
     "model_module_version": "1.2.0",
     "model_name": "LayoutModel",
     "state": {
      "_model_module": "@jupyter-widgets/base",
      "_model_module_version": "1.2.0",
      "_model_name": "LayoutModel",
      "_view_count": null,
      "_view_module": "@jupyter-widgets/base",
      "_view_module_version": "1.2.0",
      "_view_name": "LayoutView",
      "align_content": null,
      "align_items": null,
      "align_self": null,
      "border": null,
      "bottom": null,
      "display": null,
      "flex": null,
      "flex_flow": null,
      "grid_area": null,
      "grid_auto_columns": null,
      "grid_auto_flow": null,
      "grid_auto_rows": null,
      "grid_column": null,
      "grid_gap": null,
      "grid_row": null,
      "grid_template_areas": null,
      "grid_template_columns": null,
      "grid_template_rows": null,
      "height": null,
      "justify_content": null,
      "justify_items": null,
      "left": null,
      "margin": null,
      "max_height": null,
      "max_width": null,
      "min_height": null,
      "min_width": null,
      "object_fit": null,
      "object_position": null,
      "order": null,
      "overflow": null,
      "overflow_x": null,
      "overflow_y": null,
      "padding": null,
      "right": null,
      "top": null,
      "visibility": null,
      "width": null
     }
    },
    "76cb6df5cab3425f957f3f051aea6103": {
     "model_module": "@jupyter-widgets/controls",
     "model_module_version": "1.5.0",
     "model_name": "HTMLModel",
     "state": {
      "_dom_classes": [],
      "_model_module": "@jupyter-widgets/controls",
      "_model_module_version": "1.5.0",
      "_model_name": "HTMLModel",
      "_view_count": null,
      "_view_module": "@jupyter-widgets/controls",
      "_view_module_version": "1.5.0",
      "_view_name": "HTMLView",
      "description": "",
      "description_tooltip": null,
      "layout": "IPY_MODEL_96a49fd9de15432eaf30f8038eaf9a79",
      "placeholder": "​",
      "style": "IPY_MODEL_7eb8b4c0c10140a1b937091d9290b0a5",
      "value": "Map: 100%"
     }
    },
    "7b7cb7e48c304ae5a461946cb92b92f6": {
     "model_module": "@jupyter-widgets/controls",
     "model_module_version": "1.5.0",
     "model_name": "HTMLModel",
     "state": {
      "_dom_classes": [],
      "_model_module": "@jupyter-widgets/controls",
      "_model_module_version": "1.5.0",
      "_model_name": "HTMLModel",
      "_view_count": null,
      "_view_module": "@jupyter-widgets/controls",
      "_view_module_version": "1.5.0",
      "_view_name": "HTMLView",
      "description": "",
      "description_tooltip": null,
      "layout": "IPY_MODEL_34727530ec8d4e45a208f7b65c29b84a",
      "placeholder": "​",
      "style": "IPY_MODEL_e120a25e7ef742d3a98f79915d09d27a",
      "value": "Map: 100%"
     }
    },
    "7eb8b4c0c10140a1b937091d9290b0a5": {
     "model_module": "@jupyter-widgets/controls",
     "model_module_version": "1.5.0",
     "model_name": "DescriptionStyleModel",
     "state": {
      "_model_module": "@jupyter-widgets/controls",
      "_model_module_version": "1.5.0",
      "_model_name": "DescriptionStyleModel",
      "_view_count": null,
      "_view_module": "@jupyter-widgets/base",
      "_view_module_version": "1.2.0",
      "_view_name": "StyleView",
      "description_width": ""
     }
    },
    "803f58247ebc4e46acb4b36c3c09bd26": {
     "model_module": "@jupyter-widgets/controls",
     "model_module_version": "1.5.0",
     "model_name": "ProgressStyleModel",
     "state": {
      "_model_module": "@jupyter-widgets/controls",
      "_model_module_version": "1.5.0",
      "_model_name": "ProgressStyleModel",
      "_view_count": null,
      "_view_module": "@jupyter-widgets/base",
      "_view_module_version": "1.2.0",
      "_view_name": "StyleView",
      "bar_color": null,
      "description_width": ""
     }
    },
    "84682392199b484daea8cf56208ebb06": {
     "model_module": "@jupyter-widgets/base",
     "model_module_version": "1.2.0",
     "model_name": "LayoutModel",
     "state": {
      "_model_module": "@jupyter-widgets/base",
      "_model_module_version": "1.2.0",
      "_model_name": "LayoutModel",
      "_view_count": null,
      "_view_module": "@jupyter-widgets/base",
      "_view_module_version": "1.2.0",
      "_view_name": "LayoutView",
      "align_content": null,
      "align_items": null,
      "align_self": null,
      "border": null,
      "bottom": null,
      "display": null,
      "flex": null,
      "flex_flow": null,
      "grid_area": null,
      "grid_auto_columns": null,
      "grid_auto_flow": null,
      "grid_auto_rows": null,
      "grid_column": null,
      "grid_gap": null,
      "grid_row": null,
      "grid_template_areas": null,
      "grid_template_columns": null,
      "grid_template_rows": null,
      "height": null,
      "justify_content": null,
      "justify_items": null,
      "left": null,
      "margin": null,
      "max_height": null,
      "max_width": null,
      "min_height": null,
      "min_width": null,
      "object_fit": null,
      "object_position": null,
      "order": null,
      "overflow": null,
      "overflow_x": null,
      "overflow_y": null,
      "padding": null,
      "right": null,
      "top": null,
      "visibility": null,
      "width": null
     }
    },
    "85edfeabf70a4cb08ee7bd7f3fa58993": {
     "model_module": "@jupyter-widgets/controls",
     "model_module_version": "1.5.0",
     "model_name": "HBoxModel",
     "state": {
      "_dom_classes": [],
      "_model_module": "@jupyter-widgets/controls",
      "_model_module_version": "1.5.0",
      "_model_name": "HBoxModel",
      "_view_count": null,
      "_view_module": "@jupyter-widgets/controls",
      "_view_module_version": "1.5.0",
      "_view_name": "HBoxView",
      "box_style": "",
      "children": [
       "IPY_MODEL_4c4273d90b78468086690cecd37d4e9f",
       "IPY_MODEL_3df6b8d412dc4c4cbb89fa2cd6fcc4c0",
       "IPY_MODEL_5884852775114314879d8b6ed12e3081"
      ],
      "layout": "IPY_MODEL_c39e888e753348a19d8975c0d374eba1"
     }
    },
    "89b8ad1b954b4446badb4fb5960d8f53": {
     "model_module": "@jupyter-widgets/base",
     "model_module_version": "1.2.0",
     "model_name": "LayoutModel",
     "state": {
      "_model_module": "@jupyter-widgets/base",
      "_model_module_version": "1.2.0",
      "_model_name": "LayoutModel",
      "_view_count": null,
      "_view_module": "@jupyter-widgets/base",
      "_view_module_version": "1.2.0",
      "_view_name": "LayoutView",
      "align_content": null,
      "align_items": null,
      "align_self": null,
      "border": null,
      "bottom": null,
      "display": null,
      "flex": null,
      "flex_flow": null,
      "grid_area": null,
      "grid_auto_columns": null,
      "grid_auto_flow": null,
      "grid_auto_rows": null,
      "grid_column": null,
      "grid_gap": null,
      "grid_row": null,
      "grid_template_areas": null,
      "grid_template_columns": null,
      "grid_template_rows": null,
      "height": null,
      "justify_content": null,
      "justify_items": null,
      "left": null,
      "margin": null,
      "max_height": null,
      "max_width": null,
      "min_height": null,
      "min_width": null,
      "object_fit": null,
      "object_position": null,
      "order": null,
      "overflow": null,
      "overflow_x": null,
      "overflow_y": null,
      "padding": null,
      "right": null,
      "top": null,
      "visibility": null,
      "width": null
     }
    },
    "8fe3802333904b19b6eb581f549a7515": {
     "model_module": "@jupyter-widgets/base",
     "model_module_version": "1.2.0",
     "model_name": "LayoutModel",
     "state": {
      "_model_module": "@jupyter-widgets/base",
      "_model_module_version": "1.2.0",
      "_model_name": "LayoutModel",
      "_view_count": null,
      "_view_module": "@jupyter-widgets/base",
      "_view_module_version": "1.2.0",
      "_view_name": "LayoutView",
      "align_content": null,
      "align_items": null,
      "align_self": null,
      "border": null,
      "bottom": null,
      "display": null,
      "flex": null,
      "flex_flow": null,
      "grid_area": null,
      "grid_auto_columns": null,
      "grid_auto_flow": null,
      "grid_auto_rows": null,
      "grid_column": null,
      "grid_gap": null,
      "grid_row": null,
      "grid_template_areas": null,
      "grid_template_columns": null,
      "grid_template_rows": null,
      "height": null,
      "justify_content": null,
      "justify_items": null,
      "left": null,
      "margin": null,
      "max_height": null,
      "max_width": null,
      "min_height": null,
      "min_width": null,
      "object_fit": null,
      "object_position": null,
      "order": null,
      "overflow": null,
      "overflow_x": null,
      "overflow_y": null,
      "padding": null,
      "right": null,
      "top": null,
      "visibility": null,
      "width": null
     }
    },
    "96a49fd9de15432eaf30f8038eaf9a79": {
     "model_module": "@jupyter-widgets/base",
     "model_module_version": "1.2.0",
     "model_name": "LayoutModel",
     "state": {
      "_model_module": "@jupyter-widgets/base",
      "_model_module_version": "1.2.0",
      "_model_name": "LayoutModel",
      "_view_count": null,
      "_view_module": "@jupyter-widgets/base",
      "_view_module_version": "1.2.0",
      "_view_name": "LayoutView",
      "align_content": null,
      "align_items": null,
      "align_self": null,
      "border": null,
      "bottom": null,
      "display": null,
      "flex": null,
      "flex_flow": null,
      "grid_area": null,
      "grid_auto_columns": null,
      "grid_auto_flow": null,
      "grid_auto_rows": null,
      "grid_column": null,
      "grid_gap": null,
      "grid_row": null,
      "grid_template_areas": null,
      "grid_template_columns": null,
      "grid_template_rows": null,
      "height": null,
      "justify_content": null,
      "justify_items": null,
      "left": null,
      "margin": null,
      "max_height": null,
      "max_width": null,
      "min_height": null,
      "min_width": null,
      "object_fit": null,
      "object_position": null,
      "order": null,
      "overflow": null,
      "overflow_x": null,
      "overflow_y": null,
      "padding": null,
      "right": null,
      "top": null,
      "visibility": null,
      "width": null
     }
    },
    "9bbac8a1d9a3475dafeab624ee3eccae": {
     "model_module": "@jupyter-widgets/base",
     "model_module_version": "1.2.0",
     "model_name": "LayoutModel",
     "state": {
      "_model_module": "@jupyter-widgets/base",
      "_model_module_version": "1.2.0",
      "_model_name": "LayoutModel",
      "_view_count": null,
      "_view_module": "@jupyter-widgets/base",
      "_view_module_version": "1.2.0",
      "_view_name": "LayoutView",
      "align_content": null,
      "align_items": null,
      "align_self": null,
      "border": null,
      "bottom": null,
      "display": null,
      "flex": null,
      "flex_flow": null,
      "grid_area": null,
      "grid_auto_columns": null,
      "grid_auto_flow": null,
      "grid_auto_rows": null,
      "grid_column": null,
      "grid_gap": null,
      "grid_row": null,
      "grid_template_areas": null,
      "grid_template_columns": null,
      "grid_template_rows": null,
      "height": null,
      "justify_content": null,
      "justify_items": null,
      "left": null,
      "margin": null,
      "max_height": null,
      "max_width": null,
      "min_height": null,
      "min_width": null,
      "object_fit": null,
      "object_position": null,
      "order": null,
      "overflow": null,
      "overflow_x": null,
      "overflow_y": null,
      "padding": null,
      "right": null,
      "top": null,
      "visibility": null,
      "width": null
     }
    },
    "a1b330077c744577a5e3018656fe092b": {
     "model_module": "@jupyter-widgets/controls",
     "model_module_version": "1.5.0",
     "model_name": "HTMLModel",
     "state": {
      "_dom_classes": [],
      "_model_module": "@jupyter-widgets/controls",
      "_model_module_version": "1.5.0",
      "_model_name": "HTMLModel",
      "_view_count": null,
      "_view_module": "@jupyter-widgets/controls",
      "_view_module_version": "1.5.0",
      "_view_name": "HTMLView",
      "description": "",
      "description_tooltip": null,
      "layout": "IPY_MODEL_9bbac8a1d9a3475dafeab624ee3eccae",
      "placeholder": "​",
      "style": "IPY_MODEL_0e8efce7c2704151babb82ff81649f63",
      "value": " 960/960 [00:00&lt;00:00, 2734.04 examples/s]"
     }
    },
    "a93eb023e7b34a639ea71f00b2f8680a": {
     "model_module": "@jupyter-widgets/base",
     "model_module_version": "1.2.0",
     "model_name": "LayoutModel",
     "state": {
      "_model_module": "@jupyter-widgets/base",
      "_model_module_version": "1.2.0",
      "_model_name": "LayoutModel",
      "_view_count": null,
      "_view_module": "@jupyter-widgets/base",
      "_view_module_version": "1.2.0",
      "_view_name": "LayoutView",
      "align_content": null,
      "align_items": null,
      "align_self": null,
      "border": null,
      "bottom": null,
      "display": null,
      "flex": null,
      "flex_flow": null,
      "grid_area": null,
      "grid_auto_columns": null,
      "grid_auto_flow": null,
      "grid_auto_rows": null,
      "grid_column": null,
      "grid_gap": null,
      "grid_row": null,
      "grid_template_areas": null,
      "grid_template_columns": null,
      "grid_template_rows": null,
      "height": null,
      "justify_content": null,
      "justify_items": null,
      "left": null,
      "margin": null,
      "max_height": null,
      "max_width": null,
      "min_height": null,
      "min_width": null,
      "object_fit": null,
      "object_position": null,
      "order": null,
      "overflow": null,
      "overflow_x": null,
      "overflow_y": null,
      "padding": null,
      "right": null,
      "top": null,
      "visibility": null,
      "width": null
     }
    },
    "ae264fb2dd4042c899ff54058289c756": {
     "model_module": "@jupyter-widgets/base",
     "model_module_version": "1.2.0",
     "model_name": "LayoutModel",
     "state": {
      "_model_module": "@jupyter-widgets/base",
      "_model_module_version": "1.2.0",
      "_model_name": "LayoutModel",
      "_view_count": null,
      "_view_module": "@jupyter-widgets/base",
      "_view_module_version": "1.2.0",
      "_view_name": "LayoutView",
      "align_content": null,
      "align_items": null,
      "align_self": null,
      "border": null,
      "bottom": null,
      "display": null,
      "flex": null,
      "flex_flow": null,
      "grid_area": null,
      "grid_auto_columns": null,
      "grid_auto_flow": null,
      "grid_auto_rows": null,
      "grid_column": null,
      "grid_gap": null,
      "grid_row": null,
      "grid_template_areas": null,
      "grid_template_columns": null,
      "grid_template_rows": null,
      "height": null,
      "justify_content": null,
      "justify_items": null,
      "left": null,
      "margin": null,
      "max_height": null,
      "max_width": null,
      "min_height": null,
      "min_width": null,
      "object_fit": null,
      "object_position": null,
      "order": null,
      "overflow": null,
      "overflow_x": null,
      "overflow_y": null,
      "padding": null,
      "right": null,
      "top": null,
      "visibility": null,
      "width": null
     }
    },
    "b0680bd3c8e24f5e9cc43c81e20d886a": {
     "model_module": "@jupyter-widgets/controls",
     "model_module_version": "1.5.0",
     "model_name": "HTMLModel",
     "state": {
      "_dom_classes": [],
      "_model_module": "@jupyter-widgets/controls",
      "_model_module_version": "1.5.0",
      "_model_name": "HTMLModel",
      "_view_count": null,
      "_view_module": "@jupyter-widgets/controls",
      "_view_module_version": "1.5.0",
      "_view_name": "HTMLView",
      "description": "",
      "description_tooltip": null,
      "layout": "IPY_MODEL_fc7b181471604ebc94b2c561e88cf969",
      "placeholder": "​",
      "style": "IPY_MODEL_de5bd364fdc241c3832b87bf740f8d75",
      "value": " 21293/21293 [00:06&lt;00:00, 2823.54 examples/s]"
     }
    },
    "b19f5ab108be400c95cfc23f43441a78": {
     "model_module": "@jupyter-widgets/controls",
     "model_module_version": "1.5.0",
     "model_name": "HTMLModel",
     "state": {
      "_dom_classes": [],
      "_model_module": "@jupyter-widgets/controls",
      "_model_module_version": "1.5.0",
      "_model_name": "HTMLModel",
      "_view_count": null,
      "_view_module": "@jupyter-widgets/controls",
      "_view_module_version": "1.5.0",
      "_view_name": "HTMLView",
      "description": "",
      "description_tooltip": null,
      "layout": "IPY_MODEL_0d4deda2d5d845e7ba4c45bd8ed562a8",
      "placeholder": "​",
      "style": "IPY_MODEL_34e7013276e34d87a396ffc0987d344a",
      "value": " 2.44G/2.44G [00:19&lt;00:00, 92.0MB/s]"
     }
    },
    "b4590002b0a94011a89e70559b8a0dc8": {
     "model_module": "@jupyter-widgets/base",
     "model_module_version": "1.2.0",
     "model_name": "LayoutModel",
     "state": {
      "_model_module": "@jupyter-widgets/base",
      "_model_module_version": "1.2.0",
      "_model_name": "LayoutModel",
      "_view_count": null,
      "_view_module": "@jupyter-widgets/base",
      "_view_module_version": "1.2.0",
      "_view_name": "LayoutView",
      "align_content": null,
      "align_items": null,
      "align_self": null,
      "border": null,
      "bottom": null,
      "display": null,
      "flex": null,
      "flex_flow": null,
      "grid_area": null,
      "grid_auto_columns": null,
      "grid_auto_flow": null,
      "grid_auto_rows": null,
      "grid_column": null,
      "grid_gap": null,
      "grid_row": null,
      "grid_template_areas": null,
      "grid_template_columns": null,
      "grid_template_rows": null,
      "height": null,
      "justify_content": null,
      "justify_items": null,
      "left": null,
      "margin": null,
      "max_height": null,
      "max_width": null,
      "min_height": null,
      "min_width": null,
      "object_fit": null,
      "object_position": null,
      "order": null,
      "overflow": null,
      "overflow_x": null,
      "overflow_y": null,
      "padding": null,
      "right": null,
      "top": null,
      "visibility": "hidden",
      "width": null
     }
    },
    "b70a4c1dc2014ec197f1e2c8da8e5b62": {
     "model_module": "@jupyter-widgets/controls",
     "model_module_version": "1.5.0",
     "model_name": "HBoxModel",
     "state": {
      "_dom_classes": [],
      "_model_module": "@jupyter-widgets/controls",
      "_model_module_version": "1.5.0",
      "_model_name": "HBoxModel",
      "_view_count": null,
      "_view_module": "@jupyter-widgets/controls",
      "_view_module_version": "1.5.0",
      "_view_name": "HBoxView",
      "box_style": "",
      "children": [
       "IPY_MODEL_fc141c350a6141b495eb074606f2af08",
       "IPY_MODEL_317a7c03332241fe8aa4f83e17944b43",
       "IPY_MODEL_d2b6e6ff15fb40698ee43480322d5868"
      ],
      "layout": "IPY_MODEL_425cd41fb8f440849aa7dd719109c100"
     }
    },
    "b9276c1853794da6a4cf1b5bbf397bcd": {
     "model_module": "@jupyter-widgets/controls",
     "model_module_version": "1.5.0",
     "model_name": "HBoxModel",
     "state": {
      "_dom_classes": [],
      "_model_module": "@jupyter-widgets/controls",
      "_model_module_version": "1.5.0",
      "_model_name": "HBoxModel",
      "_view_count": null,
      "_view_module": "@jupyter-widgets/controls",
      "_view_module_version": "1.5.0",
      "_view_name": "HBoxView",
      "box_style": "",
      "children": [
       "IPY_MODEL_ee897db29a6745e6be7d0c870549aaeb",
       "IPY_MODEL_064c5aae6a5b48de85a6e6cbf97542d5",
       "IPY_MODEL_b19f5ab108be400c95cfc23f43441a78"
      ],
      "layout": "IPY_MODEL_89b8ad1b954b4446badb4fb5960d8f53"
     }
    },
    "c39e888e753348a19d8975c0d374eba1": {
     "model_module": "@jupyter-widgets/base",
     "model_module_version": "1.2.0",
     "model_name": "LayoutModel",
     "state": {
      "_model_module": "@jupyter-widgets/base",
      "_model_module_version": "1.2.0",
      "_model_name": "LayoutModel",
      "_view_count": null,
      "_view_module": "@jupyter-widgets/base",
      "_view_module_version": "1.2.0",
      "_view_name": "LayoutView",
      "align_content": null,
      "align_items": null,
      "align_self": null,
      "border": null,
      "bottom": null,
      "display": null,
      "flex": null,
      "flex_flow": null,
      "grid_area": null,
      "grid_auto_columns": null,
      "grid_auto_flow": null,
      "grid_auto_rows": null,
      "grid_column": null,
      "grid_gap": null,
      "grid_row": null,
      "grid_template_areas": null,
      "grid_template_columns": null,
      "grid_template_rows": null,
      "height": null,
      "justify_content": null,
      "justify_items": null,
      "left": null,
      "margin": null,
      "max_height": null,
      "max_width": null,
      "min_height": null,
      "min_width": null,
      "object_fit": null,
      "object_position": null,
      "order": null,
      "overflow": null,
      "overflow_x": null,
      "overflow_y": null,
      "padding": null,
      "right": null,
      "top": null,
      "visibility": null,
      "width": null
     }
    },
    "c5692bb6be694330bc5bc349dd723e6a": {
     "model_module": "@jupyter-widgets/controls",
     "model_module_version": "1.5.0",
     "model_name": "DescriptionStyleModel",
     "state": {
      "_model_module": "@jupyter-widgets/controls",
      "_model_module_version": "1.5.0",
      "_model_name": "DescriptionStyleModel",
      "_view_count": null,
      "_view_module": "@jupyter-widgets/base",
      "_view_module_version": "1.2.0",
      "_view_name": "StyleView",
      "description_width": ""
     }
    },
    "cc3c349465774d8a9d0f8cdc6d73f635": {
     "model_module": "@jupyter-widgets/controls",
     "model_module_version": "1.5.0",
     "model_name": "ProgressStyleModel",
     "state": {
      "_model_module": "@jupyter-widgets/controls",
      "_model_module_version": "1.5.0",
      "_model_name": "ProgressStyleModel",
      "_view_count": null,
      "_view_module": "@jupyter-widgets/base",
      "_view_module_version": "1.2.0",
      "_view_name": "StyleView",
      "bar_color": null,
      "description_width": ""
     }
    },
    "d12b9d4889a64779a319f4627455faf1": {
     "model_module": "@jupyter-widgets/controls",
     "model_module_version": "1.5.0",
     "model_name": "HBoxModel",
     "state": {
      "_dom_classes": [],
      "_model_module": "@jupyter-widgets/controls",
      "_model_module_version": "1.5.0",
      "_model_name": "HBoxModel",
      "_view_count": null,
      "_view_module": "@jupyter-widgets/controls",
      "_view_module_version": "1.5.0",
      "_view_name": "HBoxView",
      "box_style": "",
      "children": [
       "IPY_MODEL_7b7cb7e48c304ae5a461946cb92b92f6",
       "IPY_MODEL_6864d987db7f44b081bba77f0ed60e1a",
       "IPY_MODEL_a1b330077c744577a5e3018656fe092b"
      ],
      "layout": "IPY_MODEL_b4590002b0a94011a89e70559b8a0dc8"
     }
    },
    "d2b6e6ff15fb40698ee43480322d5868": {
     "model_module": "@jupyter-widgets/controls",
     "model_module_version": "1.5.0",
     "model_name": "HTMLModel",
     "state": {
      "_dom_classes": [],
      "_model_module": "@jupyter-widgets/controls",
      "_model_module_version": "1.5.0",
      "_model_name": "HTMLModel",
      "_view_count": null,
      "_view_module": "@jupyter-widgets/controls",
      "_view_module_version": "1.5.0",
      "_view_name": "HTMLView",
      "description": "",
      "description_tooltip": null,
      "layout": "IPY_MODEL_7236f5a1f4124ccc9244747b421accd2",
      "placeholder": "​",
      "style": "IPY_MODEL_2a853685b53640d98f199177ff9b5728",
      "value": " 942/942 [00:00&lt;00:00, 3049.02 examples/s]"
     }
    },
    "de5bd364fdc241c3832b87bf740f8d75": {
     "model_module": "@jupyter-widgets/controls",
     "model_module_version": "1.5.0",
     "model_name": "DescriptionStyleModel",
     "state": {
      "_model_module": "@jupyter-widgets/controls",
      "_model_module_version": "1.5.0",
      "_model_name": "DescriptionStyleModel",
      "_view_count": null,
      "_view_module": "@jupyter-widgets/base",
      "_view_module_version": "1.2.0",
      "_view_name": "StyleView",
      "description_width": ""
     }
    },
    "e120a25e7ef742d3a98f79915d09d27a": {
     "model_module": "@jupyter-widgets/controls",
     "model_module_version": "1.5.0",
     "model_name": "DescriptionStyleModel",
     "state": {
      "_model_module": "@jupyter-widgets/controls",
      "_model_module_version": "1.5.0",
      "_model_name": "DescriptionStyleModel",
      "_view_count": null,
      "_view_module": "@jupyter-widgets/base",
      "_view_module_version": "1.2.0",
      "_view_name": "StyleView",
      "description_width": ""
     }
    },
    "ee897db29a6745e6be7d0c870549aaeb": {
     "model_module": "@jupyter-widgets/controls",
     "model_module_version": "1.5.0",
     "model_name": "HTMLModel",
     "state": {
      "_dom_classes": [],
      "_model_module": "@jupyter-widgets/controls",
      "_model_module_version": "1.5.0",
      "_model_name": "HTMLModel",
      "_view_count": null,
      "_view_module": "@jupyter-widgets/controls",
      "_view_module_version": "1.5.0",
      "_view_name": "HTMLView",
      "description": "",
      "description_tooltip": null,
      "layout": "IPY_MODEL_72c5bb4b76724dcf8d7b46311d367833",
      "placeholder": "​",
      "style": "IPY_MODEL_c5692bb6be694330bc5bc349dd723e6a",
      "value": "Downloading pytorch_model.bin: 100%"
     }
    },
    "f392e37eadcf4d9cb7d8e362b8b67684": {
     "model_module": "@jupyter-widgets/controls",
     "model_module_version": "1.5.0",
     "model_name": "DescriptionStyleModel",
     "state": {
      "_model_module": "@jupyter-widgets/controls",
      "_model_module_version": "1.5.0",
      "_model_name": "DescriptionStyleModel",
      "_view_count": null,
      "_view_module": "@jupyter-widgets/base",
      "_view_module_version": "1.2.0",
      "_view_name": "StyleView",
      "description_width": ""
     }
    },
    "fc141c350a6141b495eb074606f2af08": {
     "model_module": "@jupyter-widgets/controls",
     "model_module_version": "1.5.0",
     "model_name": "HTMLModel",
     "state": {
      "_dom_classes": [],
      "_model_module": "@jupyter-widgets/controls",
      "_model_module_version": "1.5.0",
      "_model_name": "HTMLModel",
      "_view_count": null,
      "_view_module": "@jupyter-widgets/controls",
      "_view_module_version": "1.5.0",
      "_view_name": "HTMLView",
      "description": "",
      "description_tooltip": null,
      "layout": "IPY_MODEL_744c1d0910b44566a58151c3cc46ee07",
      "placeholder": "​",
      "style": "IPY_MODEL_70160516a5904c5282b9ba13bf2daae6",
      "value": "Map: 100%"
     }
    },
    "fc7b181471604ebc94b2c561e88cf969": {
     "model_module": "@jupyter-widgets/base",
     "model_module_version": "1.2.0",
     "model_name": "LayoutModel",
     "state": {
      "_model_module": "@jupyter-widgets/base",
      "_model_module_version": "1.2.0",
      "_model_name": "LayoutModel",
      "_view_count": null,
      "_view_module": "@jupyter-widgets/base",
      "_view_module_version": "1.2.0",
      "_view_name": "LayoutView",
      "align_content": null,
      "align_items": null,
      "align_self": null,
      "border": null,
      "bottom": null,
      "display": null,
      "flex": null,
      "flex_flow": null,
      "grid_area": null,
      "grid_auto_columns": null,
      "grid_auto_flow": null,
      "grid_auto_rows": null,
      "grid_column": null,
      "grid_gap": null,
      "grid_row": null,
      "grid_template_areas": null,
      "grid_template_columns": null,
      "grid_template_rows": null,
      "height": null,
      "justify_content": null,
      "justify_items": null,
      "left": null,
      "margin": null,
      "max_height": null,
      "max_width": null,
      "min_height": null,
      "min_width": null,
      "object_fit": null,
      "object_position": null,
      "order": null,
      "overflow": null,
      "overflow_x": null,
      "overflow_y": null,
      "padding": null,
      "right": null,
      "top": null,
      "visibility": null,
      "width": null
     }
    }
   }
  }
 },
 "nbformat": 4,
 "nbformat_minor": 4
}
